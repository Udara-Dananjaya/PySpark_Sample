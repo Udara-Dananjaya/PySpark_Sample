{
  "nbformat": 4,
  "nbformat_minor": 0,
  "metadata": {
    "colab": {
      "provenance": []
    },
    "kernelspec": {
      "name": "python3",
      "display_name": "Python 3"
    },
    "language_info": {
      "name": "python"
    }
  },
  "cells": [
    {
      "cell_type": "code",
      "execution_count": null,
      "metadata": {
        "id": "uHHonKk4z865",
        "colab": {
          "base_uri": "https://localhost:8080/"
        },
        "outputId": "d6d14d45-da31-4e40-c018-05b766c10fdf"
      },
      "outputs": [
        {
          "output_type": "stream",
          "name": "stdout",
          "text": [
            "\u001b[2K     \u001b[90m━━━━━━━━━━━━━━━━━━━━━━━━━━━━━━━━━━━━━━━━\u001b[0m \u001b[32m316.9/316.9 MB\u001b[0m \u001b[31m3.1 MB/s\u001b[0m eta \u001b[36m0:00:00\u001b[0m\n",
            "\u001b[?25h  Preparing metadata (setup.py) ... \u001b[?25l\u001b[?25hdone\n",
            "  Building wheel for pyspark (setup.py) ... \u001b[?25l\u001b[?25hdone\n"
          ]
        }
      ],
      "source": [
        "!pip install pyspark --quiet\n",
        "!pip install -U -q PyDrive --quiet\n",
        "!apt install openjdk-8-jdk-headless &> /dev/null"
      ]
    },
    {
      "cell_type": "code",
      "source": [
        "import os\n",
        "os.environ[\"JAVA_HOME\"] = \"/usr/lib/jvm/java-8-openjdk-amd64\""
      ],
      "metadata": {
        "id": "YRSt_YCT0FEL"
      },
      "execution_count": null,
      "outputs": []
    },
    {
      "cell_type": "code",
      "source": [
        "from pyspark.sql import SparkSession\n",
        "\n",
        "spark = SparkSession \\\n",
        "    .builder \\\n",
        "    .appName(\"civComplaints\") \\\n",
        "    .config(\"spark.ui.port\", \"4050\") \\\n",
        "    .getOrCreate()"
      ],
      "metadata": {
        "id": "fEp-58PL0Htk"
      },
      "execution_count": null,
      "outputs": []
    },
    {
      "cell_type": "markdown",
      "source": [
        "# Downloading and preprocessing Cars Data downloaded origianlly from https://perso.telecom-paristech.fr/eagan/class/igr204/datasets\n",
        "# Many of these datasets have been cleaned up by Petra Isenberg, Pierre Dragicevic and Yvonne Jansen"
      ],
      "metadata": {
        "id": "Erav3iu2wr6Y"
      }
    },
    {
      "cell_type": "code",
      "source": [
        "!wget https://jacobceles.github.io/knowledge_repo/colab_and_pyspark/cars.csv"
      ],
      "metadata": {
        "colab": {
          "base_uri": "https://localhost:8080/"
        },
        "id": "s5zvJZlJwqgJ",
        "outputId": "a5ca791e-faa7-4c3e-ff07-2c9b8f21053b"
      },
      "execution_count": null,
      "outputs": [
        {
          "output_type": "stream",
          "name": "stdout",
          "text": [
            "--2023-10-21 05:43:41--  https://jacobceles.github.io/knowledge_repo/colab_and_pyspark/cars.csv\n",
            "Resolving jacobceles.github.io (jacobceles.github.io)... 185.199.110.153, 185.199.109.153, 185.199.111.153, ...\n",
            "Connecting to jacobceles.github.io (jacobceles.github.io)|185.199.110.153|:443... connected.\n",
            "HTTP request sent, awaiting response... 301 Moved Permanently\n",
            "Location: https://jacobcelestine.com/knowledge_repo/colab_and_pyspark/cars.csv [following]\n",
            "--2023-10-21 05:43:41--  https://jacobcelestine.com/knowledge_repo/colab_and_pyspark/cars.csv\n",
            "Resolving jacobcelestine.com (jacobcelestine.com)... 185.199.108.153, 185.199.109.153, 185.199.110.153, ...\n",
            "Connecting to jacobcelestine.com (jacobcelestine.com)|185.199.108.153|:443... connected.\n",
            "HTTP request sent, awaiting response... 200 OK\n",
            "Length: 22608 (22K) [text/csv]\n",
            "Saving to: ‘cars.csv’\n",
            "\n",
            "cars.csv            100%[===================>]  22.08K  --.-KB/s    in 0s      \n",
            "\n",
            "2023-10-21 05:43:41 (55.2 MB/s) - ‘cars.csv’ saved [22608/22608]\n",
            "\n"
          ]
        }
      ]
    },
    {
      "cell_type": "code",
      "source": [
        "!ls"
      ],
      "metadata": {
        "colab": {
          "base_uri": "https://localhost:8080/"
        },
        "id": "Cq9sHEy2w61A",
        "outputId": "96d0ba96-ed78-4d36-e344-3ff8599cf014"
      },
      "execution_count": null,
      "outputs": [
        {
          "output_type": "stream",
          "name": "stdout",
          "text": [
            "cars.csv  sample_data\n"
          ]
        }
      ]
    },
    {
      "cell_type": "markdown",
      "source": [
        "# Load data from csv to a dataframe.\n",
        "# header=True means the first row is a header\n",
        "# sep=';' means the column are seperated using ' '\n",
        "\n",
        "\n",
        "\n",
        "The above command loads our data from into a dataframe (DF). A dataframe is a 2-dimensional labeled data structure with columns of potentially different types."
      ],
      "metadata": {
        "id": "xXdyM-lTxGAw"
      }
    },
    {
      "cell_type": "code",
      "source": [
        "df = spark.read.csv('cars.csv', header=True, sep=\";\")\n",
        "df.show(5)"
      ],
      "metadata": {
        "colab": {
          "base_uri": "https://localhost:8080/"
        },
        "id": "IooO5b8NxFjs",
        "outputId": "c3373ef5-1cae-40fd-da5b-64929d1a9c78"
      },
      "execution_count": null,
      "outputs": [
        {
          "output_type": "stream",
          "name": "stdout",
          "text": [
            "+--------------------+----+---------+------------+----------+------+------------+-----+------+\n",
            "|                 Car| MPG|Cylinders|Displacement|Horsepower|Weight|Acceleration|Model|Origin|\n",
            "+--------------------+----+---------+------------+----------+------+------------+-----+------+\n",
            "|Chevrolet Chevell...|18.0|        8|       307.0|     130.0| 3504.|        12.0|   70|    US|\n",
            "|   Buick Skylark 320|15.0|        8|       350.0|     165.0| 3693.|        11.5|   70|    US|\n",
            "|  Plymouth Satellite|18.0|        8|       318.0|     150.0| 3436.|        11.0|   70|    US|\n",
            "|       AMC Rebel SST|16.0|        8|       304.0|     150.0| 3433.|        12.0|   70|    US|\n",
            "|         Ford Torino|17.0|        8|       302.0|     140.0| 3449.|        10.5|   70|    US|\n",
            "+--------------------+----+---------+------------+----------+------+------------+-----+------+\n",
            "only showing top 5 rows\n",
            "\n"
          ]
        }
      ]
    },
    {
      "cell_type": "markdown",
      "source": [
        "**Viewing the Dataframe**\n",
        "\n",
        "There are a couple of ways to view your dataframe(DF) in PySpark:\n",
        "\n",
        "df.take(5) will return a list of five Row objects.\n",
        "\n",
        "df.collect() will get all of the data from the entire DataFrame. Be really careful when using it, because if you have a large data set, you can easily crash the driver node.\n",
        "\n",
        "df.show() is the most commonly used method to view a dataframe.\n",
        "\n",
        " There are a few parameters we can pass to this method, like the number of rows and truncaiton. For example, df.show(5, False) or df.show(5, truncate=False) will show the entire data wihtout any truncation.\n",
        "\n",
        "df.limit(5) will return a new DataFrame by taking the first n rows. As spark is distributed in nature, there is no guarantee that df.limit() will give you the same results each time.\n"
      ],
      "metadata": {
        "id": "a_MKqz1AyEK4"
      }
    },
    {
      "cell_type": "code",
      "source": [
        "df.show(5, truncate=False)"
      ],
      "metadata": {
        "colab": {
          "base_uri": "https://localhost:8080/"
        },
        "id": "VwB3U2ALyQEc",
        "outputId": "9e4e21e0-0bca-485b-d6f6-638a87dc9f84"
      },
      "execution_count": null,
      "outputs": [
        {
          "output_type": "stream",
          "name": "stdout",
          "text": [
            "+-------------------------+----+---------+------------+----------+------+------------+-----+------+\n",
            "|Car                      |MPG |Cylinders|Displacement|Horsepower|Weight|Acceleration|Model|Origin|\n",
            "+-------------------------+----+---------+------------+----------+------+------------+-----+------+\n",
            "|Chevrolet Chevelle Malibu|18.0|8        |307.0       |130.0     |3504. |12.0        |70   |US    |\n",
            "|Buick Skylark 320        |15.0|8        |350.0       |165.0     |3693. |11.5        |70   |US    |\n",
            "|Plymouth Satellite       |18.0|8        |318.0       |150.0     |3436. |11.0        |70   |US    |\n",
            "|AMC Rebel SST            |16.0|8        |304.0       |150.0     |3433. |12.0        |70   |US    |\n",
            "|Ford Torino              |17.0|8        |302.0       |140.0     |3449. |10.5        |70   |US    |\n",
            "+-------------------------+----+---------+------------+----------+------+------------+-----+------+\n",
            "only showing top 5 rows\n",
            "\n"
          ]
        }
      ]
    },
    {
      "cell_type": "code",
      "source": [
        "df.limit(5)"
      ],
      "metadata": {
        "colab": {
          "base_uri": "https://localhost:8080/"
        },
        "id": "W-ebpm28ycac",
        "outputId": "aa7c6a50-4949-4f0b-cd0b-d08828c58b07"
      },
      "execution_count": null,
      "outputs": [
        {
          "output_type": "execute_result",
          "data": {
            "text/plain": [
              "DataFrame[Car: string, MPG: string, Cylinders: string, Displacement: string, Horsepower: string, Weight: string, Acceleration: string, Model: string, Origin: string]"
            ]
          },
          "metadata": {},
          "execution_count": 8
        }
      ]
    },
    {
      "cell_type": "markdown",
      "source": [
        "**Viewing Dataframe Columns**"
      ],
      "metadata": {
        "id": "FoWrOutSymtx"
      }
    },
    {
      "cell_type": "code",
      "source": [
        "df.columns"
      ],
      "metadata": {
        "colab": {
          "base_uri": "https://localhost:8080/"
        },
        "id": "1OoqCO5LymZZ",
        "outputId": "82cd1055-da0a-4da0-cbf3-52c8d558195e"
      },
      "execution_count": null,
      "outputs": [
        {
          "output_type": "execute_result",
          "data": {
            "text/plain": [
              "['Car',\n",
              " 'MPG',\n",
              " 'Cylinders',\n",
              " 'Displacement',\n",
              " 'Horsepower',\n",
              " 'Weight',\n",
              " 'Acceleration',\n",
              " 'Model',\n",
              " 'Origin']"
            ]
          },
          "metadata": {},
          "execution_count": 9
        }
      ]
    },
    {
      "cell_type": "markdown",
      "source": [
        "**Dataframe Schema**\n",
        "\n",
        "There are two methods commonly used to view the data types of a dataframe:"
      ],
      "metadata": {
        "id": "1rRkNieVyvn7"
      }
    },
    {
      "cell_type": "code",
      "source": [
        "df.dtypes"
      ],
      "metadata": {
        "colab": {
          "base_uri": "https://localhost:8080/"
        },
        "id": "0tg57H7dyx_Q",
        "outputId": "a88d214a-cc13-4d26-cc2a-dbeb13b1c63c"
      },
      "execution_count": null,
      "outputs": [
        {
          "output_type": "execute_result",
          "data": {
            "text/plain": [
              "[('Car', 'string'),\n",
              " ('MPG', 'string'),\n",
              " ('Cylinders', 'string'),\n",
              " ('Displacement', 'string'),\n",
              " ('Horsepower', 'string'),\n",
              " ('Weight', 'string'),\n",
              " ('Acceleration', 'string'),\n",
              " ('Model', 'string'),\n",
              " ('Origin', 'string')]"
            ]
          },
          "metadata": {},
          "execution_count": 10
        }
      ]
    },
    {
      "cell_type": "code",
      "source": [
        "df.printSchema()"
      ],
      "metadata": {
        "colab": {
          "base_uri": "https://localhost:8080/"
        },
        "id": "KAsYtRpzy2cM",
        "outputId": "67cfd2eb-b567-4ff6-fa75-abde10b5f4dd"
      },
      "execution_count": null,
      "outputs": [
        {
          "output_type": "stream",
          "name": "stdout",
          "text": [
            "root\n",
            " |-- Car: string (nullable = true)\n",
            " |-- MPG: string (nullable = true)\n",
            " |-- Cylinders: string (nullable = true)\n",
            " |-- Displacement: string (nullable = true)\n",
            " |-- Horsepower: string (nullable = true)\n",
            " |-- Weight: string (nullable = true)\n",
            " |-- Acceleration: string (nullable = true)\n",
            " |-- Model: string (nullable = true)\n",
            " |-- Origin: string (nullable = true)\n",
            "\n"
          ]
        }
      ]
    },
    {
      "cell_type": "markdown",
      "source": [
        "**Inferring Schema Implicitly**\n",
        "\n",
        "We can use the parameter inferschema=true to infer the input schema automatically while loading the data. An example is shown below:"
      ],
      "metadata": {
        "id": "51mNAGHJzA6e"
      }
    },
    {
      "cell_type": "code",
      "source": [
        "df = spark.read.csv('cars.csv', header=True, sep=\";\", inferSchema=True)\n",
        "df.printSchema()"
      ],
      "metadata": {
        "colab": {
          "base_uri": "https://localhost:8080/"
        },
        "id": "7rb0CZgvzEoK",
        "outputId": "7f162199-b3ce-4d1c-e94a-eb0218f4a298"
      },
      "execution_count": null,
      "outputs": [
        {
          "output_type": "stream",
          "name": "stdout",
          "text": [
            "root\n",
            " |-- Car: string (nullable = true)\n",
            " |-- MPG: double (nullable = true)\n",
            " |-- Cylinders: integer (nullable = true)\n",
            " |-- Displacement: double (nullable = true)\n",
            " |-- Horsepower: double (nullable = true)\n",
            " |-- Weight: decimal(4,0) (nullable = true)\n",
            " |-- Acceleration: double (nullable = true)\n",
            " |-- Model: integer (nullable = true)\n",
            " |-- Origin: string (nullable = true)\n",
            "\n"
          ]
        }
      ]
    },
    {
      "cell_type": "markdown",
      "source": [
        "Defining Schema Explicitly\n"
      ],
      "metadata": {
        "id": "WrznCbqhz6P6"
      }
    },
    {
      "cell_type": "code",
      "source": [
        "from pyspark.sql.types import *\n",
        "df.columns"
      ],
      "metadata": {
        "colab": {
          "base_uri": "https://localhost:8080/"
        },
        "id": "Q_6KsdL7z_AG",
        "outputId": "b936c1a9-bbd3-4ef3-bb35-87213af4ede2"
      },
      "execution_count": null,
      "outputs": [
        {
          "output_type": "execute_result",
          "data": {
            "text/plain": [
              "['Car',\n",
              " 'MPG',\n",
              " 'Cylinders',\n",
              " 'Displacement',\n",
              " 'Horsepower',\n",
              " 'Weight',\n",
              " 'Acceleration',\n",
              " 'Model',\n",
              " 'Origin']"
            ]
          },
          "metadata": {},
          "execution_count": 13
        }
      ]
    },
    {
      "cell_type": "code",
      "source": [
        "# Creating a list of the schema in the format column_name, data_type\n",
        "labels = [\n",
        "     ('Car',StringType()),\n",
        "     ('MPG',DoubleType()),\n",
        "     ('Cylinders',IntegerType()),\n",
        "     ('Displacement',DoubleType()),\n",
        "     ('Horsepower',DoubleType()),\n",
        "     ('Weight',DoubleType()),\n",
        "     ('Acceleration',DoubleType()),\n",
        "     ('Model',IntegerType()),\n",
        "     ('Origin',StringType())\n",
        "]"
      ],
      "metadata": {
        "id": "JUEaIA3C0E01"
      },
      "execution_count": null,
      "outputs": []
    },
    {
      "cell_type": "code",
      "source": [
        "# Creating the schema that will be passed when reading the csv\n",
        "schema = StructType([StructField (x[0], x[1], True) for x in labels])\n",
        "schema"
      ],
      "metadata": {
        "colab": {
          "base_uri": "https://localhost:8080/"
        },
        "id": "zmImE3w-0M9l",
        "outputId": "0599144e-afc4-4b34-8fcd-03a2852c6e59"
      },
      "execution_count": null,
      "outputs": [
        {
          "output_type": "execute_result",
          "data": {
            "text/plain": [
              "StructType([StructField('Car', StringType(), True), StructField('MPG', DoubleType(), True), StructField('Cylinders', IntegerType(), True), StructField('Displacement', DoubleType(), True), StructField('Horsepower', DoubleType(), True), StructField('Weight', DoubleType(), True), StructField('Acceleration', DoubleType(), True), StructField('Model', IntegerType(), True), StructField('Origin', StringType(), True)])"
            ]
          },
          "metadata": {},
          "execution_count": 15
        }
      ]
    },
    {
      "cell_type": "code",
      "source": [
        "df = spark.read.csv('cars.csv', header=True, sep=\";\", schema=schema)\n",
        "df.printSchema()\n",
        "# The schema comes as we gave!"
      ],
      "metadata": {
        "colab": {
          "base_uri": "https://localhost:8080/"
        },
        "id": "LK7Nw6xV0SBk",
        "outputId": "e8b44044-6a30-460c-c53d-5fd6a7c56763"
      },
      "execution_count": null,
      "outputs": [
        {
          "output_type": "stream",
          "name": "stdout",
          "text": [
            "root\n",
            " |-- Car: string (nullable = true)\n",
            " |-- MPG: double (nullable = true)\n",
            " |-- Cylinders: integer (nullable = true)\n",
            " |-- Displacement: double (nullable = true)\n",
            " |-- Horsepower: double (nullable = true)\n",
            " |-- Weight: double (nullable = true)\n",
            " |-- Acceleration: double (nullable = true)\n",
            " |-- Model: integer (nullable = true)\n",
            " |-- Origin: string (nullable = true)\n",
            "\n"
          ]
        }
      ]
    },
    {
      "cell_type": "code",
      "source": [
        "df.show(truncate=False)"
      ],
      "metadata": {
        "colab": {
          "base_uri": "https://localhost:8080/"
        },
        "id": "S87Ngqrg0WoJ",
        "outputId": "e1c5ca94-979e-4430-8aec-342218a6e279"
      },
      "execution_count": null,
      "outputs": [
        {
          "output_type": "stream",
          "name": "stdout",
          "text": [
            "+--------------------------------+----+---------+------------+----------+------+------------+-----+------+\n",
            "|Car                             |MPG |Cylinders|Displacement|Horsepower|Weight|Acceleration|Model|Origin|\n",
            "+--------------------------------+----+---------+------------+----------+------+------------+-----+------+\n",
            "|Chevrolet Chevelle Malibu       |18.0|8        |307.0       |130.0     |3504.0|12.0        |70   |US    |\n",
            "|Buick Skylark 320               |15.0|8        |350.0       |165.0     |3693.0|11.5        |70   |US    |\n",
            "|Plymouth Satellite              |18.0|8        |318.0       |150.0     |3436.0|11.0        |70   |US    |\n",
            "|AMC Rebel SST                   |16.0|8        |304.0       |150.0     |3433.0|12.0        |70   |US    |\n",
            "|Ford Torino                     |17.0|8        |302.0       |140.0     |3449.0|10.5        |70   |US    |\n",
            "|Ford Galaxie 500                |15.0|8        |429.0       |198.0     |4341.0|10.0        |70   |US    |\n",
            "|Chevrolet Impala                |14.0|8        |454.0       |220.0     |4354.0|9.0         |70   |US    |\n",
            "|Plymouth Fury iii               |14.0|8        |440.0       |215.0     |4312.0|8.5         |70   |US    |\n",
            "|Pontiac Catalina                |14.0|8        |455.0       |225.0     |4425.0|10.0        |70   |US    |\n",
            "|AMC Ambassador DPL              |15.0|8        |390.0       |190.0     |3850.0|8.5         |70   |US    |\n",
            "|Citroen DS-21 Pallas            |0.0 |4        |133.0       |115.0     |3090.0|17.5        |70   |Europe|\n",
            "|Chevrolet Chevelle Concours (sw)|0.0 |8        |350.0       |165.0     |4142.0|11.5        |70   |US    |\n",
            "|Ford Torino (sw)                |0.0 |8        |351.0       |153.0     |4034.0|11.0        |70   |US    |\n",
            "|Plymouth Satellite (sw)         |0.0 |8        |383.0       |175.0     |4166.0|10.5        |70   |US    |\n",
            "|AMC Rebel SST (sw)              |0.0 |8        |360.0       |175.0     |3850.0|11.0        |70   |US    |\n",
            "|Dodge Challenger SE             |15.0|8        |383.0       |170.0     |3563.0|10.0        |70   |US    |\n",
            "|Plymouth 'Cuda 340              |14.0|8        |340.0       |160.0     |3609.0|8.0         |70   |US    |\n",
            "|Ford Mustang Boss 302           |0.0 |8        |302.0       |140.0     |3353.0|8.0         |70   |US    |\n",
            "|Chevrolet Monte Carlo           |15.0|8        |400.0       |150.0     |3761.0|9.5         |70   |US    |\n",
            "|Buick Estate Wagon (sw)         |14.0|8        |455.0       |225.0     |3086.0|10.0        |70   |US    |\n",
            "+--------------------------------+----+---------+------------+----------+------+------------+-----+------+\n",
            "only showing top 20 rows\n",
            "\n"
          ]
        }
      ]
    },
    {
      "cell_type": "markdown",
      "source": [
        "**DataFrame Operations on Columns**\n",
        "\n",
        "We will go over the following in this section:\n",
        "\n",
        "Selecting Columns\n",
        "\n",
        "Selecting Multiple Columns\n",
        "\n",
        "Adding New Columns\n",
        "\n",
        "Renaming Columns\n",
        "\n",
        "Grouping By Columns\n",
        "\n",
        "Removing Columns\n",
        "\n",
        "Selecting Columns\n",
        "\n",
        "There are multiple ways to do a select in PySpark. You can find how they differ and how each below:"
      ],
      "metadata": {
        "id": "rmy8LLp00dbD"
      }
    },
    {
      "cell_type": "code",
      "source": [
        "# 1st method\n",
        "# Column name is case sensitive in this usage\n",
        "print(df.Car)\n",
        "print(\"*\"*20)\n",
        "df.select(df.Car).show(truncate=False)"
      ],
      "metadata": {
        "colab": {
          "base_uri": "https://localhost:8080/"
        },
        "id": "MXugqFco0oYM",
        "outputId": "c864990f-427f-4ecd-cc7a-9f1c9e890a8e"
      },
      "execution_count": null,
      "outputs": [
        {
          "output_type": "stream",
          "name": "stdout",
          "text": [
            "Column<'Car'>\n",
            "********************\n",
            "+--------------------------------+\n",
            "|Car                             |\n",
            "+--------------------------------+\n",
            "|Chevrolet Chevelle Malibu       |\n",
            "|Buick Skylark 320               |\n",
            "|Plymouth Satellite              |\n",
            "|AMC Rebel SST                   |\n",
            "|Ford Torino                     |\n",
            "|Ford Galaxie 500                |\n",
            "|Chevrolet Impala                |\n",
            "|Plymouth Fury iii               |\n",
            "|Pontiac Catalina                |\n",
            "|AMC Ambassador DPL              |\n",
            "|Citroen DS-21 Pallas            |\n",
            "|Chevrolet Chevelle Concours (sw)|\n",
            "|Ford Torino (sw)                |\n",
            "|Plymouth Satellite (sw)         |\n",
            "|AMC Rebel SST (sw)              |\n",
            "|Dodge Challenger SE             |\n",
            "|Plymouth 'Cuda 340              |\n",
            "|Ford Mustang Boss 302           |\n",
            "|Chevrolet Monte Carlo           |\n",
            "|Buick Estate Wagon (sw)         |\n",
            "+--------------------------------+\n",
            "only showing top 20 rows\n",
            "\n"
          ]
        }
      ]
    },
    {
      "cell_type": "markdown",
      "source": [
        "**Note: **\n",
        "\n",
        "We can't always use the dot notation because this will break when the column names have reserved names or attributes to the data frame class. Additionally, the column names are case sensitive in nature so we need to always make sure the column names have been changed to a paticular case before using it."
      ],
      "metadata": {
        "id": "AasGjNeF1K8q"
      }
    },
    {
      "cell_type": "code",
      "source": [
        "# 2nd method\n",
        "# Column name is case insensitive here\n",
        "print(df['car'])\n",
        "print(\"*\"*20)\n",
        "df.select(df['car']).show(truncate=False)"
      ],
      "metadata": {
        "colab": {
          "base_uri": "https://localhost:8080/"
        },
        "id": "M__kKHAS1RUh",
        "outputId": "a4d7ca9d-5204-4414-a87b-4237c02473cd"
      },
      "execution_count": null,
      "outputs": [
        {
          "output_type": "stream",
          "name": "stdout",
          "text": [
            "Column<'car'>\n",
            "********************\n",
            "+--------------------------------+\n",
            "|car                             |\n",
            "+--------------------------------+\n",
            "|Chevrolet Chevelle Malibu       |\n",
            "|Buick Skylark 320               |\n",
            "|Plymouth Satellite              |\n",
            "|AMC Rebel SST                   |\n",
            "|Ford Torino                     |\n",
            "|Ford Galaxie 500                |\n",
            "|Chevrolet Impala                |\n",
            "|Plymouth Fury iii               |\n",
            "|Pontiac Catalina                |\n",
            "|AMC Ambassador DPL              |\n",
            "|Citroen DS-21 Pallas            |\n",
            "|Chevrolet Chevelle Concours (sw)|\n",
            "|Ford Torino (sw)                |\n",
            "|Plymouth Satellite (sw)         |\n",
            "|AMC Rebel SST (sw)              |\n",
            "|Dodge Challenger SE             |\n",
            "|Plymouth 'Cuda 340              |\n",
            "|Ford Mustang Boss 302           |\n",
            "|Chevrolet Monte Carlo           |\n",
            "|Buick Estate Wagon (sw)         |\n",
            "+--------------------------------+\n",
            "only showing top 20 rows\n",
            "\n"
          ]
        }
      ]
    },
    {
      "cell_type": "code",
      "source": [
        "# 3rd method\n",
        "# Column name is case insensitive here\n",
        "from pyspark.sql.functions import col\n",
        "df.select(col('car')).show(truncate=False)"
      ],
      "metadata": {
        "colab": {
          "base_uri": "https://localhost:8080/"
        },
        "id": "4DoE2On41e3f",
        "outputId": "2cea177c-0ee2-4017-9f49-35b5a1566fe7"
      },
      "execution_count": null,
      "outputs": [
        {
          "output_type": "stream",
          "name": "stdout",
          "text": [
            "+--------------------------------+\n",
            "|car                             |\n",
            "+--------------------------------+\n",
            "|Chevrolet Chevelle Malibu       |\n",
            "|Buick Skylark 320               |\n",
            "|Plymouth Satellite              |\n",
            "|AMC Rebel SST                   |\n",
            "|Ford Torino                     |\n",
            "|Ford Galaxie 500                |\n",
            "|Chevrolet Impala                |\n",
            "|Plymouth Fury iii               |\n",
            "|Pontiac Catalina                |\n",
            "|AMC Ambassador DPL              |\n",
            "|Citroen DS-21 Pallas            |\n",
            "|Chevrolet Chevelle Concours (sw)|\n",
            "|Ford Torino (sw)                |\n",
            "|Plymouth Satellite (sw)         |\n",
            "|AMC Rebel SST (sw)              |\n",
            "|Dodge Challenger SE             |\n",
            "|Plymouth 'Cuda 340              |\n",
            "|Ford Mustang Boss 302           |\n",
            "|Chevrolet Monte Carlo           |\n",
            "|Buick Estate Wagon (sw)         |\n",
            "+--------------------------------+\n",
            "only showing top 20 rows\n",
            "\n"
          ]
        }
      ]
    },
    {
      "cell_type": "markdown",
      "source": [
        "Selecting Multiple Columns\n"
      ],
      "metadata": {
        "id": "_lCeXqsm1xLT"
      }
    },
    {
      "cell_type": "code",
      "source": [
        "# 1st method\n",
        "# Column name is case sensitive in this usage\n",
        "print(df.Car, df.Cylinders)\n",
        "print(\"*\"*40)\n",
        "df.select(df.Car, df.Cylinders).show(truncate=False)"
      ],
      "metadata": {
        "colab": {
          "base_uri": "https://localhost:8080/"
        },
        "id": "zCsiHcEC1kvM",
        "outputId": "7a294e9a-613c-4156-b37a-3e14f35856ee"
      },
      "execution_count": null,
      "outputs": [
        {
          "output_type": "stream",
          "name": "stdout",
          "text": [
            "Column<'Car'> Column<'Cylinders'>\n",
            "****************************************\n",
            "+--------------------------------+---------+\n",
            "|Car                             |Cylinders|\n",
            "+--------------------------------+---------+\n",
            "|Chevrolet Chevelle Malibu       |8        |\n",
            "|Buick Skylark 320               |8        |\n",
            "|Plymouth Satellite              |8        |\n",
            "|AMC Rebel SST                   |8        |\n",
            "|Ford Torino                     |8        |\n",
            "|Ford Galaxie 500                |8        |\n",
            "|Chevrolet Impala                |8        |\n",
            "|Plymouth Fury iii               |8        |\n",
            "|Pontiac Catalina                |8        |\n",
            "|AMC Ambassador DPL              |8        |\n",
            "|Citroen DS-21 Pallas            |4        |\n",
            "|Chevrolet Chevelle Concours (sw)|8        |\n",
            "|Ford Torino (sw)                |8        |\n",
            "|Plymouth Satellite (sw)         |8        |\n",
            "|AMC Rebel SST (sw)              |8        |\n",
            "|Dodge Challenger SE             |8        |\n",
            "|Plymouth 'Cuda 340              |8        |\n",
            "|Ford Mustang Boss 302           |8        |\n",
            "|Chevrolet Monte Carlo           |8        |\n",
            "|Buick Estate Wagon (sw)         |8        |\n",
            "+--------------------------------+---------+\n",
            "only showing top 20 rows\n",
            "\n"
          ]
        }
      ]
    },
    {
      "cell_type": "markdown",
      "source": [],
      "metadata": {
        "id": "qcbZz5gD170X"
      }
    },
    {
      "cell_type": "code",
      "source": [
        "# 2nd method\n",
        "# Column name is case insensitive in this usage\n",
        "print(df['car'],df['cylinders'])\n",
        "print(\"*\"*40)\n",
        "df.select(df['car'],df['cylinders']).show(truncate=False)"
      ],
      "metadata": {
        "colab": {
          "base_uri": "https://localhost:8080/"
        },
        "id": "Le-mRZFd2A1F",
        "outputId": "3391f5c6-3e5b-4103-f1ae-9019b92dd950"
      },
      "execution_count": null,
      "outputs": [
        {
          "output_type": "stream",
          "name": "stdout",
          "text": [
            "Column<'car'> Column<'cylinders'>\n",
            "****************************************\n",
            "+--------------------------------+---------+\n",
            "|car                             |cylinders|\n",
            "+--------------------------------+---------+\n",
            "|Chevrolet Chevelle Malibu       |8        |\n",
            "|Buick Skylark 320               |8        |\n",
            "|Plymouth Satellite              |8        |\n",
            "|AMC Rebel SST                   |8        |\n",
            "|Ford Torino                     |8        |\n",
            "|Ford Galaxie 500                |8        |\n",
            "|Chevrolet Impala                |8        |\n",
            "|Plymouth Fury iii               |8        |\n",
            "|Pontiac Catalina                |8        |\n",
            "|AMC Ambassador DPL              |8        |\n",
            "|Citroen DS-21 Pallas            |4        |\n",
            "|Chevrolet Chevelle Concours (sw)|8        |\n",
            "|Ford Torino (sw)                |8        |\n",
            "|Plymouth Satellite (sw)         |8        |\n",
            "|AMC Rebel SST (sw)              |8        |\n",
            "|Dodge Challenger SE             |8        |\n",
            "|Plymouth 'Cuda 340              |8        |\n",
            "|Ford Mustang Boss 302           |8        |\n",
            "|Chevrolet Monte Carlo           |8        |\n",
            "|Buick Estate Wagon (sw)         |8        |\n",
            "+--------------------------------+---------+\n",
            "only showing top 20 rows\n",
            "\n"
          ]
        }
      ]
    },
    {
      "cell_type": "markdown",
      "source": [],
      "metadata": {
        "id": "M12OhcFq2O4z"
      }
    },
    {
      "cell_type": "code",
      "source": [
        "# 3rd method\n",
        "# Column name is case insensitive in this usage\n",
        "from pyspark.sql.functions import col\n",
        "df.select(col('car'),col('cylinders')).show(truncate=False)"
      ],
      "metadata": {
        "colab": {
          "base_uri": "https://localhost:8080/"
        },
        "id": "LHmBEc2Z2Oac",
        "outputId": "e6a1c2f5-4d4c-45d1-e0c4-d059fbfe54e0"
      },
      "execution_count": null,
      "outputs": [
        {
          "output_type": "stream",
          "name": "stdout",
          "text": [
            "+--------------------------------+---------+\n",
            "|car                             |cylinders|\n",
            "+--------------------------------+---------+\n",
            "|Chevrolet Chevelle Malibu       |8        |\n",
            "|Buick Skylark 320               |8        |\n",
            "|Plymouth Satellite              |8        |\n",
            "|AMC Rebel SST                   |8        |\n",
            "|Ford Torino                     |8        |\n",
            "|Ford Galaxie 500                |8        |\n",
            "|Chevrolet Impala                |8        |\n",
            "|Plymouth Fury iii               |8        |\n",
            "|Pontiac Catalina                |8        |\n",
            "|AMC Ambassador DPL              |8        |\n",
            "|Citroen DS-21 Pallas            |4        |\n",
            "|Chevrolet Chevelle Concours (sw)|8        |\n",
            "|Ford Torino (sw)                |8        |\n",
            "|Plymouth Satellite (sw)         |8        |\n",
            "|AMC Rebel SST (sw)              |8        |\n",
            "|Dodge Challenger SE             |8        |\n",
            "|Plymouth 'Cuda 340              |8        |\n",
            "|Ford Mustang Boss 302           |8        |\n",
            "|Chevrolet Monte Carlo           |8        |\n",
            "|Buick Estate Wagon (sw)         |8        |\n",
            "+--------------------------------+---------+\n",
            "only showing top 20 rows\n",
            "\n"
          ]
        }
      ]
    },
    {
      "cell_type": "markdown",
      "source": [
        "**Adding New Columns**\n",
        "\n",
        "We will take a look at three cases here:\n",
        "\n",
        "Adding a new column\n",
        "\n",
        "Adding multiple columns\n",
        "\n",
        "Deriving a new column from an exisitng one\n"
      ],
      "metadata": {
        "id": "UqMzhA9E2VBY"
      }
    },
    {
      "cell_type": "code",
      "source": [
        "# CASE 1: Adding a new column'first_column',lit(1))\n",
        "# lit\n",
        "# We will add a new column called 'first_column' at the end\n",
        "from pyspark.sql.functions import lit\n",
        "df = df.withColumn(means literal. It populates the row with the literal value given.\n",
        "# When adding static data / constant values, it is a good practice to use it.\n",
        "df.show(5,truncate=False)"
      ],
      "metadata": {
        "colab": {
          "base_uri": "https://localhost:8080/"
        },
        "id": "0vKIFjaQ2Ush",
        "outputId": "af51bb01-59bf-46d2-873e-8934c9fa0999"
      },
      "execution_count": null,
      "outputs": [
        {
          "output_type": "stream",
          "name": "stdout",
          "text": [
            "+-------------------------+----+---------+------------+----------+------+------------+-----+------+------------+\n",
            "|Car                      |MPG |Cylinders|Displacement|Horsepower|Weight|Acceleration|Model|Origin|first_column|\n",
            "+-------------------------+----+---------+------------+----------+------+------------+-----+------+------------+\n",
            "|Chevrolet Chevelle Malibu|18.0|8        |307.0       |130.0     |3504.0|12.0        |70   |US    |1           |\n",
            "|Buick Skylark 320        |15.0|8        |350.0       |165.0     |3693.0|11.5        |70   |US    |1           |\n",
            "|Plymouth Satellite       |18.0|8        |318.0       |150.0     |3436.0|11.0        |70   |US    |1           |\n",
            "|AMC Rebel SST            |16.0|8        |304.0       |150.0     |3433.0|12.0        |70   |US    |1           |\n",
            "|Ford Torino              |17.0|8        |302.0       |140.0     |3449.0|10.5        |70   |US    |1           |\n",
            "+-------------------------+----+---------+------------+----------+------+------------+-----+------+------------+\n",
            "only showing top 5 rows\n",
            "\n"
          ]
        }
      ]
    },
    {
      "cell_type": "code",
      "source": [
        "# CASE 2: Adding multiple columns\n",
        "# We will add two new columns called 'second_column' and 'third_column' at the end\n",
        "df = df.withColumn('second_column', lit(2)) \\\n",
        "       .withColumn('third_column', lit('Third Column'))\n",
        "# lit means literal. It populates the row with the literal value given.\n",
        "# When adding static data / constant values, it is a good practice to use it.\n",
        "df.show(5,truncate=False)"
      ],
      "metadata": {
        "colab": {
          "base_uri": "https://localhost:8080/"
        },
        "id": "D9h3-mEC2jfg",
        "outputId": "13946b03-434f-4469-c85c-a898effeab16"
      },
      "execution_count": null,
      "outputs": [
        {
          "output_type": "stream",
          "name": "stdout",
          "text": [
            "+-------------------------+----+---------+------------+----------+------+------------+-----+------+------------+-------------+------------+\n",
            "|Car                      |MPG |Cylinders|Displacement|Horsepower|Weight|Acceleration|Model|Origin|first_column|second_column|third_column|\n",
            "+-------------------------+----+---------+------------+----------+------+------------+-----+------+------------+-------------+------------+\n",
            "|Chevrolet Chevelle Malibu|18.0|8        |307.0       |130.0     |3504.0|12.0        |70   |US    |1           |2            |Third Column|\n",
            "|Buick Skylark 320        |15.0|8        |350.0       |165.0     |3693.0|11.5        |70   |US    |1           |2            |Third Column|\n",
            "|Plymouth Satellite       |18.0|8        |318.0       |150.0     |3436.0|11.0        |70   |US    |1           |2            |Third Column|\n",
            "|AMC Rebel SST            |16.0|8        |304.0       |150.0     |3433.0|12.0        |70   |US    |1           |2            |Third Column|\n",
            "|Ford Torino              |17.0|8        |302.0       |140.0     |3449.0|10.5        |70   |US    |1           |2            |Third Column|\n",
            "+-------------------------+----+---------+------------+----------+------+------------+-----+------+------------+-------------+------------+\n",
            "only showing top 5 rows\n",
            "\n"
          ]
        }
      ]
    },
    {
      "cell_type": "code",
      "source": [
        "# CASE 3: Deriving a new column from an exisitng one\n",
        "# We will add a new column called 'car_model' which has the value of car and model appended together with a space in between\n",
        "from pyspark.sql.functions import concat\n",
        "df = df.withColumn('car_model', concat(col(\"Car\"), lit(\" \"), col(\"model\")))\n",
        "# lit means literal. It populates the row with the literal value given.\n",
        "# When adding static data / constant values, it is a good practice to use it.\n",
        "df.show(5,truncate=False)"
      ],
      "metadata": {
        "colab": {
          "base_uri": "https://localhost:8080/"
        },
        "id": "bLuKhuqK2p3S",
        "outputId": "05668c84-a80a-4c0f-c425-3487a9399ec5"
      },
      "execution_count": null,
      "outputs": [
        {
          "output_type": "stream",
          "name": "stdout",
          "text": [
            "+-------------------------+----+---------+------------+----------+------+------------+-----+------+------------+-------------+------------+----------------------------+\n",
            "|Car                      |MPG |Cylinders|Displacement|Horsepower|Weight|Acceleration|Model|Origin|first_column|second_column|third_column|car_model                   |\n",
            "+-------------------------+----+---------+------------+----------+------+------------+-----+------+------------+-------------+------------+----------------------------+\n",
            "|Chevrolet Chevelle Malibu|18.0|8        |307.0       |130.0     |3504.0|12.0        |70   |US    |1           |2            |Third Column|Chevrolet Chevelle Malibu 70|\n",
            "|Buick Skylark 320        |15.0|8        |350.0       |165.0     |3693.0|11.5        |70   |US    |1           |2            |Third Column|Buick Skylark 320 70        |\n",
            "|Plymouth Satellite       |18.0|8        |318.0       |150.0     |3436.0|11.0        |70   |US    |1           |2            |Third Column|Plymouth Satellite 70       |\n",
            "|AMC Rebel SST            |16.0|8        |304.0       |150.0     |3433.0|12.0        |70   |US    |1           |2            |Third Column|AMC Rebel SST 70            |\n",
            "|Ford Torino              |17.0|8        |302.0       |140.0     |3449.0|10.5        |70   |US    |1           |2            |Third Column|Ford Torino 70              |\n",
            "+-------------------------+----+---------+------------+----------+------+------------+-----+------+------------+-------------+------------+----------------------------+\n",
            "only showing top 5 rows\n",
            "\n"
          ]
        }
      ]
    },
    {
      "cell_type": "markdown",
      "source": [
        "**Renaming Columns**\n",
        "\n",
        "We use the withColumnRenamed function to rename a columm in PySpark. Let us see it in action below:"
      ],
      "metadata": {
        "id": "kkZ3BGZL21ty"
      }
    },
    {
      "cell_type": "code",
      "source": [
        "#Renaming a column in PySpark\n",
        "df = df.withColumnRenamed('first_column', 'new_column_one') \\\n",
        "       .withColumnRenamed('second_column', 'new_column_two') \\\n",
        "       .withColumnRenamed('third_column', 'new_column_three')\n",
        "df.show(truncate=False)"
      ],
      "metadata": {
        "colab": {
          "base_uri": "https://localhost:8080/"
        },
        "id": "EOTuU13z24Wt",
        "outputId": "9c6a80f5-4717-449d-d5d6-2139d4204dff"
      },
      "execution_count": null,
      "outputs": [
        {
          "output_type": "stream",
          "name": "stdout",
          "text": [
            "+--------------------------------+----+---------+------------+----------+------+------------+-----+------+--------------+--------------+----------------+-----------------------------------+\n",
            "|Car                             |MPG |Cylinders|Displacement|Horsepower|Weight|Acceleration|Model|Origin|new_column_one|new_column_two|new_column_three|car_model                          |\n",
            "+--------------------------------+----+---------+------------+----------+------+------------+-----+------+--------------+--------------+----------------+-----------------------------------+\n",
            "|Chevrolet Chevelle Malibu       |18.0|8        |307.0       |130.0     |3504.0|12.0        |70   |US    |1             |2             |Third Column    |Chevrolet Chevelle Malibu 70       |\n",
            "|Buick Skylark 320               |15.0|8        |350.0       |165.0     |3693.0|11.5        |70   |US    |1             |2             |Third Column    |Buick Skylark 320 70               |\n",
            "|Plymouth Satellite              |18.0|8        |318.0       |150.0     |3436.0|11.0        |70   |US    |1             |2             |Third Column    |Plymouth Satellite 70              |\n",
            "|AMC Rebel SST                   |16.0|8        |304.0       |150.0     |3433.0|12.0        |70   |US    |1             |2             |Third Column    |AMC Rebel SST 70                   |\n",
            "|Ford Torino                     |17.0|8        |302.0       |140.0     |3449.0|10.5        |70   |US    |1             |2             |Third Column    |Ford Torino 70                     |\n",
            "|Ford Galaxie 500                |15.0|8        |429.0       |198.0     |4341.0|10.0        |70   |US    |1             |2             |Third Column    |Ford Galaxie 500 70                |\n",
            "|Chevrolet Impala                |14.0|8        |454.0       |220.0     |4354.0|9.0         |70   |US    |1             |2             |Third Column    |Chevrolet Impala 70                |\n",
            "|Plymouth Fury iii               |14.0|8        |440.0       |215.0     |4312.0|8.5         |70   |US    |1             |2             |Third Column    |Plymouth Fury iii 70               |\n",
            "|Pontiac Catalina                |14.0|8        |455.0       |225.0     |4425.0|10.0        |70   |US    |1             |2             |Third Column    |Pontiac Catalina 70                |\n",
            "|AMC Ambassador DPL              |15.0|8        |390.0       |190.0     |3850.0|8.5         |70   |US    |1             |2             |Third Column    |AMC Ambassador DPL 70              |\n",
            "|Citroen DS-21 Pallas            |0.0 |4        |133.0       |115.0     |3090.0|17.5        |70   |Europe|1             |2             |Third Column    |Citroen DS-21 Pallas 70            |\n",
            "|Chevrolet Chevelle Concours (sw)|0.0 |8        |350.0       |165.0     |4142.0|11.5        |70   |US    |1             |2             |Third Column    |Chevrolet Chevelle Concours (sw) 70|\n",
            "|Ford Torino (sw)                |0.0 |8        |351.0       |153.0     |4034.0|11.0        |70   |US    |1             |2             |Third Column    |Ford Torino (sw) 70                |\n",
            "|Plymouth Satellite (sw)         |0.0 |8        |383.0       |175.0     |4166.0|10.5        |70   |US    |1             |2             |Third Column    |Plymouth Satellite (sw) 70         |\n",
            "|AMC Rebel SST (sw)              |0.0 |8        |360.0       |175.0     |3850.0|11.0        |70   |US    |1             |2             |Third Column    |AMC Rebel SST (sw) 70              |\n",
            "|Dodge Challenger SE             |15.0|8        |383.0       |170.0     |3563.0|10.0        |70   |US    |1             |2             |Third Column    |Dodge Challenger SE 70             |\n",
            "|Plymouth 'Cuda 340              |14.0|8        |340.0       |160.0     |3609.0|8.0         |70   |US    |1             |2             |Third Column    |Plymouth 'Cuda 340 70              |\n",
            "|Ford Mustang Boss 302           |0.0 |8        |302.0       |140.0     |3353.0|8.0         |70   |US    |1             |2             |Third Column    |Ford Mustang Boss 302 70           |\n",
            "|Chevrolet Monte Carlo           |15.0|8        |400.0       |150.0     |3761.0|9.5         |70   |US    |1             |2             |Third Column    |Chevrolet Monte Carlo 70           |\n",
            "|Buick Estate Wagon (sw)         |14.0|8        |455.0       |225.0     |3086.0|10.0        |70   |US    |1             |2             |Third Column    |Buick Estate Wagon (sw) 70         |\n",
            "+--------------------------------+----+---------+------------+----------+------+------------+-----+------+--------------+--------------+----------------+-----------------------------------+\n",
            "only showing top 20 rows\n",
            "\n"
          ]
        }
      ]
    },
    {
      "cell_type": "markdown",
      "source": [
        "Grouping By Columns\n",
        "\n",
        "Here, we see the Dataframe API way of grouping values. We will discuss how to:\n",
        "\n",
        "Group By a single column\n",
        "\n",
        "Group By multiple columns"
      ],
      "metadata": {
        "id": "PH3O15Yr3EMx"
      }
    },
    {
      "cell_type": "code",
      "source": [
        "# Group By a column in PySpark\n",
        "df.groupBy('Origin').count().show(5)"
      ],
      "metadata": {
        "colab": {
          "base_uri": "https://localhost:8080/"
        },
        "id": "mrp9Ad-q3Fay",
        "outputId": "7d57ddce-e86b-40d1-c9ac-2a0c1964bbbb"
      },
      "execution_count": null,
      "outputs": [
        {
          "output_type": "stream",
          "name": "stdout",
          "text": [
            "+------+-----+\n",
            "|Origin|count|\n",
            "+------+-----+\n",
            "|Europe|   73|\n",
            "|    US|  254|\n",
            "| Japan|   79|\n",
            "+------+-----+\n",
            "\n"
          ]
        }
      ]
    },
    {
      "cell_type": "code",
      "source": [
        "# Group By multiple columns in PySpark\n",
        "df.groupBy('Origin', 'Model').count().show(5)"
      ],
      "metadata": {
        "colab": {
          "base_uri": "https://localhost:8080/"
        },
        "id": "BAzAgalw3SZF",
        "outputId": "9f06e5c1-0fe0-4143-e7c3-0c717d8742d3"
      },
      "execution_count": null,
      "outputs": [
        {
          "output_type": "stream",
          "name": "stdout",
          "text": [
            "+------+-----+-----+\n",
            "|Origin|Model|count|\n",
            "+------+-----+-----+\n",
            "|Europe|   71|    5|\n",
            "|Europe|   80|    9|\n",
            "|Europe|   79|    4|\n",
            "| Japan|   75|    4|\n",
            "|    US|   72|   18|\n",
            "+------+-----+-----+\n",
            "only showing top 5 rows\n",
            "\n"
          ]
        }
      ]
    },
    {
      "cell_type": "markdown",
      "source": [
        "Removing Columns"
      ],
      "metadata": {
        "id": "PBLaQBpd3YCF"
      }
    },
    {
      "cell_type": "code",
      "source": [
        "#Remove columns in PySpark\n",
        "df = df.drop('new_column_one')\n",
        "df.show(5,truncate=False)"
      ],
      "metadata": {
        "colab": {
          "base_uri": "https://localhost:8080/"
        },
        "id": "zlwagAGC3WW5",
        "outputId": "0b2133ed-3289-474e-fe02-46e2f6339d27"
      },
      "execution_count": null,
      "outputs": [
        {
          "output_type": "stream",
          "name": "stdout",
          "text": [
            "+-------------------------+----+---------+------------+----------+------+------------+-----+------+--------------+----------------+----------------------------+\n",
            "|Car                      |MPG |Cylinders|Displacement|Horsepower|Weight|Acceleration|Model|Origin|new_column_two|new_column_three|car_model                   |\n",
            "+-------------------------+----+---------+------------+----------+------+------------+-----+------+--------------+----------------+----------------------------+\n",
            "|Chevrolet Chevelle Malibu|18.0|8        |307.0       |130.0     |3504.0|12.0        |70   |US    |2             |Third Column    |Chevrolet Chevelle Malibu 70|\n",
            "|Buick Skylark 320        |15.0|8        |350.0       |165.0     |3693.0|11.5        |70   |US    |2             |Third Column    |Buick Skylark 320 70        |\n",
            "|Plymouth Satellite       |18.0|8        |318.0       |150.0     |3436.0|11.0        |70   |US    |2             |Third Column    |Plymouth Satellite 70       |\n",
            "|AMC Rebel SST            |16.0|8        |304.0       |150.0     |3433.0|12.0        |70   |US    |2             |Third Column    |AMC Rebel SST 70            |\n",
            "|Ford Torino              |17.0|8        |302.0       |140.0     |3449.0|10.5        |70   |US    |2             |Third Column    |Ford Torino 70              |\n",
            "+-------------------------+----+---------+------------+----------+------+------------+-----+------+--------------+----------------+----------------------------+\n",
            "only showing top 5 rows\n",
            "\n"
          ]
        }
      ]
    },
    {
      "cell_type": "code",
      "source": [
        "#Remove multiple columnss in one go\n",
        "df = df.drop('new_column_two') \\\n",
        "       .drop('new_column_three')\n",
        "df.show(5,truncate=False)"
      ],
      "metadata": {
        "colab": {
          "base_uri": "https://localhost:8080/"
        },
        "id": "Ei5HhGdN3ckU",
        "outputId": "da2c9d14-829e-4ddf-a395-c9e25845cabf"
      },
      "execution_count": null,
      "outputs": [
        {
          "output_type": "stream",
          "name": "stdout",
          "text": [
            "+-------------------------+----+---------+------------+----------+------+------------+-----+------+----------------------------+\n",
            "|Car                      |MPG |Cylinders|Displacement|Horsepower|Weight|Acceleration|Model|Origin|car_model                   |\n",
            "+-------------------------+----+---------+------------+----------+------+------------+-----+------+----------------------------+\n",
            "|Chevrolet Chevelle Malibu|18.0|8        |307.0       |130.0     |3504.0|12.0        |70   |US    |Chevrolet Chevelle Malibu 70|\n",
            "|Buick Skylark 320        |15.0|8        |350.0       |165.0     |3693.0|11.5        |70   |US    |Buick Skylark 320 70        |\n",
            "|Plymouth Satellite       |18.0|8        |318.0       |150.0     |3436.0|11.0        |70   |US    |Plymouth Satellite 70       |\n",
            "|AMC Rebel SST            |16.0|8        |304.0       |150.0     |3433.0|12.0        |70   |US    |AMC Rebel SST 70            |\n",
            "|Ford Torino              |17.0|8        |302.0       |140.0     |3449.0|10.5        |70   |US    |Ford Torino 70              |\n",
            "+-------------------------+----+---------+------------+----------+------+------------+-----+------+----------------------------+\n",
            "only showing top 5 rows\n",
            "\n"
          ]
        }
      ]
    },
    {
      "cell_type": "markdown",
      "source": [
        "DataFrame Operations on Rows¶\n",
        "We will discuss the follwoing in this section:\n",
        "\n",
        "Filtering Rows\n",
        "\n",
        "Get Distinct Rows\n",
        "\n",
        "Sorting Rows\n",
        "\n",
        "Union Dataframes\n"
      ],
      "metadata": {
        "id": "FH20JvPb3zA-"
      }
    },
    {
      "cell_type": "code",
      "source": [
        "# Filtering rows in PySpark\n",
        "total_count = df.count()\n",
        "print(\"TOTAL RECORD COUNT: \" + str(total_count))\n",
        "europe_filtered_count = df.filter(col('Origin')=='Europe').count()\n",
        "print(\"EUROPE FILTERED RECORD COUNT: \" + str(europe_filtered_count))\n",
        "df.filter(col('Origin')=='Europe').show(truncate=False)"
      ],
      "metadata": {
        "colab": {
          "base_uri": "https://localhost:8080/"
        },
        "id": "Lsfb4wjB3vbo",
        "outputId": "0cf2ba80-ef2a-44a3-a824-a1990a5bf2fd"
      },
      "execution_count": null,
      "outputs": [
        {
          "output_type": "stream",
          "name": "stdout",
          "text": [
            "TOTAL RECORD COUNT: 406\n",
            "EUROPE FILTERED RECORD COUNT: 73\n",
            "+----------------------------+----+---------+------------+----------+------+------------+-----+------+-------------------------------+\n",
            "|Car                         |MPG |Cylinders|Displacement|Horsepower|Weight|Acceleration|Model|Origin|car_model                      |\n",
            "+----------------------------+----+---------+------------+----------+------+------------+-----+------+-------------------------------+\n",
            "|Citroen DS-21 Pallas        |0.0 |4        |133.0       |115.0     |3090.0|17.5        |70   |Europe|Citroen DS-21 Pallas 70        |\n",
            "|Volkswagen 1131 Deluxe Sedan|26.0|4        |97.0        |46.0      |1835.0|20.5        |70   |Europe|Volkswagen 1131 Deluxe Sedan 70|\n",
            "|Peugeot 504                 |25.0|4        |110.0       |87.0      |2672.0|17.5        |70   |Europe|Peugeot 504 70                 |\n",
            "|Audi 100 LS                 |24.0|4        |107.0       |90.0      |2430.0|14.5        |70   |Europe|Audi 100 LS 70                 |\n",
            "|Saab 99e                    |25.0|4        |104.0       |95.0      |2375.0|17.5        |70   |Europe|Saab 99e 70                    |\n",
            "|BMW 2002                    |26.0|4        |121.0       |113.0     |2234.0|12.5        |70   |Europe|BMW 2002 70                    |\n",
            "|Volkswagen Super Beetle 117 |0.0 |4        |97.0        |48.0      |1978.0|20.0        |71   |Europe|Volkswagen Super Beetle 117 71 |\n",
            "|Opel 1900                   |28.0|4        |116.0       |90.0      |2123.0|14.0        |71   |Europe|Opel 1900 71                   |\n",
            "|Peugeot 304                 |30.0|4        |79.0        |70.0      |2074.0|19.5        |71   |Europe|Peugeot 304 71                 |\n",
            "|Fiat 124B                   |30.0|4        |88.0        |76.0      |2065.0|14.5        |71   |Europe|Fiat 124B 71                   |\n",
            "|Volkswagen Model 111        |27.0|4        |97.0        |60.0      |1834.0|19.0        |71   |Europe|Volkswagen Model 111 71        |\n",
            "|Volkswagen Type 3           |23.0|4        |97.0        |54.0      |2254.0|23.5        |72   |Europe|Volkswagen Type 3 72           |\n",
            "|Volvo 145e (sw)             |18.0|4        |121.0       |112.0     |2933.0|14.5        |72   |Europe|Volvo 145e (sw) 72             |\n",
            "|Volkswagen 411 (sw)         |22.0|4        |121.0       |76.0      |2511.0|18.0        |72   |Europe|Volkswagen 411 (sw) 72         |\n",
            "|Peugeot 504 (sw)            |21.0|4        |120.0       |87.0      |2979.0|19.5        |72   |Europe|Peugeot 504 (sw) 72            |\n",
            "|Renault 12 (sw)             |26.0|4        |96.0        |69.0      |2189.0|18.0        |72   |Europe|Renault 12 (sw) 72             |\n",
            "|Volkswagen Super Beetle     |26.0|4        |97.0        |46.0      |1950.0|21.0        |73   |Europe|Volkswagen Super Beetle 73     |\n",
            "|Fiat 124 Sport Coupe        |26.0|4        |98.0        |90.0      |2265.0|15.5        |73   |Europe|Fiat 124 Sport Coupe 73        |\n",
            "|Fiat 128                    |29.0|4        |68.0        |49.0      |1867.0|19.5        |73   |Europe|Fiat 128 73                    |\n",
            "|Opel Manta                  |24.0|4        |116.0       |75.0      |2158.0|15.5        |73   |Europe|Opel Manta 73                  |\n",
            "+----------------------------+----+---------+------------+----------+------+------------+-----+------+-------------------------------+\n",
            "only showing top 20 rows\n",
            "\n"
          ]
        }
      ]
    },
    {
      "cell_type": "code",
      "source": [
        "# Filtering rows in PySpark based on Multiple conditions\n",
        "total_count = df.count()\n",
        "print(\"TOTAL RECORD COUNT: \" + str(total_count))\n",
        "europe_filtered_count = df.filter((col('Origin')=='Europe') &\n",
        "                                  (col('Cylinders')==4)).count() # Two conditions added here\n",
        "print(\"EUROPE FILTERED RECORD COUNT: \" + str(europe_filtered_count))\n",
        "df.filter(col('Origin')=='Europe').show(truncate=False)"
      ],
      "metadata": {
        "colab": {
          "base_uri": "https://localhost:8080/"
        },
        "id": "RsHCOjmu4GBu",
        "outputId": "b8ab47d9-db4f-48c2-eae7-0d5140709e72"
      },
      "execution_count": null,
      "outputs": [
        {
          "output_type": "stream",
          "name": "stdout",
          "text": [
            "TOTAL RECORD COUNT: 406\n",
            "EUROPE FILTERED RECORD COUNT: 66\n",
            "+----------------------------+----+---------+------------+----------+------+------------+-----+------+-------------------------------+\n",
            "|Car                         |MPG |Cylinders|Displacement|Horsepower|Weight|Acceleration|Model|Origin|car_model                      |\n",
            "+----------------------------+----+---------+------------+----------+------+------------+-----+------+-------------------------------+\n",
            "|Citroen DS-21 Pallas        |0.0 |4        |133.0       |115.0     |3090.0|17.5        |70   |Europe|Citroen DS-21 Pallas 70        |\n",
            "|Volkswagen 1131 Deluxe Sedan|26.0|4        |97.0        |46.0      |1835.0|20.5        |70   |Europe|Volkswagen 1131 Deluxe Sedan 70|\n",
            "|Peugeot 504                 |25.0|4        |110.0       |87.0      |2672.0|17.5        |70   |Europe|Peugeot 504 70                 |\n",
            "|Audi 100 LS                 |24.0|4        |107.0       |90.0      |2430.0|14.5        |70   |Europe|Audi 100 LS 70                 |\n",
            "|Saab 99e                    |25.0|4        |104.0       |95.0      |2375.0|17.5        |70   |Europe|Saab 99e 70                    |\n",
            "|BMW 2002                    |26.0|4        |121.0       |113.0     |2234.0|12.5        |70   |Europe|BMW 2002 70                    |\n",
            "|Volkswagen Super Beetle 117 |0.0 |4        |97.0        |48.0      |1978.0|20.0        |71   |Europe|Volkswagen Super Beetle 117 71 |\n",
            "|Opel 1900                   |28.0|4        |116.0       |90.0      |2123.0|14.0        |71   |Europe|Opel 1900 71                   |\n",
            "|Peugeot 304                 |30.0|4        |79.0        |70.0      |2074.0|19.5        |71   |Europe|Peugeot 304 71                 |\n",
            "|Fiat 124B                   |30.0|4        |88.0        |76.0      |2065.0|14.5        |71   |Europe|Fiat 124B 71                   |\n",
            "|Volkswagen Model 111        |27.0|4        |97.0        |60.0      |1834.0|19.0        |71   |Europe|Volkswagen Model 111 71        |\n",
            "|Volkswagen Type 3           |23.0|4        |97.0        |54.0      |2254.0|23.5        |72   |Europe|Volkswagen Type 3 72           |\n",
            "|Volvo 145e (sw)             |18.0|4        |121.0       |112.0     |2933.0|14.5        |72   |Europe|Volvo 145e (sw) 72             |\n",
            "|Volkswagen 411 (sw)         |22.0|4        |121.0       |76.0      |2511.0|18.0        |72   |Europe|Volkswagen 411 (sw) 72         |\n",
            "|Peugeot 504 (sw)            |21.0|4        |120.0       |87.0      |2979.0|19.5        |72   |Europe|Peugeot 504 (sw) 72            |\n",
            "|Renault 12 (sw)             |26.0|4        |96.0        |69.0      |2189.0|18.0        |72   |Europe|Renault 12 (sw) 72             |\n",
            "|Volkswagen Super Beetle     |26.0|4        |97.0        |46.0      |1950.0|21.0        |73   |Europe|Volkswagen Super Beetle 73     |\n",
            "|Fiat 124 Sport Coupe        |26.0|4        |98.0        |90.0      |2265.0|15.5        |73   |Europe|Fiat 124 Sport Coupe 73        |\n",
            "|Fiat 128                    |29.0|4        |68.0        |49.0      |1867.0|19.5        |73   |Europe|Fiat 128 73                    |\n",
            "|Opel Manta                  |24.0|4        |116.0       |75.0      |2158.0|15.5        |73   |Europe|Opel Manta 73                  |\n",
            "+----------------------------+----+---------+------------+----------+------+------------+-----+------+-------------------------------+\n",
            "only showing top 20 rows\n",
            "\n"
          ]
        }
      ]
    },
    {
      "cell_type": "code",
      "source": [
        "#Get Unique Rows in PySpark\n",
        "df.select('Origin').distinct().show()"
      ],
      "metadata": {
        "colab": {
          "base_uri": "https://localhost:8080/"
        },
        "id": "IhWT3EE14LeU",
        "outputId": "b6cfd831-abbc-4014-d640-468c15c0e79a"
      },
      "execution_count": null,
      "outputs": [
        {
          "output_type": "stream",
          "name": "stdout",
          "text": [
            "+------+\n",
            "|Origin|\n",
            "+------+\n",
            "|Europe|\n",
            "|    US|\n",
            "| Japan|\n",
            "+------+\n",
            "\n"
          ]
        }
      ]
    },
    {
      "cell_type": "code",
      "source": [
        "#Get Unique Rows in PySpark based on mutliple columns\n",
        "df.select('Origin','model').distinct().show()"
      ],
      "metadata": {
        "colab": {
          "base_uri": "https://localhost:8080/"
        },
        "id": "BpJcshev4Qrr",
        "outputId": "65746e5f-cc68-47d4-97f8-5ee7d11a0377"
      },
      "execution_count": null,
      "outputs": [
        {
          "output_type": "stream",
          "name": "stdout",
          "text": [
            "+------+-----+\n",
            "|Origin|model|\n",
            "+------+-----+\n",
            "|Europe|   71|\n",
            "|Europe|   80|\n",
            "|Europe|   79|\n",
            "| Japan|   75|\n",
            "|    US|   72|\n",
            "|    US|   80|\n",
            "|Europe|   74|\n",
            "| Japan|   79|\n",
            "|Europe|   76|\n",
            "|    US|   75|\n",
            "| Japan|   77|\n",
            "|    US|   82|\n",
            "| Japan|   80|\n",
            "| Japan|   78|\n",
            "|    US|   78|\n",
            "|Europe|   75|\n",
            "|    US|   71|\n",
            "|    US|   77|\n",
            "| Japan|   70|\n",
            "| Japan|   71|\n",
            "+------+-----+\n",
            "only showing top 20 rows\n",
            "\n"
          ]
        }
      ]
    },
    {
      "cell_type": "code",
      "source": [
        "# Sort Rows in PySpark\n",
        "# By default the data will be sorted in ascending order\n",
        "df.orderBy('Cylinders').show(truncate=False)"
      ],
      "metadata": {
        "colab": {
          "base_uri": "https://localhost:8080/"
        },
        "id": "yrjxqwbT4bKv",
        "outputId": "a2cde9cf-907f-477a-eb81-01c97fc680db"
      },
      "execution_count": null,
      "outputs": [
        {
          "output_type": "stream",
          "name": "stdout",
          "text": [
            "+----------------------------+----+---------+------------+----------+------+------------+-----+------+-------------------------------+\n",
            "|Car                         |MPG |Cylinders|Displacement|Horsepower|Weight|Acceleration|Model|Origin|car_model                      |\n",
            "+----------------------------+----+---------+------------+----------+------+------------+-----+------+-------------------------------+\n",
            "|Mazda RX2 Coupe             |19.0|3        |70.0        |97.0      |2330.0|13.5        |72   |Japan |Mazda RX2 Coupe 72             |\n",
            "|Mazda RX3                   |18.0|3        |70.0        |90.0      |2124.0|13.5        |73   |Japan |Mazda RX3 73                   |\n",
            "|Mazda RX-4                  |21.5|3        |80.0        |110.0     |2720.0|13.5        |77   |Japan |Mazda RX-4 77                  |\n",
            "|Mazda RX-7 GS               |23.7|3        |70.0        |100.0     |2420.0|12.5        |80   |Japan |Mazda RX-7 GS 80               |\n",
            "|Datsun 510 (sw)             |28.0|4        |97.0        |92.0      |2288.0|17.0        |72   |Japan |Datsun 510 (sw) 72             |\n",
            "|Mercury Capri 2000          |23.0|4        |122.0       |86.0      |2220.0|14.0        |71   |US    |Mercury Capri 2000 71          |\n",
            "|Chevrolet Vega (sw)         |22.0|4        |140.0       |72.0      |2408.0|19.0        |71   |US    |Chevrolet Vega (sw) 71         |\n",
            "|Opel 1900                   |28.0|4        |116.0       |90.0      |2123.0|14.0        |71   |Europe|Opel 1900 71                   |\n",
            "|Volkswagen 1131 Deluxe Sedan|26.0|4        |97.0        |46.0      |1835.0|20.5        |70   |Europe|Volkswagen 1131 Deluxe Sedan 70|\n",
            "|Peugeot 304                 |30.0|4        |79.0        |70.0      |2074.0|19.5        |71   |Europe|Peugeot 304 71                 |\n",
            "|Audi 100 LS                 |24.0|4        |107.0       |90.0      |2430.0|14.5        |70   |Europe|Audi 100 LS 70                 |\n",
            "|Fiat 124B                   |30.0|4        |88.0        |76.0      |2065.0|14.5        |71   |Europe|Fiat 124B 71                   |\n",
            "|BMW 2002                    |26.0|4        |121.0       |113.0     |2234.0|12.5        |70   |Europe|BMW 2002 70                    |\n",
            "|Toyota Corolla 1200         |31.0|4        |71.0        |65.0      |1773.0|19.0        |71   |Japan |Toyota Corolla 1200 71         |\n",
            "|Chevrolet Vega 2300         |28.0|4        |140.0       |90.0      |2264.0|15.5        |71   |US    |Chevrolet Vega 2300 71         |\n",
            "|Datsun 1200                 |35.0|4        |72.0        |69.0      |1613.0|18.0        |71   |Japan |Datsun 1200 71                 |\n",
            "|Ford Pinto                  |25.0|4        |98.0        |0.0       |2046.0|19.0        |71   |US    |Ford Pinto 71                  |\n",
            "|Volkswagen Model 111        |27.0|4        |97.0        |60.0      |1834.0|19.0        |71   |Europe|Volkswagen Model 111 71        |\n",
            "|Dodge Colt Hardtop          |25.0|4        |97.5        |80.0      |2126.0|17.0        |72   |US    |Dodge Colt Hardtop 72          |\n",
            "|Volkswagen Type 3           |23.0|4        |97.0        |54.0      |2254.0|23.5        |72   |Europe|Volkswagen Type 3 72           |\n",
            "+----------------------------+----+---------+------------+----------+------+------------+-----+------+-------------------------------+\n",
            "only showing top 20 rows\n",
            "\n"
          ]
        }
      ]
    },
    {
      "cell_type": "code",
      "source": [
        "# To change the sorting order, you can use the ascending parameter\n",
        "df.orderBy('Cylinders', ascending=False).show(truncate=False)"
      ],
      "metadata": {
        "colab": {
          "base_uri": "https://localhost:8080/"
        },
        "id": "wYVxqjZP4h1L",
        "outputId": "bdb85200-d979-4fa2-9c17-652590b12721"
      },
      "execution_count": null,
      "outputs": [
        {
          "output_type": "stream",
          "name": "stdout",
          "text": [
            "+-------------------------+----+---------+------------+----------+------+------------+-----+------+----------------------------+\n",
            "|Car                      |MPG |Cylinders|Displacement|Horsepower|Weight|Acceleration|Model|Origin|car_model                   |\n",
            "+-------------------------+----+---------+------------+----------+------+------------+-----+------+----------------------------+\n",
            "|Plymouth 'Cuda 340       |14.0|8        |340.0       |160.0     |3609.0|8.0         |70   |US    |Plymouth 'Cuda 340 70       |\n",
            "|Pontiac Safari (sw)      |13.0|8        |400.0       |175.0     |5140.0|12.0        |71   |US    |Pontiac Safari (sw) 71      |\n",
            "|Ford Mustang Boss 302    |0.0 |8        |302.0       |140.0     |3353.0|8.0         |70   |US    |Ford Mustang Boss 302 70    |\n",
            "|Buick Skylark 320        |15.0|8        |350.0       |165.0     |3693.0|11.5        |70   |US    |Buick Skylark 320 70        |\n",
            "|Chevrolet Monte Carlo    |15.0|8        |400.0       |150.0     |3761.0|9.5         |70   |US    |Chevrolet Monte Carlo 70    |\n",
            "|AMC Rebel SST            |16.0|8        |304.0       |150.0     |3433.0|12.0        |70   |US    |AMC Rebel SST 70            |\n",
            "|Buick Estate Wagon (sw)  |14.0|8        |455.0       |225.0     |3086.0|10.0        |70   |US    |Buick Estate Wagon (sw) 70  |\n",
            "|Ford Galaxie 500         |15.0|8        |429.0       |198.0     |4341.0|10.0        |70   |US    |Ford Galaxie 500 70         |\n",
            "|Ford F250                |10.0|8        |360.0       |215.0     |4615.0|14.0        |70   |US    |Ford F250 70                |\n",
            "|Plymouth Fury iii        |14.0|8        |440.0       |215.0     |4312.0|8.5         |70   |US    |Plymouth Fury iii 70        |\n",
            "|Chevy C20                |10.0|8        |307.0       |200.0     |4376.0|15.0        |70   |US    |Chevy C20 70                |\n",
            "|AMC Ambassador DPL       |15.0|8        |390.0       |190.0     |3850.0|8.5         |70   |US    |AMC Ambassador DPL 70       |\n",
            "|Dodge D200               |11.0|8        |318.0       |210.0     |4382.0|13.5        |70   |US    |Dodge D200 70               |\n",
            "|Ford Torino (sw)         |0.0 |8        |351.0       |153.0     |4034.0|11.0        |70   |US    |Ford Torino (sw) 70         |\n",
            "|Hi 1200D                 |9.0 |8        |304.0       |193.0     |4732.0|18.5        |70   |US    |Hi 1200D 70                 |\n",
            "|AMC Rebel SST (sw)       |0.0 |8        |360.0       |175.0     |3850.0|11.0        |70   |US    |AMC Rebel SST (sw) 70       |\n",
            "|Chevrolet Impala         |14.0|8        |350.0       |165.0     |4209.0|12.0        |71   |US    |Chevrolet Impala 71         |\n",
            "|Chevrolet Chevelle Malibu|18.0|8        |307.0       |130.0     |3504.0|12.0        |70   |US    |Chevrolet Chevelle Malibu 70|\n",
            "|Pontiac Catalina Brougham|14.0|8        |400.0       |175.0     |4464.0|11.5        |71   |US    |Pontiac Catalina Brougham 71|\n",
            "|Ford Torino              |17.0|8        |302.0       |140.0     |3449.0|10.5        |70   |US    |Ford Torino 70              |\n",
            "+-------------------------+----+---------+------------+----------+------+------------+-----+------+----------------------------+\n",
            "only showing top 20 rows\n",
            "\n"
          ]
        }
      ]
    },
    {
      "cell_type": "code",
      "source": [
        "# Using groupBy aand orderBy together\n",
        "df.groupBy(\"Origin\").count().orderBy('count', ascending=False).show(10)"
      ],
      "metadata": {
        "colab": {
          "base_uri": "https://localhost:8080/"
        },
        "id": "7PAoR1Fk4mjv",
        "outputId": "536bbe37-a347-4f27-a706-24182921c997"
      },
      "execution_count": null,
      "outputs": [
        {
          "output_type": "stream",
          "name": "stdout",
          "text": [
            "+------+-----+\n",
            "|Origin|count|\n",
            "+------+-----+\n",
            "|    US|  254|\n",
            "| Japan|   79|\n",
            "|Europe|   73|\n",
            "+------+-----+\n",
            "\n"
          ]
        }
      ]
    },
    {
      "cell_type": "markdown",
      "source": [
        "**Union Dataframes**\n",
        "\n",
        "You will see three main methods for performing union of dataframes. It is important to know the difference between them and which one is preferred:\n",
        "\n",
        "union() – It is used to merge two DataFrames of the same structure/schema. If schemas are not the same, it returns an error\n",
        "\n",
        "unionAll() – This function is deprecated since Spark 2.0.0, and replaced with union()\n",
        "\n",
        "unionByName() - This function is used to merge two dataframes based on column name.\n",
        "\n",
        "Since unionAll() is deprecated, union() is the preferred method for merging dataframes.\n",
        "\n",
        "The difference between unionByName() and union() is that unionByName() resolves columns by name, not by position.\n",
        "\n",
        "\n",
        "In other SQLs, Union eliminates the duplicates but UnionAll merges two datasets, thereby including duplicate records. But, in PySpark, both behave the same and includes duplicate records. The recommendation is to use distinct() or dropDuplicates() to remove duplicate records."
      ],
      "metadata": {
        "id": "9lwsUC0y4vhp"
      }
    },
    {
      "cell_type": "code",
      "source": [
        "# CASE 1: Union When columns are in order\n",
        "df = spark.read.csv('cars.csv', header=True, sep=\";\", inferSchema=True)\n",
        "europe_cars = df.filter((col('Origin')=='Europe') & (col('Cylinders')==5))\n",
        "japan_cars = df.filter((col('Origin')=='Japan') & (col('Cylinders')==3))\n",
        "print(\"EUROPE CARS: \"+str(europe_cars.count()))\n",
        "print(\"JAPAN CARS: \"+str(japan_cars.count()))\n",
        "print(\"AFTER UNION: \"+str(europe_cars.union(japan_cars).count()))\n"
      ],
      "metadata": {
        "colab": {
          "base_uri": "https://localhost:8080/"
        },
        "id": "ZDT2gkpg4uN7",
        "outputId": "df556e9a-6347-4f1c-caca-6fdd4e74f946"
      },
      "execution_count": null,
      "outputs": [
        {
          "output_type": "stream",
          "name": "stdout",
          "text": [
            "EUROPE CARS: 3\n",
            "JAPAN CARS: 4\n",
            "AFTER UNION: 7\n"
          ]
        }
      ]
    },
    {
      "cell_type": "code",
      "source": [
        "# CASE 1: Union When columns are not in order\n",
        "# Creating two dataframes with jumbled columns\n",
        "df1 = spark.createDataFrame([[1, 2, 3]], [\"col0\", \"col1\", \"col2\"])\n",
        "df2 = spark.createDataFrame([[4, 5, 6]], [\"col1\", \"col2\", \"col0\"])\n",
        "df1.unionByName(df2).show()"
      ],
      "metadata": {
        "colab": {
          "base_uri": "https://localhost:8080/"
        },
        "id": "XW-4Tp9Y5Le_",
        "outputId": "6ec8e5e0-99b7-4c7b-f618-acb11d5ec9b0"
      },
      "execution_count": null,
      "outputs": [
        {
          "output_type": "stream",
          "name": "stdout",
          "text": [
            "+----+----+----+\n",
            "|col0|col1|col2|\n",
            "+----+----+----+\n",
            "|   1|   2|   3|\n",
            "|   6|   4|   5|\n",
            "+----+----+----+\n",
            "\n"
          ]
        }
      ]
    },
    {
      "cell_type": "markdown",
      "source": [
        "**Common Data Manipulation Functions**"
      ],
      "metadata": {
        "id": "pPHd1Jm95Uhi"
      }
    },
    {
      "cell_type": "code",
      "source": [
        "# Functions available in PySpark\n",
        "from pyspark.sql import functions\n",
        "# Similar to python, we can use the dir function to view the avaiable functions\n",
        "print(dir(functions))"
      ],
      "metadata": {
        "colab": {
          "base_uri": "https://localhost:8080/"
        },
        "id": "Zr8b_68z5WQs",
        "outputId": "3de45b15-6205-4973-f1cf-9bfc33eafc5d"
      },
      "execution_count": null,
      "outputs": [
        {
          "output_type": "stream",
          "name": "stdout",
          "text": [
            "['Any', 'ArrayType', 'Callable', 'Column', 'DataFrame', 'DataType', 'Dict', 'Iterable', 'JVMView', 'List', 'Optional', 'PandasUDFType', 'PySparkTypeError', 'PySparkValueError', 'SparkContext', 'StringType', 'StructType', 'TYPE_CHECKING', 'Tuple', 'Type', 'Union', 'UserDefinedFunction', 'UserDefinedTableFunction', 'ValuesView', '__builtins__', '__cached__', '__doc__', '__file__', '__loader__', '__name__', '__package__', '__spec__', '_create_column_from_literal', '_create_lambda', '_create_py_udf', '_create_py_udtf', '_from_numpy_type', '_get_jvm_function', '_get_lambda_parameters', '_invoke_binary_math_function', '_invoke_function', '_invoke_function_over_columns', '_invoke_function_over_seq_of_columns', '_invoke_higher_order_function', '_options_to_str', '_test', '_to_java_column', '_to_seq', '_unresolved_named_lambda_variable', 'abs', 'acos', 'acosh', 'add_months', 'aes_decrypt', 'aes_encrypt', 'aggregate', 'any_value', 'approxCountDistinct', 'approx_count_distinct', 'approx_percentile', 'array', 'array_agg', 'array_append', 'array_compact', 'array_contains', 'array_distinct', 'array_except', 'array_insert', 'array_intersect', 'array_join', 'array_max', 'array_min', 'array_position', 'array_prepend', 'array_remove', 'array_repeat', 'array_size', 'array_sort', 'array_union', 'arrays_overlap', 'arrays_zip', 'asc', 'asc_nulls_first', 'asc_nulls_last', 'ascii', 'asin', 'asinh', 'assert_true', 'atan', 'atan2', 'atanh', 'avg', 'base64', 'bin', 'bit_and', 'bit_count', 'bit_get', 'bit_length', 'bit_or', 'bit_xor', 'bitmap_bit_position', 'bitmap_bucket_number', 'bitmap_construct_agg', 'bitmap_count', 'bitmap_or_agg', 'bitwiseNOT', 'bitwise_not', 'bool_and', 'bool_or', 'broadcast', 'bround', 'btrim', 'bucket', 'call_function', 'call_udf', 'cardinality', 'cast', 'cbrt', 'ceil', 'ceiling', 'char', 'char_length', 'character_length', 'coalesce', 'col', 'collect_list', 'collect_set', 'column', 'concat', 'concat_ws', 'contains', 'conv', 'convert_timezone', 'corr', 'cos', 'cosh', 'cot', 'count', 'countDistinct', 'count_distinct', 'count_if', 'count_min_sketch', 'covar_pop', 'covar_samp', 'crc32', 'create_map', 'csc', 'cume_dist', 'curdate', 'current_catalog', 'current_database', 'current_date', 'current_schema', 'current_timestamp', 'current_timezone', 'current_user', 'date_add', 'date_diff', 'date_format', 'date_from_unix_date', 'date_part', 'date_sub', 'date_trunc', 'dateadd', 'datediff', 'datepart', 'day', 'dayofmonth', 'dayofweek', 'dayofyear', 'days', 'decimal', 'decode', 'degrees', 'dense_rank', 'desc', 'desc_nulls_first', 'desc_nulls_last', 'e', 'element_at', 'elt', 'encode', 'endswith', 'equal_null', 'every', 'exists', 'exp', 'explode', 'explode_outer', 'expm1', 'expr', 'extract', 'factorial', 'filter', 'find_in_set', 'first', 'first_value', 'flatten', 'floor', 'forall', 'format_number', 'format_string', 'from_csv', 'from_json', 'from_unixtime', 'from_utc_timestamp', 'functools', 'get', 'get_active_spark_context', 'get_json_object', 'getbit', 'greatest', 'grouping', 'grouping_id', 'has_numpy', 'hash', 'hex', 'histogram_numeric', 'hll_sketch_agg', 'hll_sketch_estimate', 'hll_union', 'hll_union_agg', 'hour', 'hours', 'hypot', 'ifnull', 'ilike', 'initcap', 'inline', 'inline_outer', 'input_file_block_length', 'input_file_block_start', 'input_file_name', 'inspect', 'instr', 'isnan', 'isnotnull', 'isnull', 'java_method', 'json_array_length', 'json_object_keys', 'json_tuple', 'kurtosis', 'lag', 'last', 'last_day', 'last_value', 'lcase', 'lead', 'least', 'left', 'length', 'levenshtein', 'like', 'lit', 'ln', 'localtimestamp', 'locate', 'log', 'log10', 'log1p', 'log2', 'lower', 'lpad', 'ltrim', 'make_date', 'make_dt_interval', 'make_interval', 'make_timestamp', 'make_timestamp_ltz', 'make_timestamp_ntz', 'make_ym_interval', 'map_concat', 'map_contains_key', 'map_entries', 'map_filter', 'map_from_arrays', 'map_from_entries', 'map_keys', 'map_values', 'map_zip_with', 'mask', 'max', 'max_by', 'md5', 'mean', 'median', 'min', 'min_by', 'minute', 'mode', 'monotonically_increasing_id', 'month', 'months', 'months_between', 'named_struct', 'nanvl', 'negate', 'negative', 'next_day', 'now', 'np', 'nth_value', 'ntile', 'nullif', 'nvl', 'nvl2', 'octet_length', 'overlay', 'overload', 'pandas_udf', 'parse_url', 'percent_rank', 'percentile', 'percentile_approx', 'pi', 'pmod', 'posexplode', 'posexplode_outer', 'position', 'positive', 'pow', 'power', 'printf', 'product', 'quarter', 'radians', 'raise_error', 'rand', 'randn', 'rank', 'reduce', 'reflect', 'regexp', 'regexp_count', 'regexp_extract', 'regexp_extract_all', 'regexp_instr', 'regexp_like', 'regexp_replace', 'regexp_substr', 'regr_avgx', 'regr_avgy', 'regr_count', 'regr_intercept', 'regr_r2', 'regr_slope', 'regr_sxx', 'regr_sxy', 'regr_syy', 'repeat', 'replace', 'reverse', 'right', 'rint', 'rlike', 'round', 'row_number', 'rpad', 'rtrim', 'schema_of_csv', 'schema_of_json', 'sec', 'second', 'sentences', 'sequence', 'session_window', 'sha', 'sha1', 'sha2', 'shiftLeft', 'shiftRight', 'shiftRightUnsigned', 'shiftleft', 'shiftright', 'shiftrightunsigned', 'shuffle', 'sign', 'signum', 'sin', 'sinh', 'size', 'skewness', 'slice', 'some', 'sort_array', 'soundex', 'spark_partition_id', 'split', 'split_part', 'sqrt', 'stack', 'startswith', 'std', 'stddev', 'stddev_pop', 'stddev_samp', 'str_to_map', 'struct', 'substr', 'substring', 'substring_index', 'sum', 'sumDistinct', 'sum_distinct', 'sys', 'tan', 'tanh', 'timestamp_micros', 'timestamp_millis', 'timestamp_seconds', 'toDegrees', 'toRadians', 'to_binary', 'to_char', 'to_csv', 'to_date', 'to_json', 'to_number', 'to_str', 'to_timestamp', 'to_timestamp_ltz', 'to_timestamp_ntz', 'to_unix_timestamp', 'to_utc_timestamp', 'to_varchar', 'transform', 'transform_keys', 'transform_values', 'translate', 'trim', 'trunc', 'try_add', 'try_aes_decrypt', 'try_avg', 'try_divide', 'try_element_at', 'try_multiply', 'try_remote_functions', 'try_subtract', 'try_sum', 'try_to_binary', 'try_to_number', 'try_to_timestamp', 'typeof', 'ucase', 'udf', 'udtf', 'unbase64', 'unhex', 'unix_date', 'unix_micros', 'unix_millis', 'unix_seconds', 'unix_timestamp', 'unwrap_udt', 'upper', 'url_decode', 'url_encode', 'user', 'var_pop', 'var_samp', 'variance', 'version', 'warnings', 'weekday', 'weekofyear', 'when', 'width_bucket', 'window', 'window_time', 'xpath', 'xpath_boolean', 'xpath_double', 'xpath_float', 'xpath_int', 'xpath_long', 'xpath_number', 'xpath_short', 'xpath_string', 'xxhash64', 'year', 'years', 'zip_with']\n"
          ]
        }
      ]
    },
    {
      "cell_type": "markdown",
      "source": [
        "**String Functions**"
      ],
      "metadata": {
        "id": "bJvoA2DN5lLp"
      }
    },
    {
      "cell_type": "code",
      "source": [
        "# Loading the data\n",
        "from pyspark.sql.functions import col\n",
        "df = spark.read.csv('cars.csv', header=True, sep=\";\", inferSchema=True)"
      ],
      "metadata": {
        "id": "p7NPBx_z5mzR"
      },
      "execution_count": null,
      "outputs": []
    },
    {
      "cell_type": "markdown",
      "source": [
        "Display the Car column in exisitng, lower and upper characters, and the first 4 characters of the column"
      ],
      "metadata": {
        "id": "zcIhWiVy51iA"
      }
    },
    {
      "cell_type": "code",
      "source": [
        "from pyspark.sql.functions import col,lower, upper, substring\n",
        "# Prints out the details of a function\n",
        "help(substring)\n",
        "# alias is used to rename the column name in the output\n",
        "df.select(col('Car'),lower(col('Car')),upper(col('Car')),substring(col('Car'),1,4).alias(\"concatenated value\")).show(5, False)"
      ],
      "metadata": {
        "colab": {
          "base_uri": "https://localhost:8080/"
        },
        "id": "SneqM9Cu5yw-",
        "outputId": "3363c68b-ddc1-4d8b-a95f-452bfbcf282c"
      },
      "execution_count": null,
      "outputs": [
        {
          "output_type": "stream",
          "name": "stdout",
          "text": [
            "Help on function substring in module pyspark.sql.functions:\n",
            "\n",
            "substring(str: 'ColumnOrName', pos: int, len: int) -> pyspark.sql.column.Column\n",
            "    Substring starts at `pos` and is of length `len` when str is String type or\n",
            "    returns the slice of byte array that starts at `pos` in byte and is of length `len`\n",
            "    when str is Binary type.\n",
            "    \n",
            "    .. versionadded:: 1.5.0\n",
            "    \n",
            "    .. versionchanged:: 3.4.0\n",
            "        Supports Spark Connect.\n",
            "    \n",
            "    Notes\n",
            "    -----\n",
            "    The position is not zero based, but 1 based index.\n",
            "    \n",
            "    Parameters\n",
            "    ----------\n",
            "    str : :class:`~pyspark.sql.Column` or str\n",
            "        target column to work on.\n",
            "    pos : int\n",
            "        starting position in str.\n",
            "    len : int\n",
            "        length of chars.\n",
            "    \n",
            "    Returns\n",
            "    -------\n",
            "    :class:`~pyspark.sql.Column`\n",
            "        substring of given value.\n",
            "    \n",
            "    Examples\n",
            "    --------\n",
            "    >>> df = spark.createDataFrame([('abcd',)], ['s',])\n",
            "    >>> df.select(substring(df.s, 1, 2).alias('s')).collect()\n",
            "    [Row(s='ab')]\n",
            "\n",
            "+-------------------------+-------------------------+-------------------------+------------------+\n",
            "|Car                      |lower(Car)               |upper(Car)               |concatenated value|\n",
            "+-------------------------+-------------------------+-------------------------+------------------+\n",
            "|Chevrolet Chevelle Malibu|chevrolet chevelle malibu|CHEVROLET CHEVELLE MALIBU|Chev              |\n",
            "|Buick Skylark 320        |buick skylark 320        |BUICK SKYLARK 320        |Buic              |\n",
            "|Plymouth Satellite       |plymouth satellite       |PLYMOUTH SATELLITE       |Plym              |\n",
            "|AMC Rebel SST            |amc rebel sst            |AMC REBEL SST            |AMC               |\n",
            "|Ford Torino              |ford torino              |FORD TORINO              |Ford              |\n",
            "+-------------------------+-------------------------+-------------------------+------------------+\n",
            "only showing top 5 rows\n",
            "\n"
          ]
        }
      ]
    },
    {
      "cell_type": "markdown",
      "source": [
        "**Concatenate the Car column and Model column and add a space between them.**"
      ],
      "metadata": {
        "id": "-u8LJGL66CqE"
      }
    },
    {
      "cell_type": "code",
      "source": [
        "from pyspark.sql.functions import concat\n",
        "df.select(col(\"Car\"),col(\"model\"),concat(col(\"Car\"), lit(\" \"), col(\"model\"))).show(5, False)"
      ],
      "metadata": {
        "colab": {
          "base_uri": "https://localhost:8080/"
        },
        "id": "z1Ep9Nf66ER9",
        "outputId": "f3cf0d81-05ee-41ed-bf50-0990b14c0cf9"
      },
      "execution_count": null,
      "outputs": [
        {
          "output_type": "stream",
          "name": "stdout",
          "text": [
            "+-------------------------+-----+----------------------------+\n",
            "|Car                      |model|concat(Car,  , model)       |\n",
            "+-------------------------+-----+----------------------------+\n",
            "|Chevrolet Chevelle Malibu|70   |Chevrolet Chevelle Malibu 70|\n",
            "|Buick Skylark 320        |70   |Buick Skylark 320 70        |\n",
            "|Plymouth Satellite       |70   |Plymouth Satellite 70       |\n",
            "|AMC Rebel SST            |70   |AMC Rebel SST 70            |\n",
            "|Ford Torino              |70   |Ford Torino 70              |\n",
            "+-------------------------+-----+----------------------------+\n",
            "only showing top 5 rows\n",
            "\n"
          ]
        }
      ]
    },
    {
      "cell_type": "markdown",
      "source": [
        "**Numeric functions**\n",
        "\n",
        "Show the oldest date and the most recent date"
      ],
      "metadata": {
        "id": "dM9X1Bnc6MPu"
      }
    },
    {
      "cell_type": "code",
      "source": [
        "from pyspark.sql.functions import min, max\n",
        "df.select(min(col('Weight')), max(col('Weight'))).show()"
      ],
      "metadata": {
        "colab": {
          "base_uri": "https://localhost:8080/"
        },
        "id": "umrhT3k26Poj",
        "outputId": "6f6e4441-ce69-48ff-f390-ce520b9179b1"
      },
      "execution_count": null,
      "outputs": [
        {
          "output_type": "stream",
          "name": "stdout",
          "text": [
            "+-----------+-----------+\n",
            "|min(Weight)|max(Weight)|\n",
            "+-----------+-----------+\n",
            "|       1613|       5140|\n",
            "+-----------+-----------+\n",
            "\n"
          ]
        }
      ]
    },
    {
      "cell_type": "markdown",
      "source": [
        "Add 10 to the minimum and maximum weight"
      ],
      "metadata": {
        "id": "lluPQ9vA6VBQ"
      }
    },
    {
      "cell_type": "code",
      "source": [
        "from pyspark.sql.functions import min, max, lit\n",
        "df.select(min(col('Weight'))+lit(10), max(col('Weight')+lit(10))).show()"
      ],
      "metadata": {
        "colab": {
          "base_uri": "https://localhost:8080/"
        },
        "id": "V9BA6oYQ6WLt",
        "outputId": "f2d435f7-1a74-4dad-cb02-be1af5171b62"
      },
      "execution_count": null,
      "outputs": [
        {
          "output_type": "stream",
          "name": "stdout",
          "text": [
            "+------------------+------------------+\n",
            "|(min(Weight) + 10)|max((Weight + 10))|\n",
            "+------------------+------------------+\n",
            "|              1623|              5150|\n",
            "+------------------+------------------+\n",
            "\n"
          ]
        }
      ]
    },
    {
      "cell_type": "markdown",
      "source": [
        "**Operations on Date**"
      ],
      "metadata": {
        "id": "HpBpEZQg6fUM"
      }
    },
    {
      "cell_type": "code",
      "source": [
        "from pyspark.sql.functions import to_date, to_timestamp, lit\n",
        "df = spark.createDataFrame([('2019-12-25 13:30:00',)], ['DOB'])\n",
        "df.show()\n",
        "df.printSchema()"
      ],
      "metadata": {
        "colab": {
          "base_uri": "https://localhost:8080/"
        },
        "id": "wpVYpge76hM9",
        "outputId": "365ba9b0-4a40-4213-ba5a-a74b3c9b04a6"
      },
      "execution_count": null,
      "outputs": [
        {
          "output_type": "stream",
          "name": "stdout",
          "text": [
            "+-------------------+\n",
            "|                DOB|\n",
            "+-------------------+\n",
            "|2019-12-25 13:30:00|\n",
            "+-------------------+\n",
            "\n",
            "root\n",
            " |-- DOB: string (nullable = true)\n",
            "\n"
          ]
        }
      ]
    },
    {
      "cell_type": "code",
      "source": [
        "df = spark.createDataFrame([('2019-12-25 13:30:00',)], ['DOB'])\n",
        "df = df.select(to_date(col('DOB'),'yyyy-MM-dd HH:mm:ss'), to_timestamp(col('DOB'),'yyyy-MM-dd HH:mm:ss'))\n",
        "df.show()\n",
        "df.printSchema()"
      ],
      "metadata": {
        "colab": {
          "base_uri": "https://localhost:8080/"
        },
        "id": "2PmLIxNC6nqT",
        "outputId": "376ddf9f-ab5f-49db-a98c-2cf48553b69c"
      },
      "execution_count": null,
      "outputs": [
        {
          "output_type": "stream",
          "name": "stdout",
          "text": [
            "+---------------------------------+--------------------------------------+\n",
            "|to_date(DOB, yyyy-MM-dd HH:mm:ss)|to_timestamp(DOB, yyyy-MM-dd HH:mm:ss)|\n",
            "+---------------------------------+--------------------------------------+\n",
            "|                       2019-12-25|                   2019-12-25 13:30:00|\n",
            "+---------------------------------+--------------------------------------+\n",
            "\n",
            "root\n",
            " |-- to_date(DOB, yyyy-MM-dd HH:mm:ss): date (nullable = true)\n",
            " |-- to_timestamp(DOB, yyyy-MM-dd HH:mm:ss): timestamp (nullable = true)\n",
            "\n"
          ]
        }
      ]
    },
    {
      "cell_type": "code",
      "source": [
        "df = spark.createDataFrame([('25/Dec/2019 13:30:00',)], ['DOB'])\n",
        "df = df.select(to_date(col('DOB'),'dd/MMM/yyyy HH:mm:ss'), to_timestamp(col('DOB'),'dd/MMM/yyyy HH:mm:ss'))\n",
        "df.show()\n",
        "df.printSchema()"
      ],
      "metadata": {
        "colab": {
          "base_uri": "https://localhost:8080/"
        },
        "id": "XefDKPQy6rio",
        "outputId": "a61b8141-c2b9-42a4-a0be-67cd7260837a"
      },
      "execution_count": null,
      "outputs": [
        {
          "output_type": "stream",
          "name": "stdout",
          "text": [
            "+----------------------------------+---------------------------------------+\n",
            "|to_date(DOB, dd/MMM/yyyy HH:mm:ss)|to_timestamp(DOB, dd/MMM/yyyy HH:mm:ss)|\n",
            "+----------------------------------+---------------------------------------+\n",
            "|                        2019-12-25|                    2019-12-25 13:30:00|\n",
            "+----------------------------------+---------------------------------------+\n",
            "\n",
            "root\n",
            " |-- to_date(DOB, dd/MMM/yyyy HH:mm:ss): date (nullable = true)\n",
            " |-- to_timestamp(DOB, dd/MMM/yyyy HH:mm:ss): timestamp (nullable = true)\n",
            "\n"
          ]
        }
      ]
    },
    {
      "cell_type": "markdown",
      "source": [
        "What is 3 days earlier that the oldest date and 3 days later than the most recent date?"
      ],
      "metadata": {
        "id": "DH9X4Ulu6xhw"
      }
    },
    {
      "cell_type": "code",
      "source": [
        "from pyspark.sql.functions import date_add, date_sub\n",
        "# create a dummy dataframe\n",
        "df = spark.createDataFrame([('1990-01-01',),('1995-01-03',),('2021-03-30',)], ['Date'])\n",
        "# find out the required dates\n",
        "df.select(date_add(max(col('Date')),3), date_sub(min(col('Date')),3)).show()"
      ],
      "metadata": {
        "colab": {
          "base_uri": "https://localhost:8080/"
        },
        "id": "4zdRqBP26wYU",
        "outputId": "22bfb9b6-edf8-4172-f9e7-47e240c0c069"
      },
      "execution_count": null,
      "outputs": [
        {
          "output_type": "stream",
          "name": "stdout",
          "text": [
            "+----------------------+----------------------+\n",
            "|date_add(max(Date), 3)|date_sub(min(Date), 3)|\n",
            "+----------------------+----------------------+\n",
            "|            2021-04-02|            1989-12-29|\n",
            "+----------------------+----------------------+\n",
            "\n"
          ]
        }
      ]
    },
    {
      "cell_type": "markdown",
      "source": [
        "**Joins in PySpark**"
      ],
      "metadata": {
        "id": "Dcrpw_Ew64Uh"
      }
    },
    {
      "cell_type": "code",
      "source": [
        "# Create two dataframes\n",
        "cars_df = spark.createDataFrame([[1, 'Car A'],[2, 'Car B'],[3, 'Car C']], [\"id\", \"car_name\"])\n",
        "car_price_df = spark.createDataFrame([[1, 1000],[2, 2000],[3, 3000]], [\"id\", \"car_price\"])\n",
        "cars_df.show()\n",
        "car_price_df.show()"
      ],
      "metadata": {
        "colab": {
          "base_uri": "https://localhost:8080/"
        },
        "id": "VmEjfgDH61-0",
        "outputId": "c4ed60db-7eb2-450d-fe63-c1d2f1324c8f"
      },
      "execution_count": null,
      "outputs": [
        {
          "output_type": "stream",
          "name": "stdout",
          "text": [
            "+---+--------+\n",
            "| id|car_name|\n",
            "+---+--------+\n",
            "|  1|   Car A|\n",
            "|  2|   Car B|\n",
            "|  3|   Car C|\n",
            "+---+--------+\n",
            "\n",
            "+---+---------+\n",
            "| id|car_price|\n",
            "+---+---------+\n",
            "|  1|     1000|\n",
            "|  2|     2000|\n",
            "|  3|     3000|\n",
            "+---+---------+\n",
            "\n"
          ]
        }
      ]
    },
    {
      "cell_type": "code",
      "source": [
        "# Executing an inner join so we can see the id, name and price of each car in one row\n",
        "cars_df.join(car_price_df, cars_df.id == car_price_df.id, 'inner').select(cars_df['id'],cars_df['car_name'],car_price_df['car_price']).show(truncate=False)"
      ],
      "metadata": {
        "colab": {
          "base_uri": "https://localhost:8080/"
        },
        "id": "mO7B9YxF7BFC",
        "outputId": "45c10191-1d10-404f-ce35-9487783bf9d0"
      },
      "execution_count": null,
      "outputs": [
        {
          "output_type": "stream",
          "name": "stdout",
          "text": [
            "+---+--------+---------+\n",
            "|id |car_name|car_price|\n",
            "+---+--------+---------+\n",
            "|1  |Car A   |1000     |\n",
            "|2  |Car B   |2000     |\n",
            "|3  |Car C   |3000     |\n",
            "+---+--------+---------+\n",
            "\n"
          ]
        }
      ]
    },
    {
      "cell_type": "markdown",
      "source": [
        "As you can see, we have done an inner join between two dataframes. The following joins are supported by PySpark:\n",
        "\n",
        "inner (default)\n",
        "\n",
        "cross\n",
        "\n",
        "outer\n",
        "\n",
        "full\n",
        "\n",
        "full_outer\n",
        "\n",
        "left\n",
        "\n",
        "left_outer\n",
        "\n",
        "right\n",
        "\n",
        "right_outer\n",
        "\n",
        "left_semi\n",
        "\n",
        "left_anti"
      ],
      "metadata": {
        "id": "9ATfYnHr7Gy4"
      }
    },
    {
      "cell_type": "markdown",
      "source": [
        "Spark SQL\n",
        "\n",
        "SQL has been around since the 1970s, and so one can imagine the number of people who made it their bread and butter. As big data came into popularity, the number of professionals with the technical knowledge to deal with it was in shortage. This led to the creation of Spark SQL. To quote the docs:\n",
        "\n",
        "\n",
        "Spark SQL is a Spark module for structured data processing. Unlike the basic Spark RDD API, the interfaces provided by Spark SQL provide Spark with more information about the structure of both the data and the computation being performed. Internally, Spark SQL uses this extra information to perform extra optimizations.\n",
        "\n",
        "\n",
        "Basically, what you need to know is that Spark SQL is used to execute SQL queries on big data. Spark SQL can also be used to read data from Hive tables and views. Let me explain Spark SQL with an example.\n"
      ],
      "metadata": {
        "id": "1M2l5mgW7QcA"
      }
    },
    {
      "cell_type": "code",
      "source": [
        "# Load data\n",
        "df = spark.read.csv('cars.csv', header=True, sep=\";\")\n",
        "# Register Temporary Table\n",
        "df.createOrReplaceTempView(\"temp\")\n",
        "# Select all data from temp table\n",
        "spark.sql(\"select * from temp limit 5\").show()\n",
        "# Select count of data in table\n",
        "spark.sql(\"select count(*) as total_count from temp\").show()"
      ],
      "metadata": {
        "colab": {
          "base_uri": "https://localhost:8080/"
        },
        "id": "kLjIdHFe7DQL",
        "outputId": "6a28519f-e7a4-4a9f-e3de-0a6fbfbf57ea"
      },
      "execution_count": null,
      "outputs": [
        {
          "output_type": "stream",
          "name": "stdout",
          "text": [
            "+--------------------+----+---------+------------+----------+------+------------+-----+------+\n",
            "|                 Car| MPG|Cylinders|Displacement|Horsepower|Weight|Acceleration|Model|Origin|\n",
            "+--------------------+----+---------+------------+----------+------+------------+-----+------+\n",
            "|Chevrolet Chevell...|18.0|        8|       307.0|     130.0| 3504.|        12.0|   70|    US|\n",
            "|   Buick Skylark 320|15.0|        8|       350.0|     165.0| 3693.|        11.5|   70|    US|\n",
            "|  Plymouth Satellite|18.0|        8|       318.0|     150.0| 3436.|        11.0|   70|    US|\n",
            "|       AMC Rebel SST|16.0|        8|       304.0|     150.0| 3433.|        12.0|   70|    US|\n",
            "|         Ford Torino|17.0|        8|       302.0|     140.0| 3449.|        10.5|   70|    US|\n",
            "+--------------------+----+---------+------------+----------+------+------------+-----+------+\n",
            "\n",
            "+-----------+\n",
            "|total_count|\n",
            "+-----------+\n",
            "|        406|\n",
            "+-----------+\n",
            "\n"
          ]
        }
      ]
    },
    {
      "cell_type": "markdown",
      "source": [
        "RDD\n",
        "\n",
        "With map, you define a function and then apply it record by record. Flatmap returns a new RDD by first applying a function to all of the elements in RDDs and then flattening the result. Filter, returns a new RDD. Meaning only the elements that satisfy a condition. With reduce, we are taking neighboring elements and producing a single combined result. For example, let's say you have a set of numbers. You can reduce this to its sum by providing a function that takes as input two values and reduces them to one.\n",
        "\n",
        "\n",
        "Some of the reasons you would use a dataframe over RDD are:\n",
        "\n",
        "\n",
        "It's ability to represnt data as rows and columns. But this also means it can only hold structred and semi-structured data.\n",
        "\n",
        "It allows processing data in different formats (AVRO, CSV, JSON, and storage system HDFS, HIVE tables, MySQL).\n",
        "\n",
        "It's superior job Optimization capability.\n",
        "DataFrame API is very easy to use."
      ],
      "metadata": {
        "id": "PbaiuVSd74vH"
      }
    },
    {
      "cell_type": "code",
      "source": [
        "cars = spark.sparkContext.textFile('cars.csv')\n",
        "print(cars.first())\n",
        "cars_header = cars.first()\n",
        "cars_rest = cars.filter(lambda line: line!=cars_header)\n",
        "print(cars_rest.first())"
      ],
      "metadata": {
        "colab": {
          "base_uri": "https://localhost:8080/"
        },
        "id": "bcV2_pny7ayP",
        "outputId": "680fdaba-5189-4577-ce80-b7a1932b5ceb"
      },
      "execution_count": null,
      "outputs": [
        {
          "output_type": "stream",
          "name": "stdout",
          "text": [
            "Car;MPG;Cylinders;Displacement;Horsepower;Weight;Acceleration;Model;Origin\n",
            "Chevrolet Chevelle Malibu;18.0;8;307.0;130.0;3504.;12.0;70;US\n"
          ]
        }
      ]
    },
    {
      "cell_type": "markdown",
      "source": [
        "**How many cars are there in our csv data?**"
      ],
      "metadata": {
        "id": "RHyKj-gf8K1r"
      }
    },
    {
      "cell_type": "code",
      "source": [
        "cars_rest.map(lambda line: line.split(\";\")).count()"
      ],
      "metadata": {
        "colab": {
          "base_uri": "https://localhost:8080/"
        },
        "id": "o7dPrxmP8Gjz",
        "outputId": "b6ebe4d3-d4c5-470b-8715-9da0271840e5"
      },
      "execution_count": null,
      "outputs": [
        {
          "output_type": "execute_result",
          "data": {
            "text/plain": [
              "406"
            ]
          },
          "metadata": {},
          "execution_count": 55
        }
      ]
    },
    {
      "cell_type": "markdown",
      "source": [
        "Display the Car name, MPG, Cylinders, Weight and Origin for the cars Originating in Europe"
      ],
      "metadata": {
        "id": "zoo17bcS8Y5Z"
      }
    },
    {
      "cell_type": "code",
      "source": [
        "# Car name is column  0\n",
        "(cars_rest.filter(lambda line: line.split(\";\")[8]=='Europe').\n",
        " map(lambda line: (line.split(\";\")[0],\n",
        "    line.split(\";\")[1],\n",
        "    line.split(\";\")[2],\n",
        "    line.split(\";\")[5],\n",
        "    line.split(\";\")[8])).collect())"
      ],
      "metadata": {
        "colab": {
          "base_uri": "https://localhost:8080/"
        },
        "id": "dBhDs2tM8V6m",
        "outputId": "53ebc288-aceb-4b88-b376-6cdd177d6a89"
      },
      "execution_count": null,
      "outputs": [
        {
          "output_type": "execute_result",
          "data": {
            "text/plain": [
              "[('Citroen DS-21 Pallas', '0', '4', '3090.', 'Europe'),\n",
              " ('Volkswagen 1131 Deluxe Sedan', '26.0', '4', '1835.', 'Europe'),\n",
              " ('Peugeot 504', '25.0', '4', '2672.', 'Europe'),\n",
              " ('Audi 100 LS', '24.0', '4', '2430.', 'Europe'),\n",
              " ('Saab 99e', '25.0', '4', '2375.', 'Europe'),\n",
              " ('BMW 2002', '26.0', '4', '2234.', 'Europe'),\n",
              " ('Volkswagen Super Beetle 117', '0', '4', '1978.', 'Europe'),\n",
              " ('Opel 1900', '28.0', '4', '2123.', 'Europe'),\n",
              " ('Peugeot 304', '30.0', '4', '2074.', 'Europe'),\n",
              " ('Fiat 124B', '30.0', '4', '2065.', 'Europe'),\n",
              " ('Volkswagen Model 111', '27.0', '4', '1834.', 'Europe'),\n",
              " ('Volkswagen Type 3', '23.0', '4', '2254.', 'Europe'),\n",
              " ('Volvo 145e (sw)', '18.0', '4', '2933.', 'Europe'),\n",
              " ('Volkswagen 411 (sw)', '22.0', '4', '2511.', 'Europe'),\n",
              " ('Peugeot 504 (sw)', '21.0', '4', '2979.', 'Europe'),\n",
              " ('Renault 12 (sw)', '26.0', '4', '2189.', 'Europe'),\n",
              " ('Volkswagen Super Beetle', '26.0', '4', '1950.', 'Europe'),\n",
              " ('Fiat 124 Sport Coupe', '26.0', '4', '2265.', 'Europe'),\n",
              " ('Fiat 128', '29.0', '4', '1867.', 'Europe'),\n",
              " ('Opel Manta', '24.0', '4', '2158.', 'Europe'),\n",
              " ('Audi 100LS', '20.0', '4', '2582.', 'Europe'),\n",
              " ('Volvo 144ea', '19.0', '4', '2868.', 'Europe'),\n",
              " ('Saab 99le', '24.0', '4', '2660.', 'Europe'),\n",
              " ('Audi Fox', '29.0', '4', '2219.', 'Europe'),\n",
              " ('Volkswagen Dasher', '26.0', '4', '1963.', 'Europe'),\n",
              " ('Opel Manta', '26.0', '4', '2300.', 'Europe'),\n",
              " ('Fiat 128', '24.0', '4', '2108.', 'Europe'),\n",
              " ('Fiat 124 TC', '26.0', '4', '2246.', 'Europe'),\n",
              " ('Fiat x1.9', '31.0', '4', '2000.', 'Europe'),\n",
              " ('Volkswagen Dasher', '25.0', '4', '2223.', 'Europe'),\n",
              " ('Volkswagen Rabbit', '29.0', '4', '1937.', 'Europe'),\n",
              " ('Audi 100LS', '23.0', '4', '2694.', 'Europe'),\n",
              " ('Peugeot 504', '23.0', '4', '2957.', 'Europe'),\n",
              " ('Volvo 244DL', '22.0', '4', '2945.', 'Europe'),\n",
              " ('Saab 99LE', '25.0', '4', '2671.', 'Europe'),\n",
              " ('Fiat 131', '28.0', '4', '2464.', 'Europe'),\n",
              " ('Opel 1900', '25.0', '4', '2220.', 'Europe'),\n",
              " ('Renault 12tl', '27.0', '4', '2202.', 'Europe'),\n",
              " ('Volkswagen Rabbit', '29.0', '4', '1937.', 'Europe'),\n",
              " ('Volkswagen Rabbit', '29.5', '4', '1825.', 'Europe'),\n",
              " ('Volvo 245', '20.0', '4', '3150.', 'Europe'),\n",
              " ('Peugeot 504', '19.0', '4', '3270.', 'Europe'),\n",
              " ('Mercedes-Benz 280s', '16.5', '6', '3820.', 'Europe'),\n",
              " ('Renault 5 GTL', '36.0', '4', '1825.', 'Europe'),\n",
              " ('Volkswagen Rabbit Custom', '29.0', '4', '1940.', 'Europe'),\n",
              " ('Volkswagen Dasher', '30.5', '4', '2190.', 'Europe'),\n",
              " ('BMW 320i', '21.5', '4', '2600.', 'Europe'),\n",
              " ('Volkswagen Rabbit Custom Diesel', '43.1', '4', '1985.', 'Europe'),\n",
              " ('Audi 5000', '20.3', '5', '2830.', 'Europe'),\n",
              " ('Volvo 264gl', '17.0', '6', '3140.', 'Europe'),\n",
              " ('Saab 99gle', '21.6', '4', '2795.', 'Europe'),\n",
              " ('Peugeot 604sl', '16.2', '6', '3410.', 'Europe'),\n",
              " ('Volkswagen Scirocco', '31.5', '4', '1990.', 'Europe'),\n",
              " ('Volkswagen Rabbit Custom', '31.9', '4', '1925.', 'Europe'),\n",
              " ('Mercedes Benz 300d', '25.4', '5', '3530.', 'Europe'),\n",
              " ('Peugeot 504', '27.2', '4', '3190.', 'Europe'),\n",
              " ('Fiat Strada Custom', '37.3', '4', '2130.', 'Europe'),\n",
              " ('Volkswagen Rabbit', '41.5', '4', '2144.', 'Europe'),\n",
              " ('Audi 4000', '34.3', '4', '2188.', 'Europe'),\n",
              " ('Volkswagen Rabbit C (Diesel)', '44.3', '4', '2085.', 'Europe'),\n",
              " ('Volkswagen Dasher (diesel)', '43.4', '4', '2335.', 'Europe'),\n",
              " ('Audi 5000s (diesel)', '36.4', '5', '2950.', 'Europe'),\n",
              " ('Mercedes-Benz 240d', '30.0', '4', '3250.', 'Europe'),\n",
              " ('Renault Lecar Deluxe', '40.9', '4', '1835.', 'Europe'),\n",
              " ('Volkswagen Rabbit', '29.8', '4', '1845.', 'Europe'),\n",
              " ('Triumph TR7 Coupe', '35.0', '4', '2500.', 'Europe'),\n",
              " ('Volkswagen Jetta', '33.0', '4', '2190.', 'Europe'),\n",
              " ('Renault 18i', '34.5', '4', '2320.', 'Europe'),\n",
              " ('Peugeot 505s Turbo Diesel', '28.1', '4', '3230.', 'Europe'),\n",
              " ('Saab 900s', '0', '4', '2800.', 'Europe'),\n",
              " ('Volvo Diesel', '30.7', '6', '3160.', 'Europe'),\n",
              " ('Volkswagen Rabbit l', '36.0', '4', '1980.', 'Europe'),\n",
              " ('Volkswagen Pickup', '44.0', '4', '2130.', 'Europe')]"
            ]
          },
          "metadata": {},
          "execution_count": 56
        }
      ]
    },
    {
      "cell_type": "markdown",
      "source": [
        "**Display the Car name, MPG, Cylinders, Weight and Origin for the cars Originating in either Europe or Japan**"
      ],
      "metadata": {
        "id": "PGvOtYJN8hIM"
      }
    },
    {
      "cell_type": "code",
      "source": [
        "# Car name is column  0\n",
        "(cars_rest.filter(lambda line: line.split(\";\")[8] in ['Europe','Japan']).\n",
        " map(lambda line: (line.split(\";\")[0],\n",
        "    line.split(\";\")[1],\n",
        "    line.split(\";\")[2],\n",
        "    line.split(\";\")[5],\n",
        "    line.split(\";\")[8])).collect())"
      ],
      "metadata": {
        "colab": {
          "base_uri": "https://localhost:8080/"
        },
        "id": "xWhi-lHl8d8z",
        "outputId": "bb39a08b-c79b-48ab-99b9-9c2d4a2f763c"
      },
      "execution_count": null,
      "outputs": [
        {
          "output_type": "execute_result",
          "data": {
            "text/plain": [
              "[('Citroen DS-21 Pallas', '0', '4', '3090.', 'Europe'),\n",
              " ('Toyota Corolla Mark ii', '24.0', '4', '2372.', 'Japan'),\n",
              " ('Datsun PL510', '27.0', '4', '2130.', 'Japan'),\n",
              " ('Volkswagen 1131 Deluxe Sedan', '26.0', '4', '1835.', 'Europe'),\n",
              " ('Peugeot 504', '25.0', '4', '2672.', 'Europe'),\n",
              " ('Audi 100 LS', '24.0', '4', '2430.', 'Europe'),\n",
              " ('Saab 99e', '25.0', '4', '2375.', 'Europe'),\n",
              " ('BMW 2002', '26.0', '4', '2234.', 'Europe'),\n",
              " ('Datsun PL510', '27.0', '4', '2130.', 'Japan'),\n",
              " ('Toyota Corolla', '25.0', '4', '2228.', 'Japan'),\n",
              " ('Volkswagen Super Beetle 117', '0', '4', '1978.', 'Europe'),\n",
              " ('Opel 1900', '28.0', '4', '2123.', 'Europe'),\n",
              " ('Peugeot 304', '30.0', '4', '2074.', 'Europe'),\n",
              " ('Fiat 124B', '30.0', '4', '2065.', 'Europe'),\n",
              " ('Toyota Corolla 1200', '31.0', '4', '1773.', 'Japan'),\n",
              " ('Datsun 1200', '35.0', '4', '1613.', 'Japan'),\n",
              " ('Volkswagen Model 111', '27.0', '4', '1834.', 'Europe'),\n",
              " ('Toyota Corolla Hardtop', '24.0', '4', '2278.', 'Japan'),\n",
              " ('Volkswagen Type 3', '23.0', '4', '2254.', 'Europe'),\n",
              " ('Mazda RX2 Coupe', '19.0', '3', '2330.', 'Japan'),\n",
              " ('Volvo 145e (sw)', '18.0', '4', '2933.', 'Europe'),\n",
              " ('Volkswagen 411 (sw)', '22.0', '4', '2511.', 'Europe'),\n",
              " ('Peugeot 504 (sw)', '21.0', '4', '2979.', 'Europe'),\n",
              " ('Renault 12 (sw)', '26.0', '4', '2189.', 'Europe'),\n",
              " ('Datsun 510 (sw)', '28.0', '4', '2288.', 'Japan'),\n",
              " ('Toyota Corolla Mark II (sw)', '23.0', '4', '2506.', 'Japan'),\n",
              " ('Toyota Corolla 1600 (sw)', '27.0', '4', '2100.', 'Japan'),\n",
              " ('Volkswagen Super Beetle', '26.0', '4', '1950.', 'Europe'),\n",
              " ('Toyota Camry', '20.0', '4', '2279.', 'Japan'),\n",
              " ('Datsun 610', '22.0', '4', '2379.', 'Japan'),\n",
              " ('Mazda RX3', '18.0', '3', '2124.', 'Japan'),\n",
              " ('Fiat 124 Sport Coupe', '26.0', '4', '2265.', 'Europe'),\n",
              " ('Fiat 128', '29.0', '4', '1867.', 'Europe'),\n",
              " ('Opel Manta', '24.0', '4', '2158.', 'Europe'),\n",
              " ('Audi 100LS', '20.0', '4', '2582.', 'Europe'),\n",
              " ('Volvo 144ea', '19.0', '4', '2868.', 'Europe'),\n",
              " ('Saab 99le', '24.0', '4', '2660.', 'Europe'),\n",
              " ('Toyota Mark II', '20.0', '6', '2807.', 'Japan'),\n",
              " ('Datsun B210', '31.0', '4', '1950.', 'Japan'),\n",
              " ('Toyota Corolla 1200', '32.0', '4', '1836.', 'Japan'),\n",
              " ('Audi Fox', '29.0', '4', '2219.', 'Europe'),\n",
              " ('Volkswagen Dasher', '26.0', '4', '1963.', 'Europe'),\n",
              " ('Opel Manta', '26.0', '4', '2300.', 'Europe'),\n",
              " ('Toyota Corolla', '31.0', '4', '1649.', 'Japan'),\n",
              " ('Datsun 710', '32.0', '4', '2003.', 'Japan'),\n",
              " ('Fiat 128', '24.0', '4', '2108.', 'Europe'),\n",
              " ('Fiat 124 TC', '26.0', '4', '2246.', 'Europe'),\n",
              " ('Honda Civic', '24.0', '4', '2489.', 'Japan'),\n",
              " ('Subaru', '26.0', '4', '2391.', 'Japan'),\n",
              " ('Fiat x1.9', '31.0', '4', '2000.', 'Europe'),\n",
              " ('Toyota Corolla', '29.0', '4', '2171.', 'Japan'),\n",
              " ('Toyota Corolla', '24.0', '4', '2702.', 'Japan'),\n",
              " ('Volkswagen Dasher', '25.0', '4', '2223.', 'Europe'),\n",
              " ('Datsun 710', '24.0', '4', '2545.', 'Japan'),\n",
              " ('Volkswagen Rabbit', '29.0', '4', '1937.', 'Europe'),\n",
              " ('Audi 100LS', '23.0', '4', '2694.', 'Europe'),\n",
              " ('Peugeot 504', '23.0', '4', '2957.', 'Europe'),\n",
              " ('Volvo 244DL', '22.0', '4', '2945.', 'Europe'),\n",
              " ('Saab 99LE', '25.0', '4', '2671.', 'Europe'),\n",
              " ('Honda Civic CVCC', '33.0', '4', '1795.', 'Japan'),\n",
              " ('Fiat 131', '28.0', '4', '2464.', 'Europe'),\n",
              " ('Opel 1900', '25.0', '4', '2220.', 'Europe'),\n",
              " ('Renault 12tl', '27.0', '4', '2202.', 'Europe'),\n",
              " ('Volkswagen Rabbit', '29.0', '4', '1937.', 'Europe'),\n",
              " ('Honda Civic', '33.0', '4', '1795.', 'Japan'),\n",
              " ('Volkswagen Rabbit', '29.5', '4', '1825.', 'Europe'),\n",
              " ('Datsun B-210', '32.0', '4', '1990.', 'Japan'),\n",
              " ('Toyota Corolla', '28.0', '4', '2155.', 'Japan'),\n",
              " ('Volvo 245', '20.0', '4', '3150.', 'Europe'),\n",
              " ('Peugeot 504', '19.0', '4', '3270.', 'Europe'),\n",
              " ('Toyota Mark II', '19.0', '6', '2930.', 'Japan'),\n",
              " ('Mercedes-Benz 280s', '16.5', '6', '3820.', 'Europe'),\n",
              " ('Honda Accord CVCC', '31.5', '4', '2045.', 'Japan'),\n",
              " ('Renault 5 GTL', '36.0', '4', '1825.', 'Europe'),\n",
              " ('Datsun F-10 Hatchback', '33.5', '4', '1945.', 'Japan'),\n",
              " ('Volkswagen Rabbit Custom', '29.0', '4', '1940.', 'Europe'),\n",
              " ('Toyota Corolla Liftback', '26.0', '4', '2265.', 'Japan'),\n",
              " ('Subaru DL', '30.0', '4', '1985.', 'Japan'),\n",
              " ('Volkswagen Dasher', '30.5', '4', '2190.', 'Europe'),\n",
              " ('Datsun 810', '22.0', '6', '2815.', 'Japan'),\n",
              " ('BMW 320i', '21.5', '4', '2600.', 'Europe'),\n",
              " ('Mazda RX-4', '21.5', '3', '2720.', 'Japan'),\n",
              " ('Volkswagen Rabbit Custom Diesel', '43.1', '4', '1985.', 'Europe'),\n",
              " ('Mazda GLC Deluxe', '32.8', '4', '1985.', 'Japan'),\n",
              " ('Datsun B210 GX', '39.4', '4', '2070.', 'Japan'),\n",
              " ('Honda Civic CVCC', '36.1', '4', '1800.', 'Japan'),\n",
              " ('Toyota Corolla', '27.5', '4', '2560.', 'Japan'),\n",
              " ('Datsun 510', '27.2', '4', '2300.', 'Japan'),\n",
              " ('Toyota Celica GT Liftback', '21.1', '4', '2515.', 'Japan'),\n",
              " ('Datsun 200-SX', '23.9', '4', '2405.', 'Japan'),\n",
              " ('Audi 5000', '20.3', '5', '2830.', 'Europe'),\n",
              " ('Volvo 264gl', '17.0', '6', '3140.', 'Europe'),\n",
              " ('Saab 99gle', '21.6', '4', '2795.', 'Europe'),\n",
              " ('Peugeot 604sl', '16.2', '6', '3410.', 'Europe'),\n",
              " ('Volkswagen Scirocco', '31.5', '4', '1990.', 'Europe'),\n",
              " ('Honda Accord LX', '29.5', '4', '2135.', 'Japan'),\n",
              " ('Volkswagen Rabbit Custom', '31.9', '4', '1925.', 'Europe'),\n",
              " ('Mazda GLC Deluxe', '34.1', '4', '1975.', 'Japan'),\n",
              " ('Mercedes Benz 300d', '25.4', '5', '3530.', 'Europe'),\n",
              " ('Peugeot 504', '27.2', '4', '3190.', 'Europe'),\n",
              " ('Datsun 210', '31.8', '4', '2020.', 'Japan'),\n",
              " ('Fiat Strada Custom', '37.3', '4', '2130.', 'Europe'),\n",
              " ('Volkswagen Rabbit', '41.5', '4', '2144.', 'Europe'),\n",
              " ('Toyota Corolla Tercel', '38.1', '4', '1968.', 'Japan'),\n",
              " ('Datsun 310', '37.2', '4', '2019.', 'Japan'),\n",
              " ('Audi 4000', '34.3', '4', '2188.', 'Europe'),\n",
              " ('Toyota Corolla Liftback', '29.8', '4', '2711.', 'Japan'),\n",
              " ('Mazda 626', '31.3', '4', '2542.', 'Japan'),\n",
              " ('Datsun 510 Hatchback', '37.0', '4', '2434.', 'Japan'),\n",
              " ('Toyota Corolla', '32.2', '4', '2265.', 'Japan'),\n",
              " ('Mazda GLC', '46.6', '4', '2110.', 'Japan'),\n",
              " ('Datsun 210', '40.8', '4', '2110.', 'Japan'),\n",
              " ('Volkswagen Rabbit C (Diesel)', '44.3', '4', '2085.', 'Europe'),\n",
              " ('Volkswagen Dasher (diesel)', '43.4', '4', '2335.', 'Europe'),\n",
              " ('Audi 5000s (diesel)', '36.4', '5', '2950.', 'Europe'),\n",
              " ('Mercedes-Benz 240d', '30.0', '4', '3250.', 'Europe'),\n",
              " ('Honda Civic 1500 gl', '44.6', '4', '1850.', 'Japan'),\n",
              " ('Renault Lecar Deluxe', '40.9', '4', '1835.', 'Europe'),\n",
              " ('Subaru DL', '33.8', '4', '2145.', 'Japan'),\n",
              " ('Volkswagen Rabbit', '29.8', '4', '1845.', 'Europe'),\n",
              " ('Datsun 280-ZX', '32.7', '6', '2910.', 'Japan'),\n",
              " ('Mazda RX-7 GS', '23.7', '3', '2420.', 'Japan'),\n",
              " ('Triumph TR7 Coupe', '35.0', '4', '2500.', 'Europe'),\n",
              " ('Honda Accord', '32.4', '4', '2290.', 'Japan'),\n",
              " ('Toyota Starlet', '39.1', '4', '1755.', 'Japan'),\n",
              " ('Honda Civic 1300', '35.1', '4', '1760.', 'Japan'),\n",
              " ('Subaru', '32.3', '4', '2065.', 'Japan'),\n",
              " ('Datsun 210 MPG', '37.0', '4', '1975.', 'Japan'),\n",
              " ('Toyota Tercel', '37.7', '4', '2050.', 'Japan'),\n",
              " ('Mazda GLC 4', '34.1', '4', '1985.', 'Japan'),\n",
              " ('Volkswagen Jetta', '33.0', '4', '2190.', 'Europe'),\n",
              " ('Renault 18i', '34.5', '4', '2320.', 'Europe'),\n",
              " ('Honda Prelude', '33.7', '4', '2210.', 'Japan'),\n",
              " ('Toyota Corolla', '32.4', '4', '2350.', 'Japan'),\n",
              " ('Datsun 200SX', '32.9', '4', '2615.', 'Japan'),\n",
              " ('Mazda 626', '31.6', '4', '2635.', 'Japan'),\n",
              " ('Peugeot 505s Turbo Diesel', '28.1', '4', '3230.', 'Europe'),\n",
              " ('Saab 900s', '0', '4', '2800.', 'Europe'),\n",
              " ('Volvo Diesel', '30.7', '6', '3160.', 'Europe'),\n",
              " ('Toyota Cressida', '25.4', '6', '2900.', 'Japan'),\n",
              " ('Datsun 810 Maxima', '24.2', '6', '2930.', 'Japan'),\n",
              " ('Volkswagen Rabbit l', '36.0', '4', '1980.', 'Europe'),\n",
              " ('Mazda GLC Custom l', '37.0', '4', '2025.', 'Japan'),\n",
              " ('Mazda GLC Custom', '31.0', '4', '1970.', 'Japan'),\n",
              " ('Nissan Stanza XE', '36.0', '4', '2160.', 'Japan'),\n",
              " ('Honda Accord', '36.0', '4', '2205.', 'Japan'),\n",
              " ('Toyota Corolla', '34.0', '4', '2245', 'Japan'),\n",
              " ('Honda Civic', '38.0', '4', '1965.', 'Japan'),\n",
              " ('Honda Civic (auto)', '32.0', '4', '1965.', 'Japan'),\n",
              " ('Datsun 310 GX', '38.0', '4', '1995.', 'Japan'),\n",
              " ('Toyota Celica GT', '32.0', '4', '2665.', 'Japan'),\n",
              " ('Volkswagen Pickup', '44.0', '4', '2130.', 'Europe')]"
            ]
          },
          "metadata": {},
          "execution_count": 57
        }
      ]
    },
    {
      "cell_type": "code",
      "source": [],
      "metadata": {
        "id": "f1_JpWx08rAX"
      },
      "execution_count": null,
      "outputs": []
    }
  ]
}