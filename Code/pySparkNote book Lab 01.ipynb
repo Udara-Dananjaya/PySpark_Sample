{
  "nbformat": 4,
  "nbformat_minor": 0,
  "metadata": {
    "colab": {
      "provenance": []
    },
    "kernelspec": {
      "name": "python3",
      "display_name": "Python 3"
    },
    "language_info": {
      "name": "python"
    }
  },
  "cells": [
    {
      "cell_type": "code",
      "source": [
        "!pip install pyspark"
      ],
      "metadata": {
        "colab": {
          "base_uri": "https://localhost:8080/"
        },
        "id": "bIc8zG0kt7lb",
        "outputId": "05d0df08-c1c7-4c10-98c7-c2e32570dbf7"
      },
      "execution_count": null,
      "outputs": [
        {
          "output_type": "stream",
          "name": "stdout",
          "text": [
            "Collecting pyspark\n",
            "  Downloading pyspark-3.4.1.tar.gz (310.8 MB)\n",
            "\u001b[2K     \u001b[90m━━━━━━━━━━━━━━━━━━━━━━━━━━━━━━━━━━━━━━━\u001b[0m \u001b[32m310.8/310.8 MB\u001b[0m \u001b[31m3.4 MB/s\u001b[0m eta \u001b[36m0:00:00\u001b[0m\n",
            "\u001b[?25h  Preparing metadata (setup.py) ... \u001b[?25l\u001b[?25hdone\n",
            "Requirement already satisfied: py4j==0.10.9.7 in /usr/local/lib/python3.10/dist-packages (from pyspark) (0.10.9.7)\n",
            "Building wheels for collected packages: pyspark\n",
            "  Building wheel for pyspark (setup.py) ... \u001b[?25l\u001b[?25hdone\n",
            "  Created wheel for pyspark: filename=pyspark-3.4.1-py2.py3-none-any.whl size=311285387 sha256=966a448b7020a5870f270dd923cc260fbcfb9741d02d453a08c47160c18d520d\n",
            "  Stored in directory: /root/.cache/pip/wheels/0d/77/a3/ff2f74cc9ab41f8f594dabf0579c2a7c6de920d584206e0834\n",
            "Successfully built pyspark\n",
            "Installing collected packages: pyspark\n",
            "Successfully installed pyspark-3.4.1\n"
          ]
        }
      ]
    },
    {
      "cell_type": "code",
      "source": [
        "from pyspark.sql import SparkSession\n",
        "spark = SparkSession.builder\\\n",
        "        .master(\"local\")\\\n",
        "        .appName(\"Colab\")\\\n",
        "        .config('spark.ui.port', '4050')\\\n",
        "        .getOrCreate()"
      ],
      "metadata": {
        "id": "zRu7raL_fjvS"
      },
      "execution_count": null,
      "outputs": []
    },
    {
      "cell_type": "code",
      "source": [
        "spark"
      ],
      "metadata": {
        "colab": {
          "base_uri": "https://localhost:8080/",
          "height": 219
        },
        "id": "xbXrK0k7fnCC",
        "outputId": "f0f90923-428e-4307-8b24-59148f59e43d"
      },
      "execution_count": null,
      "outputs": [
        {
          "output_type": "execute_result",
          "data": {
            "text/plain": [
              "<pyspark.sql.session.SparkSession at 0x7d69a0304970>"
            ],
            "text/html": [
              "\n",
              "            <div>\n",
              "                <p><b>SparkSession - in-memory</b></p>\n",
              "                \n",
              "        <div>\n",
              "            <p><b>SparkContext</b></p>\n",
              "\n",
              "            <p><a href=\"http://6b55e7b842c5:4050\">Spark UI</a></p>\n",
              "\n",
              "            <dl>\n",
              "              <dt>Version</dt>\n",
              "                <dd><code>v3.4.1</code></dd>\n",
              "              <dt>Master</dt>\n",
              "                <dd><code>local</code></dd>\n",
              "              <dt>AppName</dt>\n",
              "                <dd><code>Colab</code></dd>\n",
              "            </dl>\n",
              "        </div>\n",
              "        \n",
              "            </div>\n",
              "        "
            ]
          },
          "metadata": {},
          "execution_count": 4
        }
      ]
    },
    {
      "cell_type": "code",
      "source": [
        "from google.colab import drive\n",
        "drive.mount('/content/drive')"
      ],
      "metadata": {
        "colab": {
          "base_uri": "https://localhost:8080/"
        },
        "id": "HDEkSqp5gD53",
        "outputId": "d7fb074b-c016-4f6a-f09f-16177c8a933a"
      },
      "execution_count": null,
      "outputs": [
        {
          "output_type": "stream",
          "name": "stdout",
          "text": [
            "Mounted at /content/drive\n"
          ]
        }
      ]
    },
    {
      "cell_type": "code",
      "source": [
        "from google.colab import files\n",
        "uploaded = files.upload()"
      ],
      "metadata": {
        "colab": {
          "base_uri": "https://localhost:8080/",
          "height": 73
        },
        "id": "KGcEPe-tg6pj",
        "outputId": "65294478-bc5c-48e3-8785-37fa8ed3a35d"
      },
      "execution_count": null,
      "outputs": [
        {
          "output_type": "display_data",
          "data": {
            "text/plain": [
              "<IPython.core.display.HTML object>"
            ],
            "text/html": [
              "\n",
              "     <input type=\"file\" id=\"files-e20a1f3d-d529-4d9b-b545-607ce43f8371\" name=\"files[]\" multiple disabled\n",
              "        style=\"border:none\" />\n",
              "     <output id=\"result-e20a1f3d-d529-4d9b-b545-607ce43f8371\">\n",
              "      Upload widget is only available when the cell has been executed in the\n",
              "      current browser session. Please rerun this cell to enable.\n",
              "      </output>\n",
              "      <script>// Copyright 2017 Google LLC\n",
              "//\n",
              "// Licensed under the Apache License, Version 2.0 (the \"License\");\n",
              "// you may not use this file except in compliance with the License.\n",
              "// You may obtain a copy of the License at\n",
              "//\n",
              "//      http://www.apache.org/licenses/LICENSE-2.0\n",
              "//\n",
              "// Unless required by applicable law or agreed to in writing, software\n",
              "// distributed under the License is distributed on an \"AS IS\" BASIS,\n",
              "// WITHOUT WARRANTIES OR CONDITIONS OF ANY KIND, either express or implied.\n",
              "// See the License for the specific language governing permissions and\n",
              "// limitations under the License.\n",
              "\n",
              "/**\n",
              " * @fileoverview Helpers for google.colab Python module.\n",
              " */\n",
              "(function(scope) {\n",
              "function span(text, styleAttributes = {}) {\n",
              "  const element = document.createElement('span');\n",
              "  element.textContent = text;\n",
              "  for (const key of Object.keys(styleAttributes)) {\n",
              "    element.style[key] = styleAttributes[key];\n",
              "  }\n",
              "  return element;\n",
              "}\n",
              "\n",
              "// Max number of bytes which will be uploaded at a time.\n",
              "const MAX_PAYLOAD_SIZE = 100 * 1024;\n",
              "\n",
              "function _uploadFiles(inputId, outputId) {\n",
              "  const steps = uploadFilesStep(inputId, outputId);\n",
              "  const outputElement = document.getElementById(outputId);\n",
              "  // Cache steps on the outputElement to make it available for the next call\n",
              "  // to uploadFilesContinue from Python.\n",
              "  outputElement.steps = steps;\n",
              "\n",
              "  return _uploadFilesContinue(outputId);\n",
              "}\n",
              "\n",
              "// This is roughly an async generator (not supported in the browser yet),\n",
              "// where there are multiple asynchronous steps and the Python side is going\n",
              "// to poll for completion of each step.\n",
              "// This uses a Promise to block the python side on completion of each step,\n",
              "// then passes the result of the previous step as the input to the next step.\n",
              "function _uploadFilesContinue(outputId) {\n",
              "  const outputElement = document.getElementById(outputId);\n",
              "  const steps = outputElement.steps;\n",
              "\n",
              "  const next = steps.next(outputElement.lastPromiseValue);\n",
              "  return Promise.resolve(next.value.promise).then((value) => {\n",
              "    // Cache the last promise value to make it available to the next\n",
              "    // step of the generator.\n",
              "    outputElement.lastPromiseValue = value;\n",
              "    return next.value.response;\n",
              "  });\n",
              "}\n",
              "\n",
              "/**\n",
              " * Generator function which is called between each async step of the upload\n",
              " * process.\n",
              " * @param {string} inputId Element ID of the input file picker element.\n",
              " * @param {string} outputId Element ID of the output display.\n",
              " * @return {!Iterable<!Object>} Iterable of next steps.\n",
              " */\n",
              "function* uploadFilesStep(inputId, outputId) {\n",
              "  const inputElement = document.getElementById(inputId);\n",
              "  inputElement.disabled = false;\n",
              "\n",
              "  const outputElement = document.getElementById(outputId);\n",
              "  outputElement.innerHTML = '';\n",
              "\n",
              "  const pickedPromise = new Promise((resolve) => {\n",
              "    inputElement.addEventListener('change', (e) => {\n",
              "      resolve(e.target.files);\n",
              "    });\n",
              "  });\n",
              "\n",
              "  const cancel = document.createElement('button');\n",
              "  inputElement.parentElement.appendChild(cancel);\n",
              "  cancel.textContent = 'Cancel upload';\n",
              "  const cancelPromise = new Promise((resolve) => {\n",
              "    cancel.onclick = () => {\n",
              "      resolve(null);\n",
              "    };\n",
              "  });\n",
              "\n",
              "  // Wait for the user to pick the files.\n",
              "  const files = yield {\n",
              "    promise: Promise.race([pickedPromise, cancelPromise]),\n",
              "    response: {\n",
              "      action: 'starting',\n",
              "    }\n",
              "  };\n",
              "\n",
              "  cancel.remove();\n",
              "\n",
              "  // Disable the input element since further picks are not allowed.\n",
              "  inputElement.disabled = true;\n",
              "\n",
              "  if (!files) {\n",
              "    return {\n",
              "      response: {\n",
              "        action: 'complete',\n",
              "      }\n",
              "    };\n",
              "  }\n",
              "\n",
              "  for (const file of files) {\n",
              "    const li = document.createElement('li');\n",
              "    li.append(span(file.name, {fontWeight: 'bold'}));\n",
              "    li.append(span(\n",
              "        `(${file.type || 'n/a'}) - ${file.size} bytes, ` +\n",
              "        `last modified: ${\n",
              "            file.lastModifiedDate ? file.lastModifiedDate.toLocaleDateString() :\n",
              "                                    'n/a'} - `));\n",
              "    const percent = span('0% done');\n",
              "    li.appendChild(percent);\n",
              "\n",
              "    outputElement.appendChild(li);\n",
              "\n",
              "    const fileDataPromise = new Promise((resolve) => {\n",
              "      const reader = new FileReader();\n",
              "      reader.onload = (e) => {\n",
              "        resolve(e.target.result);\n",
              "      };\n",
              "      reader.readAsArrayBuffer(file);\n",
              "    });\n",
              "    // Wait for the data to be ready.\n",
              "    let fileData = yield {\n",
              "      promise: fileDataPromise,\n",
              "      response: {\n",
              "        action: 'continue',\n",
              "      }\n",
              "    };\n",
              "\n",
              "    // Use a chunked sending to avoid message size limits. See b/62115660.\n",
              "    let position = 0;\n",
              "    do {\n",
              "      const length = Math.min(fileData.byteLength - position, MAX_PAYLOAD_SIZE);\n",
              "      const chunk = new Uint8Array(fileData, position, length);\n",
              "      position += length;\n",
              "\n",
              "      const base64 = btoa(String.fromCharCode.apply(null, chunk));\n",
              "      yield {\n",
              "        response: {\n",
              "          action: 'append',\n",
              "          file: file.name,\n",
              "          data: base64,\n",
              "        },\n",
              "      };\n",
              "\n",
              "      let percentDone = fileData.byteLength === 0 ?\n",
              "          100 :\n",
              "          Math.round((position / fileData.byteLength) * 100);\n",
              "      percent.textContent = `${percentDone}% done`;\n",
              "\n",
              "    } while (position < fileData.byteLength);\n",
              "  }\n",
              "\n",
              "  // All done.\n",
              "  yield {\n",
              "    response: {\n",
              "      action: 'complete',\n",
              "    }\n",
              "  };\n",
              "}\n",
              "\n",
              "scope.google = scope.google || {};\n",
              "scope.google.colab = scope.google.colab || {};\n",
              "scope.google.colab._files = {\n",
              "  _uploadFiles,\n",
              "  _uploadFilesContinue,\n",
              "};\n",
              "})(self);\n",
              "</script> "
            ]
          },
          "metadata": {}
        },
        {
          "output_type": "stream",
          "name": "stdout",
          "text": [
            "Saving card.csv.csv to card.csv.csv\n"
          ]
        }
      ]
    },
    {
      "cell_type": "code",
      "source": [
        "import io\n",
        "import pandas as pd\n",
        "df2 = pd.read_csv(io.BytesIO(uploaded['card.csv.csv']))\n",
        "\n"
      ],
      "metadata": {
        "id": "7ozIdEXVmP5g"
      },
      "execution_count": null,
      "outputs": []
    },
    {
      "cell_type": "code",
      "source": [
        "print(df2)"
      ],
      "metadata": {
        "colab": {
          "base_uri": "https://localhost:8080/"
        },
        "id": "naDWQpupn8oy",
        "outputId": "b2c5b108-d2af-4109-e453-28dbaea32d1f"
      },
      "execution_count": null,
      "outputs": [
        {
          "output_type": "stream",
          "name": "stdout",
          "text": [
            "      Series_reference   Period  Data_value Suppressed STATUS    UNITS  \\\n",
            "0           ECTA.S19A1  2001.03      2462.5        NaN      F  Dollars   \n",
            "1           ECTA.S19A1  2002.03     17177.2        NaN      F  Dollars   \n",
            "2           ECTA.S19A1  2003.03     22530.5        NaN      F  Dollars   \n",
            "3           ECTA.S19A1  2004.03     28005.1        NaN      F  Dollars   \n",
            "4           ECTA.S19A1  2005.03     30629.6        NaN      F  Dollars   \n",
            "...                ...      ...         ...        ...    ...      ...   \n",
            "19740       ECTQ.S4AXP  2022.06        33.5        NaN      F  Percent   \n",
            "19741       ECTQ.S4AXP  2022.09        33.2        NaN      F  Percent   \n",
            "19742       ECTQ.S4AXP  2022.12        32.7        NaN      F  Percent   \n",
            "19743       ECTQ.S4AXP  2023.03        31.9        NaN      F  Percent   \n",
            "19744       ECTQ.S4AXP  2023.06        33.0        NaN      F  Percent   \n",
            "\n",
            "       Magnitude                                        Subject  \\\n",
            "0              6  Electronic Card Transactions (ANZSIC06) - ECT   \n",
            "1              6  Electronic Card Transactions (ANZSIC06) - ECT   \n",
            "2              6  Electronic Card Transactions (ANZSIC06) - ECT   \n",
            "3              6  Electronic Card Transactions (ANZSIC06) - ECT   \n",
            "4              6  Electronic Card Transactions (ANZSIC06) - ECT   \n",
            "...          ...                                            ...   \n",
            "19740          0  Electronic Card Transactions (ANZSIC06) - ECT   \n",
            "19741          0  Electronic Card Transactions (ANZSIC06) - ECT   \n",
            "19742          0  Electronic Card Transactions (ANZSIC06) - ECT   \n",
            "19743          0  Electronic Card Transactions (ANZSIC06) - ECT   \n",
            "19744          0  Electronic Card Transactions (ANZSIC06) - ECT   \n",
            "\n",
            "                                                   Group Series_title_1  \\\n",
            "0      Total values - Electronic card transactions A/...         Actual   \n",
            "1      Total values - Electronic card transactions A/...         Actual   \n",
            "2      Total values - Electronic card transactions A/...         Actual   \n",
            "3      Total values - Electronic card transactions A/...         Actual   \n",
            "4      Total values - Electronic card transactions A/...         Actual   \n",
            "...                                                  ...            ...   \n",
            "19740  Electronic card transactions by mean and propo...         Actual   \n",
            "19741  Electronic card transactions by mean and propo...         Actual   \n",
            "19742  Electronic card transactions by mean and propo...         Actual   \n",
            "19743  Electronic card transactions by mean and propo...         Actual   \n",
            "19744  Electronic card transactions by mean and propo...         Actual   \n",
            "\n",
            "                                          Series_title_2  Series_title_3  \\\n",
            "0                                   RTS total industries             NaN   \n",
            "1                                   RTS total industries             NaN   \n",
            "2                                   RTS total industries             NaN   \n",
            "3                                   RTS total industries             NaN   \n",
            "4                                   RTS total industries             NaN   \n",
            "...                                                  ...             ...   \n",
            "19740  Debit card usage as a proportion of total ECT ...  Proportion (%)   \n",
            "19741  Debit card usage as a proportion of total ECT ...  Proportion (%)   \n",
            "19742  Debit card usage as a proportion of total ECT ...  Proportion (%)   \n",
            "19743  Debit card usage as a proportion of total ECT ...  Proportion (%)   \n",
            "19744  Debit card usage as a proportion of total ECT ...  Proportion (%)   \n",
            "\n",
            "       Series_title_4  Series_title_5  \n",
            "0                 NaN             NaN  \n",
            "1                 NaN             NaN  \n",
            "2                 NaN             NaN  \n",
            "3                 NaN             NaN  \n",
            "4                 NaN             NaN  \n",
            "...               ...             ...  \n",
            "19740             NaN             NaN  \n",
            "19741             NaN             NaN  \n",
            "19742             NaN             NaN  \n",
            "19743             NaN             NaN  \n",
            "19744             NaN             NaN  \n",
            "\n",
            "[19745 rows x 14 columns]\n"
          ]
        }
      ]
    },
    {
      "cell_type": "code",
      "source": [
        "df2.count()"
      ],
      "metadata": {
        "colab": {
          "base_uri": "https://localhost:8080/"
        },
        "id": "as-nmdjdmq3L",
        "outputId": "b39ad4d0-b531-41d5-e9c4-6126b0f0e730"
      },
      "execution_count": null,
      "outputs": [
        {
          "output_type": "execute_result",
          "data": {
            "text/plain": [
              "Series_reference    19745\n",
              "Period              19745\n",
              "Data_value          17854\n",
              "Suppressed            770\n",
              "STATUS              19743\n",
              "UNITS               19745\n",
              "Magnitude           19745\n",
              "Subject             19745\n",
              "Group               19745\n",
              "Series_title_1      19745\n",
              "Series_title_2      19745\n",
              "Series_title_3       3879\n",
              "Series_title_4          0\n",
              "Series_title_5          0\n",
              "dtype: int64"
            ]
          },
          "metadata": {},
          "execution_count": 50
        }
      ]
    },
    {
      "cell_type": "code",
      "execution_count": null,
      "metadata": {
        "colab": {
          "base_uri": "https://localhost:8080/"
        },
        "id": "fZQeMRkPtset",
        "outputId": "b6bb1502-d55b-4ce8-a251-591df14a0427"
      },
      "outputs": [
        {
          "output_type": "stream",
          "name": "stdout",
          "text": [
            "[1, 4, 9, 16, 25]\n"
          ]
        }
      ],
      "source": [
        "from pyspark import SparkContext, SparkConf\n",
        "\n",
        "# Create a SparkConf and SparkContext\n",
        "conf = SparkConf().setAppName(\"RDDExample\")\n",
        "sc = SparkContext(conf=conf)\n",
        "\n",
        "# Create an RDD from a list of data\n",
        "data_list = [1, 2, 3, 4, 5]\n",
        "rdd = sc.parallelize(data_list)\n",
        "\n",
        "# Perform transformations on the RDD\n",
        "squared_rdd = rdd.map(lambda x: x * x)\n",
        "\n",
        "# Collect and print the results\n",
        "result = squared_rdd.collect()\n",
        "print(result)\n",
        "\n"
      ]
    },
    {
      "cell_type": "markdown",
      "source": [
        "Show the RDD contents in PySpark using a for loop in python"
      ],
      "metadata": {
        "id": "VZUAA-9cvYnI"
      }
    },
    {
      "cell_type": "code",
      "source": [
        "# Show the contents of the RDD\n",
        "print(\"RDD Contents:\")\n",
        "for item in rdd.collect():\n",
        "    print(item)"
      ],
      "metadata": {
        "colab": {
          "base_uri": "https://localhost:8080/"
        },
        "id": "5zerF3b1vKES",
        "outputId": "aaf9ba28-955b-4aee-beda-802ed2b4b3ff"
      },
      "execution_count": null,
      "outputs": [
        {
          "output_type": "stream",
          "name": "stdout",
          "text": [
            "RDD Contents:\n",
            "1\n",
            "2\n",
            "3\n",
            "4\n",
            "5\n"
          ]
        }
      ]
    },
    {
      "cell_type": "markdown",
      "source": [
        "Write pySprak code to generate a RDD with 1-1000 integes"
      ],
      "metadata": {
        "id": "01G1VKYnv1qr"
      }
    },
    {
      "cell_type": "code",
      "source": [
        "# Create an RDD with 1000 integers\n",
        "num_integers = 1000\n",
        "rdd = sc.parallelize(range(1, num_integers + 1))\n",
        "\n",
        "# Show the contents of the RDD (print first 10 elements)\n",
        "print(\"RDD Contents:\")\n",
        "for item in rdd.take(100):\n",
        "    print(item)\n"
      ],
      "metadata": {
        "colab": {
          "base_uri": "https://localhost:8080/"
        },
        "id": "RrlxTxtmv9i4",
        "outputId": "f2b98715-addc-4f20-b679-f6282e7b9c70"
      },
      "execution_count": null,
      "outputs": [
        {
          "output_type": "stream",
          "name": "stdout",
          "text": [
            "RDD Contents:\n",
            "1\n",
            "2\n",
            "3\n",
            "4\n",
            "5\n",
            "6\n",
            "7\n",
            "8\n",
            "9\n",
            "10\n",
            "11\n",
            "12\n",
            "13\n",
            "14\n",
            "15\n",
            "16\n",
            "17\n",
            "18\n",
            "19\n",
            "20\n",
            "21\n",
            "22\n",
            "23\n",
            "24\n",
            "25\n",
            "26\n",
            "27\n",
            "28\n",
            "29\n",
            "30\n",
            "31\n",
            "32\n",
            "33\n",
            "34\n",
            "35\n",
            "36\n",
            "37\n",
            "38\n",
            "39\n",
            "40\n",
            "41\n",
            "42\n",
            "43\n",
            "44\n",
            "45\n",
            "46\n",
            "47\n",
            "48\n",
            "49\n",
            "50\n",
            "51\n",
            "52\n",
            "53\n",
            "54\n",
            "55\n",
            "56\n",
            "57\n",
            "58\n",
            "59\n",
            "60\n",
            "61\n",
            "62\n",
            "63\n",
            "64\n",
            "65\n",
            "66\n",
            "67\n",
            "68\n",
            "69\n",
            "70\n",
            "71\n",
            "72\n",
            "73\n",
            "74\n",
            "75\n",
            "76\n",
            "77\n",
            "78\n",
            "79\n",
            "80\n",
            "81\n",
            "82\n",
            "83\n",
            "84\n",
            "85\n",
            "86\n",
            "87\n",
            "88\n",
            "89\n",
            "90\n",
            "91\n",
            "92\n",
            "93\n",
            "94\n",
            "95\n",
            "96\n",
            "97\n",
            "98\n",
            "99\n",
            "100\n"
          ]
        }
      ]
    },
    {
      "cell_type": "code",
      "source": [
        "from google.colab import files\n",
        "\n",
        "# Upload a file from your local machine to Colab\n",
        "uploaded = files.upload()"
      ],
      "metadata": {
        "colab": {
          "base_uri": "https://localhost:8080/",
          "height": 73
        },
        "id": "F0N1X00ubAxo",
        "outputId": "09e7258e-5c28-4464-d2ad-991e834139f8"
      },
      "execution_count": null,
      "outputs": [
        {
          "output_type": "display_data",
          "data": {
            "text/plain": [
              "<IPython.core.display.HTML object>"
            ],
            "text/html": [
              "\n",
              "     <input type=\"file\" id=\"files-bbc93d32-1de7-49c6-a905-b2b4f8bdcc69\" name=\"files[]\" multiple disabled\n",
              "        style=\"border:none\" />\n",
              "     <output id=\"result-bbc93d32-1de7-49c6-a905-b2b4f8bdcc69\">\n",
              "      Upload widget is only available when the cell has been executed in the\n",
              "      current browser session. Please rerun this cell to enable.\n",
              "      </output>\n",
              "      <script>// Copyright 2017 Google LLC\n",
              "//\n",
              "// Licensed under the Apache License, Version 2.0 (the \"License\");\n",
              "// you may not use this file except in compliance with the License.\n",
              "// You may obtain a copy of the License at\n",
              "//\n",
              "//      http://www.apache.org/licenses/LICENSE-2.0\n",
              "//\n",
              "// Unless required by applicable law or agreed to in writing, software\n",
              "// distributed under the License is distributed on an \"AS IS\" BASIS,\n",
              "// WITHOUT WARRANTIES OR CONDITIONS OF ANY KIND, either express or implied.\n",
              "// See the License for the specific language governing permissions and\n",
              "// limitations under the License.\n",
              "\n",
              "/**\n",
              " * @fileoverview Helpers for google.colab Python module.\n",
              " */\n",
              "(function(scope) {\n",
              "function span(text, styleAttributes = {}) {\n",
              "  const element = document.createElement('span');\n",
              "  element.textContent = text;\n",
              "  for (const key of Object.keys(styleAttributes)) {\n",
              "    element.style[key] = styleAttributes[key];\n",
              "  }\n",
              "  return element;\n",
              "}\n",
              "\n",
              "// Max number of bytes which will be uploaded at a time.\n",
              "const MAX_PAYLOAD_SIZE = 100 * 1024;\n",
              "\n",
              "function _uploadFiles(inputId, outputId) {\n",
              "  const steps = uploadFilesStep(inputId, outputId);\n",
              "  const outputElement = document.getElementById(outputId);\n",
              "  // Cache steps on the outputElement to make it available for the next call\n",
              "  // to uploadFilesContinue from Python.\n",
              "  outputElement.steps = steps;\n",
              "\n",
              "  return _uploadFilesContinue(outputId);\n",
              "}\n",
              "\n",
              "// This is roughly an async generator (not supported in the browser yet),\n",
              "// where there are multiple asynchronous steps and the Python side is going\n",
              "// to poll for completion of each step.\n",
              "// This uses a Promise to block the python side on completion of each step,\n",
              "// then passes the result of the previous step as the input to the next step.\n",
              "function _uploadFilesContinue(outputId) {\n",
              "  const outputElement = document.getElementById(outputId);\n",
              "  const steps = outputElement.steps;\n",
              "\n",
              "  const next = steps.next(outputElement.lastPromiseValue);\n",
              "  return Promise.resolve(next.value.promise).then((value) => {\n",
              "    // Cache the last promise value to make it available to the next\n",
              "    // step of the generator.\n",
              "    outputElement.lastPromiseValue = value;\n",
              "    return next.value.response;\n",
              "  });\n",
              "}\n",
              "\n",
              "/**\n",
              " * Generator function which is called between each async step of the upload\n",
              " * process.\n",
              " * @param {string} inputId Element ID of the input file picker element.\n",
              " * @param {string} outputId Element ID of the output display.\n",
              " * @return {!Iterable<!Object>} Iterable of next steps.\n",
              " */\n",
              "function* uploadFilesStep(inputId, outputId) {\n",
              "  const inputElement = document.getElementById(inputId);\n",
              "  inputElement.disabled = false;\n",
              "\n",
              "  const outputElement = document.getElementById(outputId);\n",
              "  outputElement.innerHTML = '';\n",
              "\n",
              "  const pickedPromise = new Promise((resolve) => {\n",
              "    inputElement.addEventListener('change', (e) => {\n",
              "      resolve(e.target.files);\n",
              "    });\n",
              "  });\n",
              "\n",
              "  const cancel = document.createElement('button');\n",
              "  inputElement.parentElement.appendChild(cancel);\n",
              "  cancel.textContent = 'Cancel upload';\n",
              "  const cancelPromise = new Promise((resolve) => {\n",
              "    cancel.onclick = () => {\n",
              "      resolve(null);\n",
              "    };\n",
              "  });\n",
              "\n",
              "  // Wait for the user to pick the files.\n",
              "  const files = yield {\n",
              "    promise: Promise.race([pickedPromise, cancelPromise]),\n",
              "    response: {\n",
              "      action: 'starting',\n",
              "    }\n",
              "  };\n",
              "\n",
              "  cancel.remove();\n",
              "\n",
              "  // Disable the input element since further picks are not allowed.\n",
              "  inputElement.disabled = true;\n",
              "\n",
              "  if (!files) {\n",
              "    return {\n",
              "      response: {\n",
              "        action: 'complete',\n",
              "      }\n",
              "    };\n",
              "  }\n",
              "\n",
              "  for (const file of files) {\n",
              "    const li = document.createElement('li');\n",
              "    li.append(span(file.name, {fontWeight: 'bold'}));\n",
              "    li.append(span(\n",
              "        `(${file.type || 'n/a'}) - ${file.size} bytes, ` +\n",
              "        `last modified: ${\n",
              "            file.lastModifiedDate ? file.lastModifiedDate.toLocaleDateString() :\n",
              "                                    'n/a'} - `));\n",
              "    const percent = span('0% done');\n",
              "    li.appendChild(percent);\n",
              "\n",
              "    outputElement.appendChild(li);\n",
              "\n",
              "    const fileDataPromise = new Promise((resolve) => {\n",
              "      const reader = new FileReader();\n",
              "      reader.onload = (e) => {\n",
              "        resolve(e.target.result);\n",
              "      };\n",
              "      reader.readAsArrayBuffer(file);\n",
              "    });\n",
              "    // Wait for the data to be ready.\n",
              "    let fileData = yield {\n",
              "      promise: fileDataPromise,\n",
              "      response: {\n",
              "        action: 'continue',\n",
              "      }\n",
              "    };\n",
              "\n",
              "    // Use a chunked sending to avoid message size limits. See b/62115660.\n",
              "    let position = 0;\n",
              "    do {\n",
              "      const length = Math.min(fileData.byteLength - position, MAX_PAYLOAD_SIZE);\n",
              "      const chunk = new Uint8Array(fileData, position, length);\n",
              "      position += length;\n",
              "\n",
              "      const base64 = btoa(String.fromCharCode.apply(null, chunk));\n",
              "      yield {\n",
              "        response: {\n",
              "          action: 'append',\n",
              "          file: file.name,\n",
              "          data: base64,\n",
              "        },\n",
              "      };\n",
              "\n",
              "      let percentDone = fileData.byteLength === 0 ?\n",
              "          100 :\n",
              "          Math.round((position / fileData.byteLength) * 100);\n",
              "      percent.textContent = `${percentDone}% done`;\n",
              "\n",
              "    } while (position < fileData.byteLength);\n",
              "  }\n",
              "\n",
              "  // All done.\n",
              "  yield {\n",
              "    response: {\n",
              "      action: 'complete',\n",
              "    }\n",
              "  };\n",
              "}\n",
              "\n",
              "scope.google = scope.google || {};\n",
              "scope.google.colab = scope.google.colab || {};\n",
              "scope.google.colab._files = {\n",
              "  _uploadFiles,\n",
              "  _uploadFilesContinue,\n",
              "};\n",
              "})(self);\n",
              "</script> "
            ]
          },
          "metadata": {}
        },
        {
          "output_type": "stream",
          "name": "stdout",
          "text": [
            "Saving card.txt to card.txt\n"
          ]
        }
      ]
    },
    {
      "cell_type": "markdown",
      "source": [
        "Import PySpark and initialize a SparkSession:"
      ],
      "metadata": {
        "id": "tme0XadclotZ"
      }
    },
    {
      "cell_type": "code",
      "source": [
        "from pyspark.sql import SparkSession\n",
        "\n",
        "# Initialize a SparkSession\n",
        "spark = SparkSession.builder \\\n",
        "    .appName(\"RDDFromFileExample\") \\\n",
        "    .getOrCreate()\n",
        "\n",
        "file_path = \"file:///content/card.txt\"\n",
        "rdd = spark.sparkContext.textFile(file_path)"
      ],
      "metadata": {
        "id": "pHrg-TWylfmO"
      },
      "execution_count": null,
      "outputs": []
    },
    {
      "cell_type": "code",
      "source": [
        "line_count = rdd.count()\n",
        "print(\"Number of lines in the RDD:\", line_count)"
      ],
      "metadata": {
        "colab": {
          "base_uri": "https://localhost:8080/"
        },
        "id": "AF_Ga2dJmEBO",
        "outputId": "5caf6ca3-6abf-4349-a5c7-d9aa630f1d65"
      },
      "execution_count": null,
      "outputs": [
        {
          "output_type": "stream",
          "name": "stdout",
          "text": [
            "Number of lines in the RDD: 6\n"
          ]
        }
      ]
    },
    {
      "cell_type": "code",
      "source": [
        "from pyspark.sql import SparkSession\n",
        "\n",
        "# Initialize a SparkSession\n",
        "spark = SparkSession.builder \\\n",
        "    .appName(\"LocalFileReadExample\") \\\n",
        "    .getOrCreate()\n",
        "\n",
        "# Set the path to the uploaded file\n",
        "file_path = \"file:///content/card.txt\"\n",
        "\n",
        "# Read the file into a DataFrame\n",
        "df = spark.read.text(file_path)\n",
        "\n",
        "# Display the DataFrame or perform further operations as needed\n",
        "df.show()\n",
        "\n",
        "# Stop the SparkSession\n",
        "spark.stop()"
      ],
      "metadata": {
        "colab": {
          "base_uri": "https://localhost:8080/"
        },
        "id": "WV55gJsDkcr9",
        "outputId": "17d39355-8c59-4668-bbb3-8443d4d44a4c"
      },
      "execution_count": null,
      "outputs": [
        {
          "output_type": "stream",
          "name": "stdout",
          "text": [
            "+-----------------+\n",
            "|            value|\n",
            "+-----------------+\n",
            "|             RDD |\n",
            "|        big data |\n",
            "|Machine learning |\n",
            "|             PhP |\n",
            "|             Java|\n",
            "|           Python|\n",
            "+-----------------+\n",
            "\n"
          ]
        }
      ]
    },
    {
      "cell_type": "markdown",
      "source": [
        "RDD transformations in PySpark are operations that you can perform on an RDD (Resilient Distributed Dataset) to create a new RDD with modified data."
      ],
      "metadata": {
        "id": "xPrACB0atrJQ"
      }
    },
    {
      "cell_type": "code",
      "source": [
        "#Import PySpark and initialize a SparkSession:\n",
        "from pyspark.sql import SparkSession\n",
        "\n",
        "# Initialize a SparkSession\n",
        "spark = SparkSession.builder \\\n",
        "    .appName(\"RDDTransformationExample\") \\\n",
        "    .getOrCreate()\n",
        "\n",
        "#Create an RDD from a list of data:\n",
        "data = [1, 2, 3, 4, 5, 6, 7, 8, 9, 10]\n",
        "rdd = spark.sparkContext.parallelize(data)\n",
        "\n",
        "\n",
        "#Now you have an RDD named rdd containing the data [1, 2, 3, 4, 5].\n",
        "\n",
        "#Let's perform some common RDD transformations:"
      ],
      "metadata": {
        "id": "-IsxSLUvgE-9"
      },
      "execution_count": null,
      "outputs": []
    },
    {
      "cell_type": "markdown",
      "source": [
        "Map Transformation:\n",
        "Map applies a function to each element of the RDD and returns a new RDD with the transformed elements. PySpark map (map()) is an RDD transformation that is used to apply the transformation function (lambda) on every element of RDD/DataFrame and returns a new RDD."
      ],
      "metadata": {
        "id": "cclYweGvuRNS"
      }
    },
    {
      "cell_type": "code",
      "source": [
        "# Square each element in the RDD\n",
        "squared_rdd = rdd.map(lambda x: x * x)\n",
        "print(\"Squared RDD:\", squared_rdd.collect())  # Collect and print the results"
      ],
      "metadata": {
        "colab": {
          "base_uri": "https://localhost:8080/"
        },
        "id": "lOTeKZbFuSUA",
        "outputId": "88b04aaf-c501-47e7-bd32-1ad82d1a2b75"
      },
      "execution_count": null,
      "outputs": [
        {
          "output_type": "stream",
          "name": "stdout",
          "text": [
            "Squared RDD: [1, 4, 9, 16, 25, 36, 49, 64, 81, 100]\n"
          ]
        }
      ]
    },
    {
      "cell_type": "markdown",
      "source": [
        "Filter Transformation:\n",
        "Filter returns a new RDD with elements that satisfy a given condition. That is it is used to filter the results"
      ],
      "metadata": {
        "id": "LTgev7upvgEC"
      }
    },
    {
      "cell_type": "code",
      "source": [
        "# Filter even numbers\n",
        "even_rdd = rdd.filter(lambda x: x % 2 == 0)\n",
        "print(\"Even RDD:\", even_rdd.collect())"
      ],
      "metadata": {
        "colab": {
          "base_uri": "https://localhost:8080/"
        },
        "id": "Bi4GYr1Vvfgp",
        "outputId": "ce77af8f-7a5f-4eb2-a075-b6df328a7c9b"
      },
      "execution_count": null,
      "outputs": [
        {
          "output_type": "stream",
          "name": "stdout",
          "text": [
            "Even RDD: [2, 4, 6, 8, 10]\n"
          ]
        }
      ]
    },
    {
      "cell_type": "code",
      "source": [
        "# Filter odd numbers\n",
        "even_rdd = rdd.filter(lambda x: x % 2 == 1)\n",
        "print(\"Even RDD:\", even_rdd.collect())"
      ],
      "metadata": {
        "colab": {
          "base_uri": "https://localhost:8080/"
        },
        "id": "Cw1kF7p3v9Ub",
        "outputId": "03cbe2e1-2ec4-4e52-f927-94683dc20874"
      },
      "execution_count": null,
      "outputs": [
        {
          "output_type": "stream",
          "name": "stdout",
          "text": [
            "Even RDD: [1, 3, 5, 7, 9]\n"
          ]
        }
      ]
    },
    {
      "cell_type": "markdown",
      "source": [
        "Reduce Transformation:\n",
        "Reduce aggregates the elements of the RDD using a specified function   "
      ],
      "metadata": {
        "id": "H0yON3zPwL3y"
      }
    },
    {
      "cell_type": "code",
      "source": [
        "# Calculate the sum of all elements\n",
        "total_sum = rdd.reduce(lambda x, y: x + y)\n",
        "print(\"Total Sum:\", total_sum)"
      ],
      "metadata": {
        "colab": {
          "base_uri": "https://localhost:8080/"
        },
        "id": "jZBjlXtpwQBr",
        "outputId": "1642ae37-be6b-4c6b-c071-1e2b97e331bc"
      },
      "execution_count": null,
      "outputs": [
        {
          "output_type": "stream",
          "name": "stdout",
          "text": [
            "Total Sum: 55\n"
          ]
        }
      ]
    },
    {
      "cell_type": "markdown",
      "source": [
        "FlatMap Transformation:\n",
        "FlatMap is similar to Map, but it can return multiple output elements for each input element. **bold text**"
      ],
      "metadata": {
        "id": "jRLm0hB6wruT"
      }
    },
    {
      "cell_type": "code",
      "source": [
        "# Split each number into digits\n",
        "split_rdd = rdd.flatMap(lambda x: str(x))\n",
        "print(\"Split RDD:\", split_rdd.collect())"
      ],
      "metadata": {
        "colab": {
          "base_uri": "https://localhost:8080/"
        },
        "id": "tgLweH1owh0Z",
        "outputId": "209bf4ae-488c-4d30-8066-06e7583f3d6b"
      },
      "execution_count": null,
      "outputs": [
        {
          "output_type": "stream",
          "name": "stdout",
          "text": [
            "Split RDD: ['1', '2', '3', '4', '5', '6', '7', '8', '9', '1', '0']\n"
          ]
        }
      ]
    }
  ]
}