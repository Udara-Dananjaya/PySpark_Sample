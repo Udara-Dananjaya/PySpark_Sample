{
  "nbformat": 4,
  "nbformat_minor": 0,
  "metadata": {
    "colab": {
      "provenance": []
    },
    "kernelspec": {
      "name": "python3",
      "display_name": "Python 3"
    },
    "language_info": {
      "name": "python"
    }
  },
  "cells": [
    {
      "cell_type": "markdown",
      "source": [
        "# Big Data Analytics - Assignment 01 **[Udara Dananjaya] [BSIT 211002]**\n"
      ],
      "metadata": {
        "id": "IDaG3xtvPxip"
      }
    },
    {
      "cell_type": "markdown",
      "source": [
        "# Setting up the environment for PySpark,"
      ],
      "metadata": {
        "id": "-Gp-3T53QCSw"
      }
    },
    {
      "cell_type": "markdown",
      "source": [
        "Update and upgrade the repositories"
      ],
      "metadata": {
        "id": "_YVPhJ-ghYmZ"
      }
    },
    {
      "cell_type": "code",
      "source": [
        "!apt update &> /dev/null\n",
        "!apt upgrade -y &> /dev/null"
      ],
      "metadata": {
        "id": "LofDDO4Yhh6K"
      },
      "execution_count": 1,
      "outputs": []
    },
    {
      "cell_type": "markdown",
      "source": [
        "Check if pip is installed."
      ],
      "metadata": {
        "id": "pAFjAUmci7bF"
      }
    },
    {
      "cell_type": "code",
      "source": [
        "!pip --version\n"
      ],
      "metadata": {
        "colab": {
          "base_uri": "https://localhost:8080/"
        },
        "id": "easGjycCi52T",
        "outputId": "4d3aac29-aadf-4eaa-dc81-c66eaf2663a3"
      },
      "execution_count": 2,
      "outputs": [
        {
          "output_type": "stream",
          "name": "stdout",
          "text": [
            "pip 23.1.2 from /usr/local/lib/python3.10/dist-packages/pip (python 3.10)\n"
          ]
        }
      ]
    },
    {
      "cell_type": "markdown",
      "source": [
        "# Installing Spark\n",
        "Install Dependencies:\n",
        "\n",
        "1.   Java 8\n",
        "2.   Apache Spark with hadoop and\n",
        "3.   Findspark (used to locate the spark in the system)\n"
      ],
      "metadata": {
        "id": "0Zcu8BX4jP_H"
      }
    },
    {
      "cell_type": "code",
      "source": [
        "!pip install pyspark --quiet\n",
        "!pip install -U -q PyDrive --quiet"
      ],
      "metadata": {
        "id": "A82YFCrXjejD",
        "colab": {
          "base_uri": "https://localhost:8080/"
        },
        "outputId": "e2eec828-98d4-4e7e-cc67-ad2fbcdfd71b"
      },
      "execution_count": 3,
      "outputs": [
        {
          "output_type": "stream",
          "name": "stdout",
          "text": [
            "\u001b[2K     \u001b[90m━━━━━━━━━━━━━━━━━━━━━━━━━━━━━━━━━━━━━━━━\u001b[0m \u001b[32m316.9/316.9 MB\u001b[0m \u001b[31m4.6 MB/s\u001b[0m eta \u001b[36m0:00:00\u001b[0m\n",
            "\u001b[?25h  Preparing metadata (setup.py) ... \u001b[?25l\u001b[?25hdone\n",
            "  Building wheel for pyspark (setup.py) ... \u001b[?25l\u001b[?25hdone\n"
          ]
        }
      ]
    },
    {
      "cell_type": "markdown",
      "source": [
        "install the OpenJDK 8 JDK (Java Development Kit) in a headless mode"
      ],
      "metadata": {
        "id": "yeM39VAsjhHZ"
      }
    },
    {
      "cell_type": "code",
      "source": [
        "!apt install openjdk-8-jdk-headless &> /dev/null"
      ],
      "metadata": {
        "id": "mMA37bAljlcu"
      },
      "execution_count": 4,
      "outputs": []
    },
    {
      "cell_type": "markdown",
      "source": [
        "Setting the `JAVA_HOME` environment variable on the system"
      ],
      "metadata": {
        "id": "YyFGAGbFkQvh"
      }
    },
    {
      "cell_type": "code",
      "source": [
        "import os\n",
        "os.environ[\"JAVA_HOME\"] = \"/usr/lib/jvm/java-8-openjdk-amd64\""
      ],
      "metadata": {
        "id": "uMwT5SiAkoCT"
      },
      "execution_count": 5,
      "outputs": []
    },
    {
      "cell_type": "code",
      "source": [
        "!echo $JAVA_HOME\n"
      ],
      "metadata": {
        "colab": {
          "base_uri": "https://localhost:8080/"
        },
        "id": "AV2qyE3Ok92p",
        "outputId": "8c67a726-1d1b-4283-c755-7f4296ebb218"
      },
      "execution_count": 6,
      "outputs": [
        {
          "output_type": "stream",
          "name": "stdout",
          "text": [
            "/usr/lib/jvm/java-8-openjdk-amd64\n"
          ]
        }
      ]
    },
    {
      "cell_type": "markdown",
      "source": [
        "The code initializes a Spark session using PySpark. It sets the application name to \"bigData\" and configures the Spark UI port to be 4050."
      ],
      "metadata": {
        "id": "wga4AwaRln12"
      }
    },
    {
      "cell_type": "code",
      "source": [
        "from pyspark.sql import SparkSession\n",
        "\n",
        "spark = SparkSession \\\n",
        "    .builder \\\n",
        "    .appName(\"bigData\") \\\n",
        "    .config(\"spark.ui.port\", \"4050\") \\\n",
        "    .getOrCreate()"
      ],
      "metadata": {
        "id": "LdNvuo3wln8t"
      },
      "execution_count": 7,
      "outputs": []
    },
    {
      "cell_type": "markdown",
      "source": [
        "To retrieve details about your Spark application, you can access the `spark` variable, which represents the SparkSession."
      ],
      "metadata": {
        "id": "fyJkPNkTmIbd"
      }
    },
    {
      "cell_type": "code",
      "source": [
        "spark"
      ],
      "metadata": {
        "id": "WRFjp1FsmtKA",
        "colab": {
          "base_uri": "https://localhost:8080/",
          "height": 219
        },
        "outputId": "65bfaeb1-4d7c-44ae-c741-a5de109748e8"
      },
      "execution_count": 8,
      "outputs": [
        {
          "output_type": "execute_result",
          "data": {
            "text/plain": [
              "<pyspark.sql.session.SparkSession at 0x7fe89daa89a0>"
            ],
            "text/html": [
              "\n",
              "            <div>\n",
              "                <p><b>SparkSession - in-memory</b></p>\n",
              "                \n",
              "        <div>\n",
              "            <p><b>SparkContext</b></p>\n",
              "\n",
              "            <p><a href=\"http://8b23ae3dc51f:4050\">Spark UI</a></p>\n",
              "\n",
              "            <dl>\n",
              "              <dt>Version</dt>\n",
              "                <dd><code>v3.5.0</code></dd>\n",
              "              <dt>Master</dt>\n",
              "                <dd><code>local[*]</code></dd>\n",
              "              <dt>AppName</dt>\n",
              "                <dd><code>bigData</code></dd>\n",
              "            </dl>\n",
              "        </div>\n",
              "        \n",
              "            </div>\n",
              "        "
            ]
          },
          "metadata": {},
          "execution_count": 8
        }
      ]
    },
    {
      "cell_type": "markdown",
      "source": [
        "To get a dataset, we can use the `wget` command. `wget [options] [URL]`"
      ],
      "metadata": {
        "id": "Msgx5hOnnFe7"
      }
    },
    {
      "cell_type": "code",
      "source": [
        "!wget https://raw.githubusercontent.com/Udara-Dananjaya/PySpark_Sample/main/Dataset.csv"
      ],
      "metadata": {
        "id": "L4_2PZf-nqzD",
        "colab": {
          "base_uri": "https://localhost:8080/"
        },
        "outputId": "e14cc5d8-9ec9-4955-9bdc-22db36acf97b"
      },
      "execution_count": 10,
      "outputs": [
        {
          "output_type": "stream",
          "name": "stdout",
          "text": [
            "--2023-11-12 16:56:48--  https://raw.githubusercontent.com/Udara-Dananjaya/PySpark_Sample/main/Dataset.csv\n",
            "Resolving raw.githubusercontent.com (raw.githubusercontent.com)... 185.199.108.133, 185.199.109.133, 185.199.110.133, ...\n",
            "Connecting to raw.githubusercontent.com (raw.githubusercontent.com)|185.199.108.133|:443... connected.\n",
            "HTTP request sent, awaiting response... 200 OK\n",
            "Length: 41957453 (40M) [text/plain]\n",
            "Saving to: ‘Dataset.csv’\n",
            "\n",
            "Dataset.csv         100%[===================>]  40.01M   244MB/s    in 0.2s    \n",
            "\n",
            "2023-11-12 16:56:49 (244 MB/s) - ‘Dataset.csv’ saved [41957453/41957453]\n",
            "\n"
          ]
        }
      ]
    },
    {
      "cell_type": "markdown",
      "source": [
        "After downloading the file, we can check if it was downloaded successfully using the `ls` command."
      ],
      "metadata": {
        "id": "1ELjHAWVqnpg"
      }
    },
    {
      "cell_type": "code",
      "source": [
        "!ls"
      ],
      "metadata": {
        "id": "e9kB_OCkpmpE",
        "colab": {
          "base_uri": "https://localhost:8080/"
        },
        "outputId": "b5fff17b-26fa-455f-b4c6-c6b99f053ac2"
      },
      "execution_count": 11,
      "outputs": [
        {
          "output_type": "stream",
          "name": "stdout",
          "text": [
            "Dataset.csv  sample_data\n"
          ]
        }
      ]
    },
    {
      "cell_type": "markdown",
      "source": [
        "Read the board_games.csv file using the Spark spark.read.csv() function."
      ],
      "metadata": {
        "id": "lv1tkC7qq-9Y"
      }
    },
    {
      "cell_type": "code",
      "source": [
        "df = spark.read.csv('Dataset.csv', header = True, sep = \",\")"
      ],
      "metadata": {
        "id": "2R84AvtBuqQI"
      },
      "execution_count": 12,
      "outputs": []
    },
    {
      "cell_type": "markdown",
      "source": [
        "display the columns of the dataframe"
      ],
      "metadata": {
        "id": "dUcCoJZxtBwz"
      }
    },
    {
      "cell_type": "code",
      "source": [
        "df.show(5)"
      ],
      "metadata": {
        "id": "sCefr01LtCmn",
        "colab": {
          "base_uri": "https://localhost:8080/"
        },
        "outputId": "c83b510b-f2c3-4f60-f9d4-3089e6c575a3"
      },
      "execution_count": 13,
      "outputs": [
        {
          "output_type": "stream",
          "name": "stdout",
          "text": [
            "+-----+--------+------+-------------+-----------+-------+-----------------+------+-----------------+------+----------+------+-----+----+--------+---------+-----------+----------+------+\n",
            "|index|  stream|Zscore|district_rank|island_rank|al_year|             sub1|sub1_r|             sub2|sub2_r|      sub3|sub3_r|cgt_r|ge_r|syllabus|birth_day|birth_month|birth_year|gender|\n",
            "+-----+--------+------+-------------+-----------+-------+-----------------+------+-----------------+------+----------+------+-----+----+--------+---------+-----------+----------+------+\n",
            "|    0|    ARTS|-.3550|   4336 (NEW)|64994 (NEW)|   2020|POLITICAL SCIENCE|     S|DANCING(BHARATHA)|     C|     TAMIL|     S|  056|   S|     new|       31|        May|      2001|female|\n",
            "|    1|    ARTS|-.2648|   4154 (NEW)|62338 (NEW)|   2020|POLITICAL SCIENCE|     S|   CARNATIC MUSIC|     C|     TAMIL|     C|  032|   C|     new|       13|    January|      2002|female|\n",
            "|    2|COMMERCE|-.4760|   6910 (NEW)|37307 (NEW)|   2020|        ECONOMICS|     S| BUSINESS STUDIES|     S|ACCOUNTING|     S|  050|   S|     new|       16|     August|      2001|female|\n",
            "|    3|COMMERCE|-.1012|   5678 (NEW)|30449 (NEW)|   2020|        ECONOMICS|     C| BUSINESS STUDIES|     C|ACCOUNTING|     S|  034|   S|     new|       16|     August|      2001|female|\n",
            "|    4|COMMERCE| .6014|   3269 (NEW)|17010 (NEW)|   2020|        ECONOMICS|     C| BUSINESS STUDIES|     C|ACCOUNTING|     B|  036|   S|     new|        7|     August|      2000|female|\n",
            "+-----+--------+------+-------------+-----------+-------+-----------------+------+-----------------+------+----------+------+-----+----+--------+---------+-----------+----------+------+\n",
            "only showing top 5 rows\n",
            "\n"
          ]
        }
      ]
    },
    {
      "cell_type": "code",
      "source": [
        "df.show(5, truncate=True)"
      ],
      "metadata": {
        "id": "7a2s_jrsyk3C",
        "colab": {
          "base_uri": "https://localhost:8080/"
        },
        "outputId": "5e16a44b-7ad2-46c1-c8b0-d8cc0967f4bd"
      },
      "execution_count": 14,
      "outputs": [
        {
          "output_type": "stream",
          "name": "stdout",
          "text": [
            "+-----+--------+------+-------------+-----------+-------+-----------------+------+-----------------+------+----------+------+-----+----+--------+---------+-----------+----------+------+\n",
            "|index|  stream|Zscore|district_rank|island_rank|al_year|             sub1|sub1_r|             sub2|sub2_r|      sub3|sub3_r|cgt_r|ge_r|syllabus|birth_day|birth_month|birth_year|gender|\n",
            "+-----+--------+------+-------------+-----------+-------+-----------------+------+-----------------+------+----------+------+-----+----+--------+---------+-----------+----------+------+\n",
            "|    0|    ARTS|-.3550|   4336 (NEW)|64994 (NEW)|   2020|POLITICAL SCIENCE|     S|DANCING(BHARATHA)|     C|     TAMIL|     S|  056|   S|     new|       31|        May|      2001|female|\n",
            "|    1|    ARTS|-.2648|   4154 (NEW)|62338 (NEW)|   2020|POLITICAL SCIENCE|     S|   CARNATIC MUSIC|     C|     TAMIL|     C|  032|   C|     new|       13|    January|      2002|female|\n",
            "|    2|COMMERCE|-.4760|   6910 (NEW)|37307 (NEW)|   2020|        ECONOMICS|     S| BUSINESS STUDIES|     S|ACCOUNTING|     S|  050|   S|     new|       16|     August|      2001|female|\n",
            "|    3|COMMERCE|-.1012|   5678 (NEW)|30449 (NEW)|   2020|        ECONOMICS|     C| BUSINESS STUDIES|     C|ACCOUNTING|     S|  034|   S|     new|       16|     August|      2001|female|\n",
            "|    4|COMMERCE| .6014|   3269 (NEW)|17010 (NEW)|   2020|        ECONOMICS|     C| BUSINESS STUDIES|     C|ACCOUNTING|     B|  036|   S|     new|        7|     August|      2000|female|\n",
            "+-----+--------+------+-------------+-----------+-------+-----------------+------+-----------------+------+----------+------+-----+----+--------+---------+-----------+----------+------+\n",
            "only showing top 5 rows\n",
            "\n"
          ]
        }
      ]
    },
    {
      "cell_type": "markdown",
      "source": [],
      "metadata": {
        "id": "o9eb6wpxyply"
      }
    },
    {
      "cell_type": "code",
      "source": [
        "df.limit(5)"
      ],
      "metadata": {
        "id": "VUU7RkLdyp9i",
        "colab": {
          "base_uri": "https://localhost:8080/"
        },
        "outputId": "de8979df-7041-4cec-db96-bc23f6b1255d"
      },
      "execution_count": 15,
      "outputs": [
        {
          "output_type": "execute_result",
          "data": {
            "text/plain": [
              "DataFrame[index: string, stream: string, Zscore: string, district_rank: string, island_rank: string, al_year: string, sub1: string, sub1_r: string, sub2: string, sub2_r: string, sub3: string, sub3_r: string, cgt_r: string, ge_r: string, syllabus: string, birth_day: string, birth_month: string, birth_year: string, gender: string]"
            ]
          },
          "metadata": {},
          "execution_count": 15
        }
      ]
    },
    {
      "cell_type": "markdown",
      "source": [],
      "metadata": {
        "id": "2gjaVrnzyq-Z"
      }
    },
    {
      "cell_type": "code",
      "source": [
        "df.columns"
      ],
      "metadata": {
        "id": "huUd2K1sytNR",
        "colab": {
          "base_uri": "https://localhost:8080/"
        },
        "outputId": "40fa4aa5-a4a0-4cf7-f5c8-c89314ddd094"
      },
      "execution_count": 16,
      "outputs": [
        {
          "output_type": "execute_result",
          "data": {
            "text/plain": [
              "['index',\n",
              " 'stream',\n",
              " 'Zscore',\n",
              " 'district_rank',\n",
              " 'island_rank',\n",
              " 'al_year',\n",
              " 'sub1',\n",
              " 'sub1_r',\n",
              " 'sub2',\n",
              " 'sub2_r',\n",
              " 'sub3',\n",
              " 'sub3_r',\n",
              " 'cgt_r',\n",
              " 'ge_r',\n",
              " 'syllabus',\n",
              " 'birth_day',\n",
              " 'birth_month',\n",
              " 'birth_year',\n",
              " 'gender']"
            ]
          },
          "metadata": {},
          "execution_count": 16
        }
      ]
    },
    {
      "cell_type": "markdown",
      "source": [],
      "metadata": {
        "id": "Iqb6ljkbyuoy"
      }
    },
    {
      "cell_type": "code",
      "source": [
        "df.dtypes"
      ],
      "metadata": {
        "id": "awN-pAWcywQS",
        "colab": {
          "base_uri": "https://localhost:8080/"
        },
        "outputId": "0a73d5d9-b69b-4830-ef14-a1f03f8349b2"
      },
      "execution_count": 17,
      "outputs": [
        {
          "output_type": "execute_result",
          "data": {
            "text/plain": [
              "[('index', 'string'),\n",
              " ('stream', 'string'),\n",
              " ('Zscore', 'string'),\n",
              " ('district_rank', 'string'),\n",
              " ('island_rank', 'string'),\n",
              " ('al_year', 'string'),\n",
              " ('sub1', 'string'),\n",
              " ('sub1_r', 'string'),\n",
              " ('sub2', 'string'),\n",
              " ('sub2_r', 'string'),\n",
              " ('sub3', 'string'),\n",
              " ('sub3_r', 'string'),\n",
              " ('cgt_r', 'string'),\n",
              " ('ge_r', 'string'),\n",
              " ('syllabus', 'string'),\n",
              " ('birth_day', 'string'),\n",
              " ('birth_month', 'string'),\n",
              " ('birth_year', 'string'),\n",
              " ('gender', 'string')]"
            ]
          },
          "metadata": {},
          "execution_count": 17
        }
      ]
    },
    {
      "cell_type": "markdown",
      "source": [],
      "metadata": {
        "id": "TuqmMDYJyzVR"
      }
    },
    {
      "cell_type": "code",
      "source": [
        "df.printSchema()"
      ],
      "metadata": {
        "id": "3io7beSJyze0",
        "colab": {
          "base_uri": "https://localhost:8080/"
        },
        "outputId": "16f9c426-ec84-4305-e15d-7c070ddda285"
      },
      "execution_count": 18,
      "outputs": [
        {
          "output_type": "stream",
          "name": "stdout",
          "text": [
            "root\n",
            " |-- index: string (nullable = true)\n",
            " |-- stream: string (nullable = true)\n",
            " |-- Zscore: string (nullable = true)\n",
            " |-- district_rank: string (nullable = true)\n",
            " |-- island_rank: string (nullable = true)\n",
            " |-- al_year: string (nullable = true)\n",
            " |-- sub1: string (nullable = true)\n",
            " |-- sub1_r: string (nullable = true)\n",
            " |-- sub2: string (nullable = true)\n",
            " |-- sub2_r: string (nullable = true)\n",
            " |-- sub3: string (nullable = true)\n",
            " |-- sub3_r: string (nullable = true)\n",
            " |-- cgt_r: string (nullable = true)\n",
            " |-- ge_r: string (nullable = true)\n",
            " |-- syllabus: string (nullable = true)\n",
            " |-- birth_day: string (nullable = true)\n",
            " |-- birth_month: string (nullable = true)\n",
            " |-- birth_year: string (nullable = true)\n",
            " |-- gender: string (nullable = true)\n",
            "\n"
          ]
        }
      ]
    },
    {
      "cell_type": "code",
      "source": [
        "df = spark.read.csv('Dataset.csv', header=True, sep=\",\", inferSchema=True)\n",
        "df.printSchema()"
      ],
      "metadata": {
        "colab": {
          "base_uri": "https://localhost:8080/"
        },
        "id": "ChKgYAcFdoTh",
        "outputId": "d79208da-9862-4b7c-d43f-45175c43c704"
      },
      "execution_count": 32,
      "outputs": [
        {
          "output_type": "stream",
          "name": "stdout",
          "text": [
            "root\n",
            " |-- index: integer (nullable = true)\n",
            " |-- stream: string (nullable = true)\n",
            " |-- Zscore: string (nullable = true)\n",
            " |-- district_rank: string (nullable = true)\n",
            " |-- island_rank: string (nullable = true)\n",
            " |-- al_year: integer (nullable = true)\n",
            " |-- sub1: string (nullable = true)\n",
            " |-- sub1_r: string (nullable = true)\n",
            " |-- sub2: string (nullable = true)\n",
            " |-- sub2_r: string (nullable = true)\n",
            " |-- sub3: string (nullable = true)\n",
            " |-- sub3_r: string (nullable = true)\n",
            " |-- cgt_r: string (nullable = true)\n",
            " |-- ge_r: string (nullable = true)\n",
            " |-- syllabus: string (nullable = true)\n",
            " |-- birth_day: string (nullable = true)\n",
            " |-- birth_month: string (nullable = true)\n",
            " |-- birth_year: string (nullable = true)\n",
            " |-- gender: string (nullable = true)\n",
            "\n"
          ]
        }
      ]
    },
    {
      "cell_type": "code",
      "source": [
        "from pyspark.sql.types import *\n",
        "df.columns"
      ],
      "metadata": {
        "colab": {
          "base_uri": "https://localhost:8080/"
        },
        "id": "r3qDiohvd46v",
        "outputId": "c8b0b137-f8d3-456f-aa69-1f625370869b"
      },
      "execution_count": 33,
      "outputs": [
        {
          "output_type": "execute_result",
          "data": {
            "text/plain": [
              "['index',\n",
              " 'stream',\n",
              " 'Zscore',\n",
              " 'district_rank',\n",
              " 'island_rank',\n",
              " 'al_year',\n",
              " 'sub1',\n",
              " 'sub1_r',\n",
              " 'sub2',\n",
              " 'sub2_r',\n",
              " 'sub3',\n",
              " 'sub3_r',\n",
              " 'cgt_r',\n",
              " 'ge_r',\n",
              " 'syllabus',\n",
              " 'birth_day',\n",
              " 'birth_month',\n",
              " 'birth_year',\n",
              " 'gender']"
            ]
          },
          "metadata": {},
          "execution_count": 33
        }
      ]
    },
    {
      "cell_type": "code",
      "source": [
        "# Creating a list of the schema in the format column_name, data_type\n",
        "labels = [\n",
        "    ('index',IntegerType()),\n",
        "    ('stream',StringType()),\n",
        "    ('Zscore',StringType()),\n",
        "    ('district_rank',StringType()),\n",
        "    ('island_rank',StringType()),\n",
        "    ('al_year',StringType()),\n",
        "    ('sub1',StringType()),\n",
        "    ('sub1_r',StringType()),\n",
        "    ('sub2',StringType()),\n",
        "    ('sub2_r',StringType()),\n",
        "    ('sub3',StringType()),\n",
        "    ('sub3_r',StringType()),\n",
        "    ('cgt_r',StringType()),\n",
        "    ('ge_r',StringType()),\n",
        "    ('syllabus',StringType()),\n",
        "    ('birth_day',IntegerType()),\n",
        "    ('birth_month',StringType()),\n",
        "    ('birth_year',IntegerType()),\n",
        "    ('gender',StringType())\n",
        "]"
      ],
      "metadata": {
        "id": "SViXIRJtd6ir"
      },
      "execution_count": 34,
      "outputs": []
    },
    {
      "cell_type": "code",
      "source": [
        "# Creating the schema that will be passed when reading the csv\n",
        "schema = StructType([StructField (x[0], x[1], True) for x in labels])\n",
        "schema"
      ],
      "metadata": {
        "colab": {
          "base_uri": "https://localhost:8080/"
        },
        "id": "PPbgykYlgeDs",
        "outputId": "384d853f-baec-45ad-f716-55382f441e6f"
      },
      "execution_count": 35,
      "outputs": [
        {
          "output_type": "execute_result",
          "data": {
            "text/plain": [
              "StructType([StructField('index', IntegerType(), True), StructField('stream', StringType(), True), StructField('Zscore', StringType(), True), StructField('district_rank', StringType(), True), StructField('island_rank', StringType(), True), StructField('al_year', StringType(), True), StructField('sub1', StringType(), True), StructField('sub1_r', StringType(), True), StructField('sub2', StringType(), True), StructField('sub2_r', StringType(), True), StructField('sub3', StringType(), True), StructField('sub3_r', StringType(), True), StructField('cgt_r', StringType(), True), StructField('ge_r', StringType(), True), StructField('syllabus', StringType(), True), StructField('birth_day', IntegerType(), True), StructField('birth_month', StringType(), True), StructField('birth_year', IntegerType(), True), StructField('gender', StringType(), True)])"
            ]
          },
          "metadata": {},
          "execution_count": 35
        }
      ]
    },
    {
      "cell_type": "code",
      "source": [
        "df.show(truncate=False)"
      ],
      "metadata": {
        "colab": {
          "base_uri": "https://localhost:8080/"
        },
        "id": "q5nSr25sghyT",
        "outputId": "0eace76d-175d-4279-8b63-c45fccadbb23"
      },
      "execution_count": 36,
      "outputs": [
        {
          "output_type": "stream",
          "name": "stdout",
          "text": [
            "+-----+--------+------+-------------+-----------+-------+-----------------+------+------------------+------+----------+------+------+------+--------+---------+-----------+----------+------+\n",
            "|index|stream  |Zscore|district_rank|island_rank|al_year|sub1             |sub1_r|sub2              |sub2_r|sub3      |sub3_r|cgt_r |ge_r  |syllabus|birth_day|birth_month|birth_year|gender|\n",
            "+-----+--------+------+-------------+-----------+-------+-----------------+------+------------------+------+----------+------+------+------+--------+---------+-----------+----------+------+\n",
            "|0    |ARTS    |-.3550|4336 (NEW)   |64994 (NEW)|2020   |POLITICAL SCIENCE|S     |DANCING(BHARATHA) |C     |TAMIL     |S     |056   |S     |new     |31       |May        |2001      |female|\n",
            "|1    |ARTS    |-.2648|4154 (NEW)   |62338 (NEW)|2020   |POLITICAL SCIENCE|S     |CARNATIC MUSIC    |C     |TAMIL     |C     |032   |C     |new     |13       |January    |2002      |female|\n",
            "|2    |COMMERCE|-.4760|6910 (NEW)   |37307 (NEW)|2020   |ECONOMICS        |S     |BUSINESS STUDIES  |S     |ACCOUNTING|S     |050   |S     |new     |16       |August     |2001      |female|\n",
            "|3    |COMMERCE|-.1012|5678 (NEW)   |30449 (NEW)|2020   |ECONOMICS        |C     |BUSINESS STUDIES  |C     |ACCOUNTING|S     |034   |S     |new     |16       |August     |2001      |female|\n",
            "|4    |COMMERCE|.6014 |3269 (NEW)   |17010 (NEW)|2020   |ECONOMICS        |C     |BUSINESS STUDIES  |C     |ACCOUNTING|B     |036   |S     |new     |7        |August     |2000      |female|\n",
            "|5    |ARTS    |-.5061|4602 (NEW)   |68521 (NEW)|2020   |POLITICAL SCIENCE|S     |HINDU CIVILIZATION|C     |TAMIL     |S     |022   |S     |new     |9        |January    |2002      |female|\n",
            "|6    |ARTS    |.0177 |3419 (NEW)   |52426 (NEW)|2020   |POLITICAL SCIENCE|S     |HINDU CIVILIZATION|B     |TAMIL     |S     |028   |F     |new     |31       |December   |2001      |female|\n",
            "|7    |ARTS    |-.3106|4247 (NEW)   |63760 (NEW)|2020   |POLITICAL SCIENCE|S     |CHRISTIANITY      |C     |TAMIL     |C     |034   |S     |new     |6        |December   |2001      |female|\n",
            "|8    |-       |-     |-            |-          |2020   |ECONOMICS        |S     |BUSINESS STUDIES  |F     |ACCOUNTING|F     |040   |F     |new     |16       |November   |2000      |female|\n",
            "|9    |COMMERCE|1.0447|2008 (NEW)   |9743 (NEW) |2020   |ECONOMICS        |B     |BUSINESS STUDIES  |C     |ACCOUNTING|A     |046   |C     |new     |18       |June       |2001      |female|\n",
            "|10   |-       |-.5975|-            |-          |2020   |POLITICAL SCIENCE|F     |HINDU CIVILIZATION|C     |TAMIL     |S     |040   |S     |new     |6        |April      |2001      |female|\n",
            "|11   |COMMERCE|-.6057|7192 (NEW)   |38835 (NEW)|2020   |ECONOMICS        |S     |BUSINESS STUDIES  |S     |ACCOUNTING|S     |050   |C     |new     |1        |February   |2001      |female|\n",
            "|12   |ARTS    |.4861 |2296 (NEW)   |34635 (NEW)|2020   |POLITICAL SCIENCE|C     |HINDU CIVILIZATION|B     |TAMIL     |C     |030   |F     |new     |9        |June       |2001      |female|\n",
            "|13   |ARTS    |.5863 |2081 (NEW)   |30905 (NEW)|2020   |POLITICAL SCIENCE|C     |CARNATIC MUSIC    |B     |TAMIL     |B     |034   |F     |new     |12       |March      |2001      |female|\n",
            "|14   |-       |-     |-            |-          |2020   |ECONOMICS        |S     |BUSINESS STUDIES  |F     |ACCOUNTING|F     |038   |S     |new     |3        |August     |2001      |female|\n",
            "|15   |ARTS    |.2364 |2895 (NEW)   |44119 (NEW)|2020   |POLITICAL SCIENCE|C     |HINDU CIVILIZATION|B     |TAMIL     |C     |038   |S     |new     |5        |March      |2001      |female|\n",
            "|16   |COMMERCE|-.0381|5440 (NEW)   |29133 (NEW)|2020   |ECONOMICS        |C     |BUSINESS STUDIES  |C     |ACCOUNTING|S     |032   |S     |new     |1        |April      |2001      |female|\n",
            "|17   |-       |-     |-            |-          |2020   |ECONOMICS        |Absent|BUSINESS STUDIES  |Absent|ACCOUNTING|Absent|Absent|Absent|new     |1        |July       |2000      |female|\n",
            "|18   |COMMERCE|-.2667|6305 (NEW)   |33764 (NEW)|2020   |ECONOMICS        |C     |BUSINESS STUDIES  |S     |ACCOUNTING|S     |042   |S     |new     |18       |April      |2001      |female|\n",
            "|19   |COMMERCE|-.2031|6069 (NEW)   |32549 (NEW)|2020   |ECONOMICS        |C     |BUSINESS STUDIES  |C     |ACCOUNTING|S     |050   |S     |new     |8        |January    |2001      |female|\n",
            "+-----+--------+------+-------------+-----------+-------+-----------------+------+------------------+------+----------+------+------+------+--------+---------+-----------+----------+------+\n",
            "only showing top 20 rows\n",
            "\n"
          ]
        }
      ]
    },
    {
      "cell_type": "markdown",
      "source": [
        "Select Data from PySpark"
      ],
      "metadata": {
        "id": "QzhfyWFcwTRa"
      }
    },
    {
      "cell_type": "markdown",
      "source": [],
      "metadata": {
        "id": "Ia8ywEg3wfyP"
      }
    },
    {
      "cell_type": "code",
      "source": [
        "df = spark.read.csv('Dataset.csv', header=True, sep=\",\", inferSchema=True)"
      ],
      "metadata": {
        "id": "MQCc0YMBhqY-"
      },
      "execution_count": 37,
      "outputs": []
    },
    {
      "cell_type": "code",
      "source": [
        "print(df.Zscore)\n",
        "#print(\"*\"*20)\n",
        "#df.select(df.Zscore).show(truncate=False)"
      ],
      "metadata": {
        "id": "Hu7k7EGewXEY",
        "colab": {
          "base_uri": "https://localhost:8080/"
        },
        "outputId": "620fbf27-6abc-4fa8-8d80-81970ba6e8de"
      },
      "execution_count": 38,
      "outputs": [
        {
          "output_type": "stream",
          "name": "stdout",
          "text": [
            "Column<'Zscore'>\n"
          ]
        }
      ]
    },
    {
      "cell_type": "markdown",
      "source": [
        "Selecting Multiple Columns\n"
      ],
      "metadata": {
        "id": "oQppr1IGxFM5"
      }
    },
    {
      "cell_type": "code",
      "source": [
        "print(df.stream, df.Zscore)\n",
        "print(\"*\"*40)\n",
        "df.select(df.stream, df.Zscore).show(truncate=False)"
      ],
      "metadata": {
        "id": "5_3ZbHGbxGof",
        "colab": {
          "base_uri": "https://localhost:8080/"
        },
        "outputId": "fd3f6402-72fe-4a5a-cf8f-89a708d06711"
      },
      "execution_count": 39,
      "outputs": [
        {
          "output_type": "stream",
          "name": "stdout",
          "text": [
            "Column<'stream'> Column<'Zscore'>\n",
            "****************************************\n",
            "+--------+------+\n",
            "|stream  |Zscore|\n",
            "+--------+------+\n",
            "|ARTS    |-.3550|\n",
            "|ARTS    |-.2648|\n",
            "|COMMERCE|-.4760|\n",
            "|COMMERCE|-.1012|\n",
            "|COMMERCE|.6014 |\n",
            "|ARTS    |-.5061|\n",
            "|ARTS    |.0177 |\n",
            "|ARTS    |-.3106|\n",
            "|-       |-     |\n",
            "|COMMERCE|1.0447|\n",
            "|-       |-.5975|\n",
            "|COMMERCE|-.6057|\n",
            "|ARTS    |.4861 |\n",
            "|ARTS    |.5863 |\n",
            "|-       |-     |\n",
            "|ARTS    |.2364 |\n",
            "|COMMERCE|-.0381|\n",
            "|-       |-     |\n",
            "|COMMERCE|-.2667|\n",
            "|COMMERCE|-.2031|\n",
            "+--------+------+\n",
            "only showing top 20 rows\n",
            "\n"
          ]
        }
      ]
    },
    {
      "cell_type": "markdown",
      "source": [
        "Adding New Columns"
      ],
      "metadata": {
        "id": "w_0H032SxtCc"
      }
    },
    {
      "cell_type": "code",
      "source": [
        "from pyspark.sql.functions import lit\n",
        "df = df.withColumn('district', lit('Kegalla'))\n",
        "df.show(5,truncate=False)"
      ],
      "metadata": {
        "id": "UY5vopQUxtz4",
        "colab": {
          "base_uri": "https://localhost:8080/"
        },
        "outputId": "d8317c8d-3c43-4ad2-fccc-7c55cd6142af"
      },
      "execution_count": 40,
      "outputs": [
        {
          "output_type": "stream",
          "name": "stdout",
          "text": [
            "+-----+--------+------+-------------+-----------+-------+-----------------+------+-----------------+------+----------+------+-----+----+--------+---------+-----------+----------+------+--------+\n",
            "|index|stream  |Zscore|district_rank|island_rank|al_year|sub1             |sub1_r|sub2             |sub2_r|sub3      |sub3_r|cgt_r|ge_r|syllabus|birth_day|birth_month|birth_year|gender|district|\n",
            "+-----+--------+------+-------------+-----------+-------+-----------------+------+-----------------+------+----------+------+-----+----+--------+---------+-----------+----------+------+--------+\n",
            "|0    |ARTS    |-.3550|4336 (NEW)   |64994 (NEW)|2020   |POLITICAL SCIENCE|S     |DANCING(BHARATHA)|C     |TAMIL     |S     |056  |S   |new     |31       |May        |2001      |female|Kegalla |\n",
            "|1    |ARTS    |-.2648|4154 (NEW)   |62338 (NEW)|2020   |POLITICAL SCIENCE|S     |CARNATIC MUSIC   |C     |TAMIL     |C     |032  |C   |new     |13       |January    |2002      |female|Kegalla |\n",
            "|2    |COMMERCE|-.4760|6910 (NEW)   |37307 (NEW)|2020   |ECONOMICS        |S     |BUSINESS STUDIES |S     |ACCOUNTING|S     |050  |S   |new     |16       |August     |2001      |female|Kegalla |\n",
            "|3    |COMMERCE|-.1012|5678 (NEW)   |30449 (NEW)|2020   |ECONOMICS        |C     |BUSINESS STUDIES |C     |ACCOUNTING|S     |034  |S   |new     |16       |August     |2001      |female|Kegalla |\n",
            "|4    |COMMERCE|.6014 |3269 (NEW)   |17010 (NEW)|2020   |ECONOMICS        |C     |BUSINESS STUDIES |C     |ACCOUNTING|B     |036  |S   |new     |7        |August     |2000      |female|Kegalla |\n",
            "+-----+--------+------+-------------+-----------+-------+-----------------+------+-----------------+------+----------+------+-----+----+--------+---------+-----------+----------+------+--------+\n",
            "only showing top 5 rows\n",
            "\n"
          ]
        }
      ]
    },
    {
      "cell_type": "markdown",
      "source": [
        "Rename columns"
      ],
      "metadata": {
        "id": "HQdMKm9hznC-"
      }
    },
    {
      "cell_type": "code",
      "source": [
        "df = df.withColumnRenamed('sub1','Subject 1')\n",
        "df.show(truncate = False)"
      ],
      "metadata": {
        "id": "THiO02XGzrYF"
      },
      "execution_count": null,
      "outputs": []
    },
    {
      "cell_type": "code",
      "source": [
        "df.groupBy('stream').count().show(5)"
      ],
      "metadata": {
        "colab": {
          "base_uri": "https://localhost:8080/"
        },
        "id": "7GynS0A2ijJD",
        "outputId": "5d5da71e-4d55-42ec-fb61-66d485172089"
      },
      "execution_count": 41,
      "outputs": [
        {
          "output_type": "stream",
          "name": "stdout",
          "text": [
            "+--------------------+-----+\n",
            "|              stream|count|\n",
            "+--------------------+-----+\n",
            "|    PHYSICAL SCIENCE|21776|\n",
            "|                ARTS|76547|\n",
            "|ENGINEERING TECHN...|12498|\n",
            "|                 NON| 2740|\n",
            "|BIOSYSTEMS TECHNO...| 7833|\n",
            "+--------------------+-----+\n",
            "only showing top 5 rows\n",
            "\n"
          ]
        }
      ]
    },
    {
      "cell_type": "markdown",
      "source": [
        "Remove Columns"
      ],
      "metadata": {
        "id": "_cAwRdYfz0p0"
      }
    },
    {
      "cell_type": "code",
      "source": [
        "df = df.drop('stream')\n",
        "df.show(10, truncate = False)"
      ],
      "metadata": {
        "id": "yyh4XvE8z3bU"
      },
      "execution_count": null,
      "outputs": []
    },
    {
      "cell_type": "markdown",
      "source": [
        "We need insert col to do operations\n",
        "\n",
        "1.   List item\n",
        "2.   List item\n",
        "\n"
      ],
      "metadata": {
        "id": "312V_sg-1UIa"
      }
    },
    {
      "cell_type": "code",
      "source": [
        "from pyspark.sql.functions import col\n",
        "\n",
        "# Filtering rows in PySpark\n",
        "total_count = df.count()\n",
        "print(\"TOTAL RECORD COUNT: \" + str(total_count))\n",
        "\n",
        "arts_filtered_count = df.filter(col('stream') == 'ARTS').count()\n",
        "print(\"ARTS FILTERED RECORD COUNT: \" + str(arts_filtered_count))\n",
        "\n",
        "df.filter(col('stream') == 'ARTS').show(truncate=False)\n"
      ],
      "metadata": {
        "id": "2MpkAiw11Pm9",
        "colab": {
          "base_uri": "https://localhost:8080/"
        },
        "outputId": "7a51dce9-8a58-4fcd-e98f-18f6aeb02ea3"
      },
      "execution_count": 42,
      "outputs": [
        {
          "output_type": "stream",
          "name": "stdout",
          "text": [
            "TOTAL RECORD COUNT: 337553\n",
            "ARTS FILTERED RECORD COUNT: 76547\n",
            "+-----+------+------+-------------+-----------+-------+-----------------+------+------------------+------+-----+------+-----+----+--------+---------+-----------+----------+------+--------+\n",
            "|index|stream|Zscore|district_rank|island_rank|al_year|sub1             |sub1_r|sub2              |sub2_r|sub3 |sub3_r|cgt_r|ge_r|syllabus|birth_day|birth_month|birth_year|gender|district|\n",
            "+-----+------+------+-------------+-----------+-------+-----------------+------+------------------+------+-----+------+-----+----+--------+---------+-----------+----------+------+--------+\n",
            "|0    |ARTS  |-.3550|4336 (NEW)   |64994 (NEW)|2020   |POLITICAL SCIENCE|S     |DANCING(BHARATHA) |C     |TAMIL|S     |056  |S   |new     |31       |May        |2001      |female|Kegalla |\n",
            "|1    |ARTS  |-.2648|4154 (NEW)   |62338 (NEW)|2020   |POLITICAL SCIENCE|S     |CARNATIC MUSIC    |C     |TAMIL|C     |032  |C   |new     |13       |January    |2002      |female|Kegalla |\n",
            "|5    |ARTS  |-.5061|4602 (NEW)   |68521 (NEW)|2020   |POLITICAL SCIENCE|S     |HINDU CIVILIZATION|C     |TAMIL|S     |022  |S   |new     |9        |January    |2002      |female|Kegalla |\n",
            "|6    |ARTS  |.0177 |3419 (NEW)   |52426 (NEW)|2020   |POLITICAL SCIENCE|S     |HINDU CIVILIZATION|B     |TAMIL|S     |028  |F   |new     |31       |December   |2001      |female|Kegalla |\n",
            "|7    |ARTS  |-.3106|4247 (NEW)   |63760 (NEW)|2020   |POLITICAL SCIENCE|S     |CHRISTIANITY      |C     |TAMIL|C     |034  |S   |new     |6        |December   |2001      |female|Kegalla |\n",
            "|12   |ARTS  |.4861 |2296 (NEW)   |34635 (NEW)|2020   |POLITICAL SCIENCE|C     |HINDU CIVILIZATION|B     |TAMIL|C     |030  |F   |new     |9        |June       |2001      |female|Kegalla |\n",
            "|13   |ARTS  |.5863 |2081 (NEW)   |30905 (NEW)|2020   |POLITICAL SCIENCE|C     |CARNATIC MUSIC    |B     |TAMIL|B     |034  |F   |new     |12       |March      |2001      |female|Kegalla |\n",
            "|15   |ARTS  |.2364 |2895 (NEW)   |44119 (NEW)|2020   |POLITICAL SCIENCE|C     |HINDU CIVILIZATION|B     |TAMIL|C     |038  |S   |new     |5        |March      |2001      |female|Kegalla |\n",
            "|26   |ARTS  |-.3361|4299 (NEW)   |64502 (NEW)|2020   |POLITICAL SCIENCE|C     |CARNATIC MUSIC    |C     |TAMIL|S     |038  |F   |new     |14       |March      |2000      |female|Kegalla |\n",
            "|27   |ARTS  |-.4886|4574 (NEW)   |68124 (NEW)|2020   |POLITICAL SCIENCE|S     |CARNATIC MUSIC    |C     |TAMIL|S     |042  |S   |new     |30       |April      |2001      |female|Kegalla |\n",
            "|33   |ARTS  |.2120 |2961 (NEW)   |45112 (NEW)|2020   |POLITICAL SCIENCE|S     |HINDU CIVILIZATION|B     |TAMIL|C     |040  |S   |new     |13       |July       |2001      |female|Kegalla |\n",
            "|34   |ARTS  |-.4109|4445 (NEW)   |66408 (NEW)|2020   |POLITICAL SCIENCE|S     |HINDU CIVILIZATION|C     |TAMIL|C     |034  |S   |new     |6        |November   |2001      |female|Kegalla |\n",
            "|36   |ARTS  |-.4984|4589 (NEW)   |68352 (NEW)|2020   |POLITICAL SCIENCE|S     |DANCING(BHARATHA) |C     |TAMIL|S     |042  |F   |new     |19       |August     |2001      |female|Kegalla |\n",
            "|38   |ARTS  |-.3712|4368 (NEW)   |65402 (NEW)|2020   |POLITICAL SCIENCE|S     |ISLAM             |C     |TAMIL|S     |036  |C   |new     |11       |February   |2001      |female|Kegalla |\n",
            "|39   |ARTS  |.0154 |3423 (NEW)   |52496 (NEW)|2020   |POLITICAL SCIENCE|S     |ISLAM             |B     |TAMIL|C     |046  |B   |new     |7        |August     |2001      |female|Kegalla |\n",
            "|40   |ARTS  |.5065 |2250 (NEW)   |33855 (NEW)|2020   |ECONOMICS        |S     |POLITICAL SCIENCE |C     |ISLAM|A     |054  |C   |new     |29       |May        |2001      |female|Kegalla |\n",
            "|42   |ARTS  |.5878 |2075 (NEW)   |30847 (NEW)|2020   |POLITICAL SCIENCE|C     |ISLAM             |B     |TAMIL|C     |048  |C   |new     |6        |October    |2001      |female|Kegalla |\n",
            "|43   |ARTS  |-.6136|4736 (NEW)   |70402 (NEW)|2020   |POLITICAL SCIENCE|S     |ISLAM             |S     |TAMIL|S     |032  |S   |new     |31       |May        |2001      |female|Kegalla |\n",
            "|45   |ARTS  |.0329 |3382 (NEW)   |51852 (NEW)|2020   |POLITICAL SCIENCE|S     |ISLAM             |C     |TAMIL|C     |042  |S   |new     |16       |May        |2001      |female|Kegalla |\n",
            "|48   |ARTS  |-.1597|3890 (NEW)   |58860 (NEW)|2020   |POLITICAL SCIENCE|C     |ISLAM             |S     |ART  |C     |050  |C   |new     |4        |May        |2001      |female|Kegalla |\n",
            "+-----+------+------+-------------+-----------+-------+-----------------+------+------------------+------+-----+------+-----+----+--------+---------+-----------+----------+------+--------+\n",
            "only showing top 20 rows\n",
            "\n"
          ]
        }
      ]
    },
    {
      "cell_type": "markdown",
      "source": [
        "filter rows"
      ],
      "metadata": {
        "id": "TZ8BiV1Y0B_b"
      }
    },
    {
      "cell_type": "code",
      "source": [
        "from pyspark.sql.functions import col\n",
        "\n",
        "# Filtering rows in PySpark based on Multiple conditions\n",
        "total_count = df.count()\n",
        "print(\"TOTAL RECORD COUNT: \" + str(total_count))\n",
        "\n",
        "# Two conditions added here (adjust based on your DataFrame schema)\n",
        "europe_and_cylinders_filtered_count = df.filter(\n",
        "    (col('stream') == 'ARTS') &  # Replace 'stream' with the actual column name\n",
        "    (col('sub1') == 'POLITICAL SCIENCE')  # Replace 'sub1' with the actual column name and 'POLITICAL SCIENCE' with the desired value\n",
        ").count()\n",
        "\n",
        "print(\"ARTS AND POLITICAL SCIENCE FILTERED RECORD COUNT: \" + str(europe_and_cylinders_filtered_count))\n",
        "\n",
        "# Show the DataFrame based on the first condition (only 'stream' == 'ARTS')\n",
        "df.filter(col('stream') == 'ARTS').show(truncate=False)\n"
      ],
      "metadata": {
        "id": "SiPPtv_C0FUD",
        "colab": {
          "base_uri": "https://localhost:8080/"
        },
        "outputId": "bc4d8f9d-0a58-4a5a-89e3-b91c1615f006"
      },
      "execution_count": 43,
      "outputs": [
        {
          "output_type": "stream",
          "name": "stdout",
          "text": [
            "TOTAL RECORD COUNT: 337553\n",
            "ARTS AND POLITICAL SCIENCE FILTERED RECORD COUNT: 19811\n",
            "+-----+------+------+-------------+-----------+-------+-----------------+------+------------------+------+-----+------+-----+----+--------+---------+-----------+----------+------+--------+\n",
            "|index|stream|Zscore|district_rank|island_rank|al_year|sub1             |sub1_r|sub2              |sub2_r|sub3 |sub3_r|cgt_r|ge_r|syllabus|birth_day|birth_month|birth_year|gender|district|\n",
            "+-----+------+------+-------------+-----------+-------+-----------------+------+------------------+------+-----+------+-----+----+--------+---------+-----------+----------+------+--------+\n",
            "|0    |ARTS  |-.3550|4336 (NEW)   |64994 (NEW)|2020   |POLITICAL SCIENCE|S     |DANCING(BHARATHA) |C     |TAMIL|S     |056  |S   |new     |31       |May        |2001      |female|Kegalla |\n",
            "|1    |ARTS  |-.2648|4154 (NEW)   |62338 (NEW)|2020   |POLITICAL SCIENCE|S     |CARNATIC MUSIC    |C     |TAMIL|C     |032  |C   |new     |13       |January    |2002      |female|Kegalla |\n",
            "|5    |ARTS  |-.5061|4602 (NEW)   |68521 (NEW)|2020   |POLITICAL SCIENCE|S     |HINDU CIVILIZATION|C     |TAMIL|S     |022  |S   |new     |9        |January    |2002      |female|Kegalla |\n",
            "|6    |ARTS  |.0177 |3419 (NEW)   |52426 (NEW)|2020   |POLITICAL SCIENCE|S     |HINDU CIVILIZATION|B     |TAMIL|S     |028  |F   |new     |31       |December   |2001      |female|Kegalla |\n",
            "|7    |ARTS  |-.3106|4247 (NEW)   |63760 (NEW)|2020   |POLITICAL SCIENCE|S     |CHRISTIANITY      |C     |TAMIL|C     |034  |S   |new     |6        |December   |2001      |female|Kegalla |\n",
            "|12   |ARTS  |.4861 |2296 (NEW)   |34635 (NEW)|2020   |POLITICAL SCIENCE|C     |HINDU CIVILIZATION|B     |TAMIL|C     |030  |F   |new     |9        |June       |2001      |female|Kegalla |\n",
            "|13   |ARTS  |.5863 |2081 (NEW)   |30905 (NEW)|2020   |POLITICAL SCIENCE|C     |CARNATIC MUSIC    |B     |TAMIL|B     |034  |F   |new     |12       |March      |2001      |female|Kegalla |\n",
            "|15   |ARTS  |.2364 |2895 (NEW)   |44119 (NEW)|2020   |POLITICAL SCIENCE|C     |HINDU CIVILIZATION|B     |TAMIL|C     |038  |S   |new     |5        |March      |2001      |female|Kegalla |\n",
            "|26   |ARTS  |-.3361|4299 (NEW)   |64502 (NEW)|2020   |POLITICAL SCIENCE|C     |CARNATIC MUSIC    |C     |TAMIL|S     |038  |F   |new     |14       |March      |2000      |female|Kegalla |\n",
            "|27   |ARTS  |-.4886|4574 (NEW)   |68124 (NEW)|2020   |POLITICAL SCIENCE|S     |CARNATIC MUSIC    |C     |TAMIL|S     |042  |S   |new     |30       |April      |2001      |female|Kegalla |\n",
            "|33   |ARTS  |.2120 |2961 (NEW)   |45112 (NEW)|2020   |POLITICAL SCIENCE|S     |HINDU CIVILIZATION|B     |TAMIL|C     |040  |S   |new     |13       |July       |2001      |female|Kegalla |\n",
            "|34   |ARTS  |-.4109|4445 (NEW)   |66408 (NEW)|2020   |POLITICAL SCIENCE|S     |HINDU CIVILIZATION|C     |TAMIL|C     |034  |S   |new     |6        |November   |2001      |female|Kegalla |\n",
            "|36   |ARTS  |-.4984|4589 (NEW)   |68352 (NEW)|2020   |POLITICAL SCIENCE|S     |DANCING(BHARATHA) |C     |TAMIL|S     |042  |F   |new     |19       |August     |2001      |female|Kegalla |\n",
            "|38   |ARTS  |-.3712|4368 (NEW)   |65402 (NEW)|2020   |POLITICAL SCIENCE|S     |ISLAM             |C     |TAMIL|S     |036  |C   |new     |11       |February   |2001      |female|Kegalla |\n",
            "|39   |ARTS  |.0154 |3423 (NEW)   |52496 (NEW)|2020   |POLITICAL SCIENCE|S     |ISLAM             |B     |TAMIL|C     |046  |B   |new     |7        |August     |2001      |female|Kegalla |\n",
            "|40   |ARTS  |.5065 |2250 (NEW)   |33855 (NEW)|2020   |ECONOMICS        |S     |POLITICAL SCIENCE |C     |ISLAM|A     |054  |C   |new     |29       |May        |2001      |female|Kegalla |\n",
            "|42   |ARTS  |.5878 |2075 (NEW)   |30847 (NEW)|2020   |POLITICAL SCIENCE|C     |ISLAM             |B     |TAMIL|C     |048  |C   |new     |6        |October    |2001      |female|Kegalla |\n",
            "|43   |ARTS  |-.6136|4736 (NEW)   |70402 (NEW)|2020   |POLITICAL SCIENCE|S     |ISLAM             |S     |TAMIL|S     |032  |S   |new     |31       |May        |2001      |female|Kegalla |\n",
            "|45   |ARTS  |.0329 |3382 (NEW)   |51852 (NEW)|2020   |POLITICAL SCIENCE|S     |ISLAM             |C     |TAMIL|C     |042  |S   |new     |16       |May        |2001      |female|Kegalla |\n",
            "|48   |ARTS  |-.1597|3890 (NEW)   |58860 (NEW)|2020   |POLITICAL SCIENCE|C     |ISLAM             |S     |ART  |C     |050  |C   |new     |4        |May        |2001      |female|Kegalla |\n",
            "+-----+------+------+-------------+-----------+-------+-----------------+------+------------------+------+-----+------+-----+----+--------+---------+-----------+----------+------+--------+\n",
            "only showing top 20 rows\n",
            "\n"
          ]
        }
      ]
    },
    {
      "cell_type": "markdown",
      "source": [
        "Get data sub3 to sinhala"
      ],
      "metadata": {
        "id": "wjTp29xn1nc9"
      }
    },
    {
      "cell_type": "code",
      "source": [
        "unique_streams = df.select('stream').distinct()\n",
        "unique_streams.show(truncate=False)\n"
      ],
      "metadata": {
        "id": "Iarw6DkG1nEi",
        "colab": {
          "base_uri": "https://localhost:8080/"
        },
        "outputId": "a33f4961-130a-47ed-95a0-59b21fc4a12b"
      },
      "execution_count": 44,
      "outputs": [
        {
          "output_type": "stream",
          "name": "stdout",
          "text": [
            "+----------------------+\n",
            "|stream                |\n",
            "+----------------------+\n",
            "|PHYSICAL SCIENCE      |\n",
            "|ARTS                  |\n",
            "|ENGINEERING TECHNOLOGY|\n",
            "|NON                   |\n",
            "|BIOSYSTEMS TECHNOLOGY |\n",
            "|-                     |\n",
            "|COMMERCE              |\n",
            "|BIOLOGICAL SCIENCE    |\n",
            "+----------------------+\n",
            "\n"
          ]
        }
      ]
    },
    {
      "cell_type": "markdown",
      "source": [
        "SQL"
      ],
      "metadata": {
        "id": "G5mlVxkBqZrj"
      }
    },
    {
      "cell_type": "code",
      "source": [
        "unique_rows_subset = df.select(['stream', 'sub1', 'birth_year']).distinct()\n",
        "unique_rows_subset.show(truncate=False)\n"
      ],
      "metadata": {
        "id": "A9Wgi2zFq2xy",
        "colab": {
          "base_uri": "https://localhost:8080/"
        },
        "outputId": "0c4f6baf-ab1b-4463-9f4e-1eaa10b4f508"
      },
      "execution_count": 45,
      "outputs": [
        {
          "output_type": "stream",
          "name": "stdout",
          "text": [
            "+---------------------+--------------------------------------+-----------------+\n",
            "|stream               |sub1                                  |birth_year       |\n",
            "+---------------------+--------------------------------------+-----------------+\n",
            "|-                    |PHYSICS                               |1987             |\n",
            "|BIOSYSTEMS TECHNOLOGY|HOME ECONOMICS                        |2001             |\n",
            "|-                    |GEOGRAPHY                             |Invalid nic error|\n",
            "|-                    |COMBINED MATHEMATICS                  |2002             |\n",
            "|-                    |BIO SYSTEMS TECHNOLOGY                |1999             |\n",
            "|NON                  |BUDDHISM                              |2000             |\n",
            "|-                    |DANCING(INDIGENOUS)                   |2001             |\n",
            "|-                    |HOME ECONOMICS                        |1997             |\n",
            "|-                    |FOOD TECHNOLOGY                       |1999             |\n",
            "|-                    |ECONOMICS                             |1976             |\n",
            "|NON                  |BUDDHIST CIVILIZATION                 |Invalid nic error|\n",
            "|ARTS                 |AGRO TECHNOLOGY                       |2002             |\n",
            "|-                    |CHEMISTRY                             |1990             |\n",
            "|ARTS                 |HISTORY OF SRI LANKA & EUROPE         |1996             |\n",
            "|BIOSYSTEMS TECHNOLOGY|AGRICULTURAL SCIENCE                  |Invalid nic error|\n",
            "|ARTS                 |HOME ECONOMICS                        |2001             |\n",
            "|NON                  |INFORMATION & COMMUNICATION TECHNOLOGY|2001             |\n",
            "|-                    |POLITICAL SCIENCE                     |1957             |\n",
            "|-                    |BUDDHIST CIVILIZATION                 |1913             |\n",
            "|-                    |DRAMA AND THEATRE (SINHALA)           |2001             |\n",
            "+---------------------+--------------------------------------+-----------------+\n",
            "only showing top 20 rows\n",
            "\n"
          ]
        }
      ]
    },
    {
      "cell_type": "code",
      "source": [
        "sorted_df = df.orderBy('al_year')\n",
        "sorted_df.show(truncate=False)\n"
      ],
      "metadata": {
        "colab": {
          "base_uri": "https://localhost:8080/"
        },
        "id": "ADczSKAYjBk0",
        "outputId": "a6fc24bf-4c9c-432e-a302-2ddb53b1ea17"
      },
      "execution_count": 46,
      "outputs": [
        {
          "output_type": "stream",
          "name": "stdout",
          "text": [
            "+------+--------+------+-------------+-----------+-------+--------------------------------------+------+--------------------------------------+------+----------+------+-----+------+--------+---------+-----------+----------+------+--------+\n",
            "|index |stream  |Zscore|district_rank|island_rank|al_year|sub1                                  |sub1_r|sub2                                  |sub2_r|sub3      |sub3_r|cgt_r|ge_r  |syllabus|birth_day|birth_month|birth_year|gender|district|\n",
            "+------+--------+------+-------------+-----------+-------+--------------------------------------+------+--------------------------------------+------+----------+------+-----+------+--------+---------+-----------+----------+------+--------+\n",
            "|184461|ARTS    |.6507 |1527 (NEW)   |28523 (NEW)|2020   |INFORMATION & COMMUNICATION TECHNOLOGY|C     |LOGIC & SCIENTIFIC METHOD             |C     |JAPANESE  |B     |048  |Absent|new     |25       |April      |2001      |female|Kegalla |\n",
            "|0     |ARTS    |-.3550|4336 (NEW)   |64994 (NEW)|2020   |POLITICAL SCIENCE                     |S     |DANCING(BHARATHA)                     |C     |TAMIL     |S     |056  |S     |new     |31       |May        |2001      |female|Kegalla |\n",
            "|184462|ARTS    |.1464 |2499 (NEW)   |47615 (NEW)|2020   |POLITICAL SCIENCE                     |C     |LOGIC & SCIENTIFIC METHOD             |S     |SINHALA   |B     |048  |F     |new     |18       |October    |2001      |female|Kegalla |\n",
            "|1     |ARTS    |-.2648|4154 (NEW)   |62338 (NEW)|2020   |POLITICAL SCIENCE                     |S     |CARNATIC MUSIC                        |C     |TAMIL     |C     |032  |C     |new     |13       |January    |2002      |female|Kegalla |\n",
            "|184463|ARTS    |1.7781|107 (NEW)    |1773 (NEW) |2020   |GEOGRAPHY                             |A     |COMMUNICATION & MEDIA STUDIES         |A     |SINHALA   |A     |036  |S     |new     |20       |July       |2001      |female|Kegalla |\n",
            "|2     |COMMERCE|-.4760|6910 (NEW)   |37307 (NEW)|2020   |ECONOMICS                             |S     |BUSINESS STUDIES                      |S     |ACCOUNTING|S     |050  |S     |new     |16       |August     |2001      |female|Kegalla |\n",
            "|184464|-       |-.4863|-            |-          |2020   |GEOGRAPHY                             |S     |POLITICAL SCIENCE                     |F     |SINHALA   |C     |054  |S     |new     |21       |October    |2000      |male  |Kegalla |\n",
            "|3     |COMMERCE|-.1012|5678 (NEW)   |30449 (NEW)|2020   |ECONOMICS                             |C     |BUSINESS STUDIES                      |C     |ACCOUNTING|S     |034  |S     |new     |16       |August     |2001      |female|Kegalla |\n",
            "|184465|ARTS    |1.8174|81 (NEW)     |1507 (NEW) |2020   |GEOGRAPHY                             |A     |POLITICAL SCIENCE                     |A     |SINHALA   |A     |038  |F     |new     |27       |May        |2001      |female|Kegalla |\n",
            "|4     |COMMERCE|.6014 |3269 (NEW)   |17010 (NEW)|2020   |ECONOMICS                             |C     |BUSINESS STUDIES                      |C     |ACCOUNTING|B     |036  |S     |new     |7        |August     |2000      |female|Kegalla |\n",
            "|184466|ARTS    |.5646 |1690 (NEW)   |31675 (NEW)|2020   |HISTORY OF SRI LANKA & INDIA          |C     |BUDDHIST CIVILIZATION                 |B     |SINHALA   |B     |028  |S     |new     |27       |February   |2001      |female|Kegalla |\n",
            "|5     |ARTS    |-.5061|4602 (NEW)   |68521 (NEW)|2020   |POLITICAL SCIENCE                     |S     |HINDU CIVILIZATION                    |C     |TAMIL     |S     |022  |S     |new     |9        |January    |2002      |female|Kegalla |\n",
            "|184467|ARTS    |1.0350|854 (NEW)    |16023 (NEW)|2020   |GEOGRAPHY                             |B     |POLITICAL SCIENCE                     |B     |SINHALA   |B     |032  |S     |new     |16       |July       |2000      |female|Kegalla |\n",
            "|6     |ARTS    |.0177 |3419 (NEW)   |52426 (NEW)|2020   |POLITICAL SCIENCE                     |S     |HINDU CIVILIZATION                    |B     |TAMIL     |S     |028  |F     |new     |31       |December   |2001      |female|Kegalla |\n",
            "|184468|ARTS    |.8105 |1242 (NEW)   |23092 (NEW)|2020   |AGRICULTURAL SCIENCE                  |C     |INFORMATION & COMMUNICATION TECHNOLOGY|C     |SINHALA   |C     |030  |F     |new     |12       |April      |2001      |male  |Kegalla |\n",
            "|7     |ARTS    |-.3106|4247 (NEW)   |63760 (NEW)|2020   |POLITICAL SCIENCE                     |S     |CHRISTIANITY                          |C     |TAMIL     |C     |034  |S     |new     |6        |December   |2001      |female|Kegalla |\n",
            "|184469|ARTS    |.4747 |1868 (NEW)   |35039 (NEW)|2020   |GEOGRAPHY                             |C     |ORIENTAL MUSIC                        |B     |HINDI     |C     |038  |S     |new     |20       |December   |2001      |female|Kegalla |\n",
            "|8     |-       |-     |-            |-          |2020   |ECONOMICS                             |S     |BUSINESS STUDIES                      |F     |ACCOUNTING|F     |040  |F     |new     |16       |November   |2000      |female|Kegalla |\n",
            "|184470|ARTS    |1.2099|616 (NEW)    |11249 (NEW)|2020   |AGRICULTURAL SCIENCE                  |C     |BUDDHIST CIVILIZATION                 |A     |SINHALA   |B     |032  |S     |new     |12       |February   |2001      |female|Kegalla |\n",
            "|9     |COMMERCE|1.0447|2008 (NEW)   |9743 (NEW) |2020   |ECONOMICS                             |B     |BUSINESS STUDIES                      |C     |ACCOUNTING|A     |046  |C     |new     |18       |June       |2001      |female|Kegalla |\n",
            "+------+--------+------+-------------+-----------+-------+--------------------------------------+------+--------------------------------------+------+----------+------+-----+------+--------+---------+-----------+----------+------+--------+\n",
            "only showing top 20 rows\n",
            "\n"
          ]
        }
      ]
    },
    {
      "cell_type": "code",
      "source": [
        "sorted_df_desc = df.orderBy('al_year', ascending=False)\n",
        "sorted_df_desc.show(truncate=False)\n"
      ],
      "metadata": {
        "colab": {
          "base_uri": "https://localhost:8080/"
        },
        "id": "nTP4CFVejFar",
        "outputId": "17bb6bcb-9038-4517-de12-83fbf1d87ec2"
      },
      "execution_count": 47,
      "outputs": [
        {
          "output_type": "stream",
          "name": "stdout",
          "text": [
            "+------+--------+------+-------------+-----------+-------+--------------------------------------+------+--------------------------------------+------+----------+------+-----+------+--------+---------+-----------+----------+------+--------+\n",
            "|index |stream  |Zscore|district_rank|island_rank|al_year|sub1                                  |sub1_r|sub2                                  |sub2_r|sub3      |sub3_r|cgt_r|ge_r  |syllabus|birth_day|birth_month|birth_year|gender|district|\n",
            "+------+--------+------+-------------+-----------+-------+--------------------------------------+------+--------------------------------------+------+----------+------+-----+------+--------+---------+-----------+----------+------+--------+\n",
            "|184461|ARTS    |.6507 |1527 (NEW)   |28523 (NEW)|2020   |INFORMATION & COMMUNICATION TECHNOLOGY|C     |LOGIC & SCIENTIFIC METHOD             |C     |JAPANESE  |B     |048  |Absent|new     |25       |April      |2001      |female|Kegalla |\n",
            "|0     |ARTS    |-.3550|4336 (NEW)   |64994 (NEW)|2020   |POLITICAL SCIENCE                     |S     |DANCING(BHARATHA)                     |C     |TAMIL     |S     |056  |S     |new     |31       |May        |2001      |female|Kegalla |\n",
            "|184462|ARTS    |.1464 |2499 (NEW)   |47615 (NEW)|2020   |POLITICAL SCIENCE                     |C     |LOGIC & SCIENTIFIC METHOD             |S     |SINHALA   |B     |048  |F     |new     |18       |October    |2001      |female|Kegalla |\n",
            "|1     |ARTS    |-.2648|4154 (NEW)   |62338 (NEW)|2020   |POLITICAL SCIENCE                     |S     |CARNATIC MUSIC                        |C     |TAMIL     |C     |032  |C     |new     |13       |January    |2002      |female|Kegalla |\n",
            "|184463|ARTS    |1.7781|107 (NEW)    |1773 (NEW) |2020   |GEOGRAPHY                             |A     |COMMUNICATION & MEDIA STUDIES         |A     |SINHALA   |A     |036  |S     |new     |20       |July       |2001      |female|Kegalla |\n",
            "|2     |COMMERCE|-.4760|6910 (NEW)   |37307 (NEW)|2020   |ECONOMICS                             |S     |BUSINESS STUDIES                      |S     |ACCOUNTING|S     |050  |S     |new     |16       |August     |2001      |female|Kegalla |\n",
            "|184464|-       |-.4863|-            |-          |2020   |GEOGRAPHY                             |S     |POLITICAL SCIENCE                     |F     |SINHALA   |C     |054  |S     |new     |21       |October    |2000      |male  |Kegalla |\n",
            "|3     |COMMERCE|-.1012|5678 (NEW)   |30449 (NEW)|2020   |ECONOMICS                             |C     |BUSINESS STUDIES                      |C     |ACCOUNTING|S     |034  |S     |new     |16       |August     |2001      |female|Kegalla |\n",
            "|184465|ARTS    |1.8174|81 (NEW)     |1507 (NEW) |2020   |GEOGRAPHY                             |A     |POLITICAL SCIENCE                     |A     |SINHALA   |A     |038  |F     |new     |27       |May        |2001      |female|Kegalla |\n",
            "|4     |COMMERCE|.6014 |3269 (NEW)   |17010 (NEW)|2020   |ECONOMICS                             |C     |BUSINESS STUDIES                      |C     |ACCOUNTING|B     |036  |S     |new     |7        |August     |2000      |female|Kegalla |\n",
            "|184466|ARTS    |.5646 |1690 (NEW)   |31675 (NEW)|2020   |HISTORY OF SRI LANKA & INDIA          |C     |BUDDHIST CIVILIZATION                 |B     |SINHALA   |B     |028  |S     |new     |27       |February   |2001      |female|Kegalla |\n",
            "|5     |ARTS    |-.5061|4602 (NEW)   |68521 (NEW)|2020   |POLITICAL SCIENCE                     |S     |HINDU CIVILIZATION                    |C     |TAMIL     |S     |022  |S     |new     |9        |January    |2002      |female|Kegalla |\n",
            "|184467|ARTS    |1.0350|854 (NEW)    |16023 (NEW)|2020   |GEOGRAPHY                             |B     |POLITICAL SCIENCE                     |B     |SINHALA   |B     |032  |S     |new     |16       |July       |2000      |female|Kegalla |\n",
            "|6     |ARTS    |.0177 |3419 (NEW)   |52426 (NEW)|2020   |POLITICAL SCIENCE                     |S     |HINDU CIVILIZATION                    |B     |TAMIL     |S     |028  |F     |new     |31       |December   |2001      |female|Kegalla |\n",
            "|184468|ARTS    |.8105 |1242 (NEW)   |23092 (NEW)|2020   |AGRICULTURAL SCIENCE                  |C     |INFORMATION & COMMUNICATION TECHNOLOGY|C     |SINHALA   |C     |030  |F     |new     |12       |April      |2001      |male  |Kegalla |\n",
            "|7     |ARTS    |-.3106|4247 (NEW)   |63760 (NEW)|2020   |POLITICAL SCIENCE                     |S     |CHRISTIANITY                          |C     |TAMIL     |C     |034  |S     |new     |6        |December   |2001      |female|Kegalla |\n",
            "|184469|ARTS    |.4747 |1868 (NEW)   |35039 (NEW)|2020   |GEOGRAPHY                             |C     |ORIENTAL MUSIC                        |B     |HINDI     |C     |038  |S     |new     |20       |December   |2001      |female|Kegalla |\n",
            "|8     |-       |-     |-            |-          |2020   |ECONOMICS                             |S     |BUSINESS STUDIES                      |F     |ACCOUNTING|F     |040  |F     |new     |16       |November   |2000      |female|Kegalla |\n",
            "|184470|ARTS    |1.2099|616 (NEW)    |11249 (NEW)|2020   |AGRICULTURAL SCIENCE                  |C     |BUDDHIST CIVILIZATION                 |A     |SINHALA   |B     |032  |S     |new     |12       |February   |2001      |female|Kegalla |\n",
            "|9     |COMMERCE|1.0447|2008 (NEW)   |9743 (NEW) |2020   |ECONOMICS                             |B     |BUSINESS STUDIES                      |C     |ACCOUNTING|A     |046  |C     |new     |18       |June       |2001      |female|Kegalla |\n",
            "+------+--------+------+-------------+-----------+-------+--------------------------------------+------+--------------------------------------+------+----------+------+-----+------+--------+---------+-----------+----------+------+--------+\n",
            "only showing top 20 rows\n",
            "\n"
          ]
        }
      ]
    },
    {
      "cell_type": "code",
      "source": [
        "sorted_df_asc = df.orderBy('al_year', ascending=True)\n",
        "sorted_df_asc.show(truncate=False)\n"
      ],
      "metadata": {
        "colab": {
          "base_uri": "https://localhost:8080/"
        },
        "id": "OYt1oGtLlxqZ",
        "outputId": "fddf982d-7e34-41c6-b16d-3b5b82c77fcb"
      },
      "execution_count": 48,
      "outputs": [
        {
          "output_type": "stream",
          "name": "stdout",
          "text": [
            "+------+--------+------+-------------+-----------+-------+--------------------------------------+------+--------------------------------------+------+----------+------+-----+------+--------+---------+-----------+----------+------+--------+\n",
            "|index |stream  |Zscore|district_rank|island_rank|al_year|sub1                                  |sub1_r|sub2                                  |sub2_r|sub3      |sub3_r|cgt_r|ge_r  |syllabus|birth_day|birth_month|birth_year|gender|district|\n",
            "+------+--------+------+-------------+-----------+-------+--------------------------------------+------+--------------------------------------+------+----------+------+-----+------+--------+---------+-----------+----------+------+--------+\n",
            "|184461|ARTS    |.6507 |1527 (NEW)   |28523 (NEW)|2020   |INFORMATION & COMMUNICATION TECHNOLOGY|C     |LOGIC & SCIENTIFIC METHOD             |C     |JAPANESE  |B     |048  |Absent|new     |25       |April      |2001      |female|Kegalla |\n",
            "|0     |ARTS    |-.3550|4336 (NEW)   |64994 (NEW)|2020   |POLITICAL SCIENCE                     |S     |DANCING(BHARATHA)                     |C     |TAMIL     |S     |056  |S     |new     |31       |May        |2001      |female|Kegalla |\n",
            "|184462|ARTS    |.1464 |2499 (NEW)   |47615 (NEW)|2020   |POLITICAL SCIENCE                     |C     |LOGIC & SCIENTIFIC METHOD             |S     |SINHALA   |B     |048  |F     |new     |18       |October    |2001      |female|Kegalla |\n",
            "|1     |ARTS    |-.2648|4154 (NEW)   |62338 (NEW)|2020   |POLITICAL SCIENCE                     |S     |CARNATIC MUSIC                        |C     |TAMIL     |C     |032  |C     |new     |13       |January    |2002      |female|Kegalla |\n",
            "|184463|ARTS    |1.7781|107 (NEW)    |1773 (NEW) |2020   |GEOGRAPHY                             |A     |COMMUNICATION & MEDIA STUDIES         |A     |SINHALA   |A     |036  |S     |new     |20       |July       |2001      |female|Kegalla |\n",
            "|2     |COMMERCE|-.4760|6910 (NEW)   |37307 (NEW)|2020   |ECONOMICS                             |S     |BUSINESS STUDIES                      |S     |ACCOUNTING|S     |050  |S     |new     |16       |August     |2001      |female|Kegalla |\n",
            "|184464|-       |-.4863|-            |-          |2020   |GEOGRAPHY                             |S     |POLITICAL SCIENCE                     |F     |SINHALA   |C     |054  |S     |new     |21       |October    |2000      |male  |Kegalla |\n",
            "|3     |COMMERCE|-.1012|5678 (NEW)   |30449 (NEW)|2020   |ECONOMICS                             |C     |BUSINESS STUDIES                      |C     |ACCOUNTING|S     |034  |S     |new     |16       |August     |2001      |female|Kegalla |\n",
            "|184465|ARTS    |1.8174|81 (NEW)     |1507 (NEW) |2020   |GEOGRAPHY                             |A     |POLITICAL SCIENCE                     |A     |SINHALA   |A     |038  |F     |new     |27       |May        |2001      |female|Kegalla |\n",
            "|4     |COMMERCE|.6014 |3269 (NEW)   |17010 (NEW)|2020   |ECONOMICS                             |C     |BUSINESS STUDIES                      |C     |ACCOUNTING|B     |036  |S     |new     |7        |August     |2000      |female|Kegalla |\n",
            "|184466|ARTS    |.5646 |1690 (NEW)   |31675 (NEW)|2020   |HISTORY OF SRI LANKA & INDIA          |C     |BUDDHIST CIVILIZATION                 |B     |SINHALA   |B     |028  |S     |new     |27       |February   |2001      |female|Kegalla |\n",
            "|5     |ARTS    |-.5061|4602 (NEW)   |68521 (NEW)|2020   |POLITICAL SCIENCE                     |S     |HINDU CIVILIZATION                    |C     |TAMIL     |S     |022  |S     |new     |9        |January    |2002      |female|Kegalla |\n",
            "|184467|ARTS    |1.0350|854 (NEW)    |16023 (NEW)|2020   |GEOGRAPHY                             |B     |POLITICAL SCIENCE                     |B     |SINHALA   |B     |032  |S     |new     |16       |July       |2000      |female|Kegalla |\n",
            "|6     |ARTS    |.0177 |3419 (NEW)   |52426 (NEW)|2020   |POLITICAL SCIENCE                     |S     |HINDU CIVILIZATION                    |B     |TAMIL     |S     |028  |F     |new     |31       |December   |2001      |female|Kegalla |\n",
            "|184468|ARTS    |.8105 |1242 (NEW)   |23092 (NEW)|2020   |AGRICULTURAL SCIENCE                  |C     |INFORMATION & COMMUNICATION TECHNOLOGY|C     |SINHALA   |C     |030  |F     |new     |12       |April      |2001      |male  |Kegalla |\n",
            "|7     |ARTS    |-.3106|4247 (NEW)   |63760 (NEW)|2020   |POLITICAL SCIENCE                     |S     |CHRISTIANITY                          |C     |TAMIL     |C     |034  |S     |new     |6        |December   |2001      |female|Kegalla |\n",
            "|184469|ARTS    |.4747 |1868 (NEW)   |35039 (NEW)|2020   |GEOGRAPHY                             |C     |ORIENTAL MUSIC                        |B     |HINDI     |C     |038  |S     |new     |20       |December   |2001      |female|Kegalla |\n",
            "|8     |-       |-     |-            |-          |2020   |ECONOMICS                             |S     |BUSINESS STUDIES                      |F     |ACCOUNTING|F     |040  |F     |new     |16       |November   |2000      |female|Kegalla |\n",
            "|184470|ARTS    |1.2099|616 (NEW)    |11249 (NEW)|2020   |AGRICULTURAL SCIENCE                  |C     |BUDDHIST CIVILIZATION                 |A     |SINHALA   |B     |032  |S     |new     |12       |February   |2001      |female|Kegalla |\n",
            "|9     |COMMERCE|1.0447|2008 (NEW)   |9743 (NEW) |2020   |ECONOMICS                             |B     |BUSINESS STUDIES                      |C     |ACCOUNTING|A     |046  |C     |new     |18       |June       |2001      |female|Kegalla |\n",
            "+------+--------+------+-------------+-----------+-------+--------------------------------------+------+--------------------------------------+------+----------+------+-----+------+--------+---------+-----------+----------+------+--------+\n",
            "only showing top 20 rows\n",
            "\n"
          ]
        }
      ]
    },
    {
      "cell_type": "code",
      "source": [
        "# Group by 'stream', count occurrences, and order by count in descending order\n",
        "df.groupBy(\"stream\").count().orderBy('count', ascending=False).show(10, truncate=False)"
      ],
      "metadata": {
        "colab": {
          "base_uri": "https://localhost:8080/"
        },
        "id": "AdufZZWmjG1e",
        "outputId": "735d94dd-4927-4792-8353-e88fcec9b8e0"
      },
      "execution_count": 49,
      "outputs": [
        {
          "output_type": "stream",
          "name": "stdout",
          "text": [
            "+----------------------+------+\n",
            "|stream                |count |\n",
            "+----------------------+------+\n",
            "|-                     |150514|\n",
            "|ARTS                  |76547 |\n",
            "|COMMERCE              |39877 |\n",
            "|BIOLOGICAL SCIENCE    |25768 |\n",
            "|PHYSICAL SCIENCE      |21776 |\n",
            "|ENGINEERING TECHNOLOGY|12498 |\n",
            "|BIOSYSTEMS TECHNOLOGY |7833  |\n",
            "|NON                   |2740  |\n",
            "+----------------------+------+\n",
            "\n"
          ]
        }
      ]
    },
    {
      "cell_type": "code",
      "source": [
        "from pyspark.sql import SparkSession\n",
        "from pyspark.sql.functions import col\n",
        "\n",
        "# Assuming 'df' is your existing DataFrame\n",
        "\n",
        "# Filter for ARTS stream\n",
        "arts_students = df.filter((col('stream') == 'ARTS') & (col('sub1') == 'POLITICAL SCIENCE'))\n",
        "\n",
        "# Filter for COMMERCE stream\n",
        "commerce_students = df.filter((col('stream') == 'COMMERCE') & (col('sub1') == 'ECONOMICS'))\n",
        "\n",
        "# Count and print\n",
        "print(\"ARTS STREAM STUDENTS: \" + str(arts_students.count()))\n",
        "print(\"COMMERCE STREAM STUDENTS: \" + str(commerce_students.count()))\n",
        "\n",
        "# Union and count\n",
        "union_students_df = arts_students.union(commerce_students)\n",
        "print(\"AFTER UNION: \" + str(union_students_df.count()))\n"
      ],
      "metadata": {
        "colab": {
          "base_uri": "https://localhost:8080/"
        },
        "id": "QyrwyJ8KjJRP",
        "outputId": "354e7d87-3cec-4213-d04c-5bac725a184e"
      },
      "execution_count": 50,
      "outputs": [
        {
          "output_type": "stream",
          "name": "stdout",
          "text": [
            "ARTS STREAM STUDENTS: 19811\n",
            "COMMERCE STREAM STUDENTS: 36103\n",
            "AFTER UNION: 55914\n"
          ]
        }
      ]
    },
    {
      "cell_type": "code",
      "source": [
        "# Assuming 'df' is your existing DataFrame\n",
        "\n",
        "# Creating two DataFrames with jumbled columns\n",
        "columns_order_1 = [\"stream\", \"sub1\", \"sub2\", \"sub3\", \"birth_year\"]\n",
        "columns_order_2 = [\"sub2\", \"sub3\", \"birth_year\", \"stream\", \"sub1\"]\n",
        "\n",
        "df1 = df.select(columns_order_1)\n",
        "df2 = df.select(columns_order_2)\n",
        "\n",
        "# Union by column names\n",
        "union_df = df1.unionByName(df2)\n",
        "union_df.show(truncate=False)\n"
      ],
      "metadata": {
        "colab": {
          "base_uri": "https://localhost:8080/"
        },
        "id": "PuOqfOnmjKJK",
        "outputId": "572af10a-b718-42db-cb12-29784084bc1b"
      },
      "execution_count": 52,
      "outputs": [
        {
          "output_type": "stream",
          "name": "stdout",
          "text": [
            "+--------+-----------------+------------------+----------+----------+\n",
            "|stream  |sub1             |sub2              |sub3      |birth_year|\n",
            "+--------+-----------------+------------------+----------+----------+\n",
            "|ARTS    |POLITICAL SCIENCE|DANCING(BHARATHA) |TAMIL     |2001      |\n",
            "|ARTS    |POLITICAL SCIENCE|CARNATIC MUSIC    |TAMIL     |2002      |\n",
            "|COMMERCE|ECONOMICS        |BUSINESS STUDIES  |ACCOUNTING|2001      |\n",
            "|COMMERCE|ECONOMICS        |BUSINESS STUDIES  |ACCOUNTING|2001      |\n",
            "|COMMERCE|ECONOMICS        |BUSINESS STUDIES  |ACCOUNTING|2000      |\n",
            "|ARTS    |POLITICAL SCIENCE|HINDU CIVILIZATION|TAMIL     |2002      |\n",
            "|ARTS    |POLITICAL SCIENCE|HINDU CIVILIZATION|TAMIL     |2001      |\n",
            "|ARTS    |POLITICAL SCIENCE|CHRISTIANITY      |TAMIL     |2001      |\n",
            "|-       |ECONOMICS        |BUSINESS STUDIES  |ACCOUNTING|2000      |\n",
            "|COMMERCE|ECONOMICS        |BUSINESS STUDIES  |ACCOUNTING|2001      |\n",
            "|-       |POLITICAL SCIENCE|HINDU CIVILIZATION|TAMIL     |2001      |\n",
            "|COMMERCE|ECONOMICS        |BUSINESS STUDIES  |ACCOUNTING|2001      |\n",
            "|ARTS    |POLITICAL SCIENCE|HINDU CIVILIZATION|TAMIL     |2001      |\n",
            "|ARTS    |POLITICAL SCIENCE|CARNATIC MUSIC    |TAMIL     |2001      |\n",
            "|-       |ECONOMICS        |BUSINESS STUDIES  |ACCOUNTING|2001      |\n",
            "|ARTS    |POLITICAL SCIENCE|HINDU CIVILIZATION|TAMIL     |2001      |\n",
            "|COMMERCE|ECONOMICS        |BUSINESS STUDIES  |ACCOUNTING|2001      |\n",
            "|-       |ECONOMICS        |BUSINESS STUDIES  |ACCOUNTING|2000      |\n",
            "|COMMERCE|ECONOMICS        |BUSINESS STUDIES  |ACCOUNTING|2001      |\n",
            "|COMMERCE|ECONOMICS        |BUSINESS STUDIES  |ACCOUNTING|2001      |\n",
            "+--------+-----------------+------------------+----------+----------+\n",
            "only showing top 20 rows\n",
            "\n"
          ]
        }
      ]
    },
    {
      "cell_type": "code",
      "source": [
        "# Functions available in PySpark\n",
        "from pyspark.sql import functions\n",
        "# Similar to python, we can use the dir function to view the avaiable functions\n",
        "print(dir(functions))"
      ],
      "metadata": {
        "colab": {
          "base_uri": "https://localhost:8080/"
        },
        "id": "gMXjKJK-jLpL",
        "outputId": "a5d7537b-f716-4e2e-b1c4-8a3e94d2ef96"
      },
      "execution_count": 53,
      "outputs": [
        {
          "output_type": "stream",
          "name": "stdout",
          "text": [
            "['Any', 'ArrayType', 'Callable', 'Column', 'DataFrame', 'DataType', 'Dict', 'Iterable', 'JVMView', 'List', 'Optional', 'PandasUDFType', 'PySparkTypeError', 'PySparkValueError', 'SparkContext', 'StringType', 'StructType', 'TYPE_CHECKING', 'Tuple', 'Type', 'Union', 'UserDefinedFunction', 'UserDefinedTableFunction', 'ValuesView', '__builtins__', '__cached__', '__doc__', '__file__', '__loader__', '__name__', '__package__', '__spec__', '_create_column_from_literal', '_create_lambda', '_create_py_udf', '_create_py_udtf', '_from_numpy_type', '_get_jvm_function', '_get_lambda_parameters', '_invoke_binary_math_function', '_invoke_function', '_invoke_function_over_columns', '_invoke_function_over_seq_of_columns', '_invoke_higher_order_function', '_options_to_str', '_test', '_to_java_column', '_to_seq', '_unresolved_named_lambda_variable', 'abs', 'acos', 'acosh', 'add_months', 'aes_decrypt', 'aes_encrypt', 'aggregate', 'any_value', 'approxCountDistinct', 'approx_count_distinct', 'approx_percentile', 'array', 'array_agg', 'array_append', 'array_compact', 'array_contains', 'array_distinct', 'array_except', 'array_insert', 'array_intersect', 'array_join', 'array_max', 'array_min', 'array_position', 'array_prepend', 'array_remove', 'array_repeat', 'array_size', 'array_sort', 'array_union', 'arrays_overlap', 'arrays_zip', 'asc', 'asc_nulls_first', 'asc_nulls_last', 'ascii', 'asin', 'asinh', 'assert_true', 'atan', 'atan2', 'atanh', 'avg', 'base64', 'bin', 'bit_and', 'bit_count', 'bit_get', 'bit_length', 'bit_or', 'bit_xor', 'bitmap_bit_position', 'bitmap_bucket_number', 'bitmap_construct_agg', 'bitmap_count', 'bitmap_or_agg', 'bitwiseNOT', 'bitwise_not', 'bool_and', 'bool_or', 'broadcast', 'bround', 'btrim', 'bucket', 'call_function', 'call_udf', 'cardinality', 'cast', 'cbrt', 'ceil', 'ceiling', 'char', 'char_length', 'character_length', 'coalesce', 'col', 'collect_list', 'collect_set', 'column', 'concat', 'concat_ws', 'contains', 'conv', 'convert_timezone', 'corr', 'cos', 'cosh', 'cot', 'count', 'countDistinct', 'count_distinct', 'count_if', 'count_min_sketch', 'covar_pop', 'covar_samp', 'crc32', 'create_map', 'csc', 'cume_dist', 'curdate', 'current_catalog', 'current_database', 'current_date', 'current_schema', 'current_timestamp', 'current_timezone', 'current_user', 'date_add', 'date_diff', 'date_format', 'date_from_unix_date', 'date_part', 'date_sub', 'date_trunc', 'dateadd', 'datediff', 'datepart', 'day', 'dayofmonth', 'dayofweek', 'dayofyear', 'days', 'decimal', 'decode', 'degrees', 'dense_rank', 'desc', 'desc_nulls_first', 'desc_nulls_last', 'e', 'element_at', 'elt', 'encode', 'endswith', 'equal_null', 'every', 'exists', 'exp', 'explode', 'explode_outer', 'expm1', 'expr', 'extract', 'factorial', 'filter', 'find_in_set', 'first', 'first_value', 'flatten', 'floor', 'forall', 'format_number', 'format_string', 'from_csv', 'from_json', 'from_unixtime', 'from_utc_timestamp', 'functools', 'get', 'get_active_spark_context', 'get_json_object', 'getbit', 'greatest', 'grouping', 'grouping_id', 'has_numpy', 'hash', 'hex', 'histogram_numeric', 'hll_sketch_agg', 'hll_sketch_estimate', 'hll_union', 'hll_union_agg', 'hour', 'hours', 'hypot', 'ifnull', 'ilike', 'initcap', 'inline', 'inline_outer', 'input_file_block_length', 'input_file_block_start', 'input_file_name', 'inspect', 'instr', 'isnan', 'isnotnull', 'isnull', 'java_method', 'json_array_length', 'json_object_keys', 'json_tuple', 'kurtosis', 'lag', 'last', 'last_day', 'last_value', 'lcase', 'lead', 'least', 'left', 'length', 'levenshtein', 'like', 'lit', 'ln', 'localtimestamp', 'locate', 'log', 'log10', 'log1p', 'log2', 'lower', 'lpad', 'ltrim', 'make_date', 'make_dt_interval', 'make_interval', 'make_timestamp', 'make_timestamp_ltz', 'make_timestamp_ntz', 'make_ym_interval', 'map_concat', 'map_contains_key', 'map_entries', 'map_filter', 'map_from_arrays', 'map_from_entries', 'map_keys', 'map_values', 'map_zip_with', 'mask', 'max', 'max_by', 'md5', 'mean', 'median', 'min', 'min_by', 'minute', 'mode', 'monotonically_increasing_id', 'month', 'months', 'months_between', 'named_struct', 'nanvl', 'negate', 'negative', 'next_day', 'now', 'np', 'nth_value', 'ntile', 'nullif', 'nvl', 'nvl2', 'octet_length', 'overlay', 'overload', 'pandas_udf', 'parse_url', 'percent_rank', 'percentile', 'percentile_approx', 'pi', 'pmod', 'posexplode', 'posexplode_outer', 'position', 'positive', 'pow', 'power', 'printf', 'product', 'quarter', 'radians', 'raise_error', 'rand', 'randn', 'rank', 'reduce', 'reflect', 'regexp', 'regexp_count', 'regexp_extract', 'regexp_extract_all', 'regexp_instr', 'regexp_like', 'regexp_replace', 'regexp_substr', 'regr_avgx', 'regr_avgy', 'regr_count', 'regr_intercept', 'regr_r2', 'regr_slope', 'regr_sxx', 'regr_sxy', 'regr_syy', 'repeat', 'replace', 'reverse', 'right', 'rint', 'rlike', 'round', 'row_number', 'rpad', 'rtrim', 'schema_of_csv', 'schema_of_json', 'sec', 'second', 'sentences', 'sequence', 'session_window', 'sha', 'sha1', 'sha2', 'shiftLeft', 'shiftRight', 'shiftRightUnsigned', 'shiftleft', 'shiftright', 'shiftrightunsigned', 'shuffle', 'sign', 'signum', 'sin', 'sinh', 'size', 'skewness', 'slice', 'some', 'sort_array', 'soundex', 'spark_partition_id', 'split', 'split_part', 'sqrt', 'stack', 'startswith', 'std', 'stddev', 'stddev_pop', 'stddev_samp', 'str_to_map', 'struct', 'substr', 'substring', 'substring_index', 'sum', 'sumDistinct', 'sum_distinct', 'sys', 'tan', 'tanh', 'timestamp_micros', 'timestamp_millis', 'timestamp_seconds', 'toDegrees', 'toRadians', 'to_binary', 'to_char', 'to_csv', 'to_date', 'to_json', 'to_number', 'to_str', 'to_timestamp', 'to_timestamp_ltz', 'to_timestamp_ntz', 'to_unix_timestamp', 'to_utc_timestamp', 'to_varchar', 'transform', 'transform_keys', 'transform_values', 'translate', 'trim', 'trunc', 'try_add', 'try_aes_decrypt', 'try_avg', 'try_divide', 'try_element_at', 'try_multiply', 'try_remote_functions', 'try_subtract', 'try_sum', 'try_to_binary', 'try_to_number', 'try_to_timestamp', 'typeof', 'ucase', 'udf', 'udtf', 'unbase64', 'unhex', 'unix_date', 'unix_micros', 'unix_millis', 'unix_seconds', 'unix_timestamp', 'unwrap_udt', 'upper', 'url_decode', 'url_encode', 'user', 'var_pop', 'var_samp', 'variance', 'version', 'warnings', 'weekday', 'weekofyear', 'when', 'width_bucket', 'window', 'window_time', 'xpath', 'xpath_boolean', 'xpath_double', 'xpath_float', 'xpath_int', 'xpath_long', 'xpath_number', 'xpath_short', 'xpath_string', 'xxhash64', 'year', 'years', 'zip_with']\n"
          ]
        }
      ]
    },
    {
      "cell_type": "code",
      "source": [
        "# Loading the data\n",
        "from pyspark.sql.functions import col\n",
        "df = spark.read.csv('Dataset.csv', header=True, sep=\",\", inferSchema=True)"
      ],
      "metadata": {
        "id": "X7llrgJ3jNBj"
      },
      "execution_count": 54,
      "outputs": []
    },
    {
      "cell_type": "code",
      "source": [
        "from pyspark.sql.functions import col,lower, upper, substring\n",
        "# Prints out the details of a function\n",
        "# alias is used to rename the column name in the output\n",
        "df.select(col('sub1'),lower(col('sub1')),upper(col('sub1')),substring(col('sub1'),1,4).alias(\"concatenated value\")).show(5, False)"
      ],
      "metadata": {
        "colab": {
          "base_uri": "https://localhost:8080/"
        },
        "id": "5aMxAGgSjOXM",
        "outputId": "10eeeb6b-c23e-4c03-a4e8-74a9393e7147"
      },
      "execution_count": 58,
      "outputs": [
        {
          "output_type": "stream",
          "name": "stdout",
          "text": [
            "+-----------------+-----------------+-----------------+------------------+\n",
            "|sub1             |lower(sub1)      |upper(sub1)      |concatenated value|\n",
            "+-----------------+-----------------+-----------------+------------------+\n",
            "|POLITICAL SCIENCE|political science|POLITICAL SCIENCE|POLI              |\n",
            "|POLITICAL SCIENCE|political science|POLITICAL SCIENCE|POLI              |\n",
            "|ECONOMICS        |economics        |ECONOMICS        |ECON              |\n",
            "|ECONOMICS        |economics        |ECONOMICS        |ECON              |\n",
            "|ECONOMICS        |economics        |ECONOMICS        |ECON              |\n",
            "+-----------------+-----------------+-----------------+------------------+\n",
            "only showing top 5 rows\n",
            "\n"
          ]
        }
      ]
    },
    {
      "cell_type": "code",
      "source": [
        "from pyspark.sql.functions import col, concat, lit\n",
        "\n",
        "# Assuming 'df' is your existing DataFrame\n",
        "\n",
        "# Selects columns and concatenates 'Car' and 'model' with a space in between\n",
        "df.select(\n",
        "    col(\"index\"),\n",
        "    col(\"Zscore\"),\n",
        "    concat(col(\"index\"), lit(\" \"), col(\"Zscore\")).alias('concatenated_value')\n",
        ").show(5, False)\n"
      ],
      "metadata": {
        "colab": {
          "base_uri": "https://localhost:8080/"
        },
        "id": "BSFgukKYjQh9",
        "outputId": "1bdbc0fb-5c39-41c7-dd85-612af8c7b0c0"
      },
      "execution_count": 59,
      "outputs": [
        {
          "output_type": "stream",
          "name": "stdout",
          "text": [
            "+-----+------+------------------+\n",
            "|index|Zscore|concatenated_value|\n",
            "+-----+------+------------------+\n",
            "|0    |-.3550|0 -.3550          |\n",
            "|1    |-.2648|1 -.2648          |\n",
            "|2    |-.4760|2 -.4760          |\n",
            "|3    |-.1012|3 -.1012          |\n",
            "|4    |.6014 |4 .6014           |\n",
            "+-----+------+------------------+\n",
            "only showing top 5 rows\n",
            "\n"
          ]
        }
      ]
    },
    {
      "cell_type": "code",
      "source": [
        "from pyspark.sql.functions import min, max\n",
        "df.select(min(col('Zscore')), max(col('Zscore'))).show()"
      ],
      "metadata": {
        "colab": {
          "base_uri": "https://localhost:8080/"
        },
        "id": "YUxZNN_WjSKr",
        "outputId": "a121ebb4-3728-44ec-ee99-7ea96d302f1d"
      },
      "execution_count": 60,
      "outputs": [
        {
          "output_type": "stream",
          "name": "stdout",
          "text": [
            "+-----------+-----------+\n",
            "|min(Zscore)|max(Zscore)|\n",
            "+-----------+-----------+\n",
            "|          -|     3.5583|\n",
            "+-----------+-----------+\n",
            "\n"
          ]
        }
      ]
    },
    {
      "cell_type": "code",
      "source": [
        "from pyspark.sql.functions import min, max, lit\n",
        "df.select(min(col('Zscore'))+lit(10), max(col('Zscore')+lit(10))).show()"
      ],
      "metadata": {
        "colab": {
          "base_uri": "https://localhost:8080/"
        },
        "id": "iRzFEdc4jTdx",
        "outputId": "917e8236-d89a-49d5-c229-94f170d33222"
      },
      "execution_count": 61,
      "outputs": [
        {
          "output_type": "stream",
          "name": "stdout",
          "text": [
            "+------------------+------------------+\n",
            "|(min(Zscore) + 10)|max((Zscore + 10))|\n",
            "+------------------+------------------+\n",
            "|              NULL|           13.5583|\n",
            "+------------------+------------------+\n",
            "\n"
          ]
        }
      ]
    },
    {
      "cell_type": "code",
      "source": [
        "from pyspark.sql.functions import to_date, to_timestamp, lit\n",
        "df = spark.createDataFrame([('2019-12-25 13:30:00',)], ['DOB'])\n",
        "df.show()\n",
        "df.printSchema()"
      ],
      "metadata": {
        "colab": {
          "base_uri": "https://localhost:8080/"
        },
        "id": "LmFKIh_4jUs6",
        "outputId": "7eb04d41-90fc-47d6-a7b5-91fdeeacc1eb"
      },
      "execution_count": 62,
      "outputs": [
        {
          "output_type": "stream",
          "name": "stdout",
          "text": [
            "+-------------------+\n",
            "|                DOB|\n",
            "+-------------------+\n",
            "|2019-12-25 13:30:00|\n",
            "+-------------------+\n",
            "\n",
            "root\n",
            " |-- DOB: string (nullable = true)\n",
            "\n"
          ]
        }
      ]
    },
    {
      "cell_type": "code",
      "source": [
        "df = spark.createDataFrame([('2019-12-25 13:30:00',)], ['DOB'])\n",
        "df = df.select(to_date(col('DOB'),'yyyy-MM-dd HH:mm:ss'), to_timestamp(col('DOB'),'yyyy-MM-dd HH:mm:ss'))\n",
        "df.show()\n",
        "df.printSchema()"
      ],
      "metadata": {
        "colab": {
          "base_uri": "https://localhost:8080/"
        },
        "id": "CprF7XlhjWG8",
        "outputId": "64481cb4-edcb-4879-e1ab-a92b5ca83952"
      },
      "execution_count": 63,
      "outputs": [
        {
          "output_type": "stream",
          "name": "stdout",
          "text": [
            "+---------------------------------+--------------------------------------+\n",
            "|to_date(DOB, yyyy-MM-dd HH:mm:ss)|to_timestamp(DOB, yyyy-MM-dd HH:mm:ss)|\n",
            "+---------------------------------+--------------------------------------+\n",
            "|                       2019-12-25|                   2019-12-25 13:30:00|\n",
            "+---------------------------------+--------------------------------------+\n",
            "\n",
            "root\n",
            " |-- to_date(DOB, yyyy-MM-dd HH:mm:ss): date (nullable = true)\n",
            " |-- to_timestamp(DOB, yyyy-MM-dd HH:mm:ss): timestamp (nullable = true)\n",
            "\n"
          ]
        }
      ]
    },
    {
      "cell_type": "code",
      "source": [
        "df = spark.createDataFrame([('25/Dec/2019 13:30:00',)], ['DOB'])\n",
        "df = df.select(to_date(col('DOB'),'dd/MMM/yyyy HH:mm:ss'), to_timestamp(col('DOB'),'dd/MMM/yyyy HH:mm:ss'))\n",
        "df.show()\n",
        "df.printSchema()"
      ],
      "metadata": {
        "colab": {
          "base_uri": "https://localhost:8080/"
        },
        "id": "mekQOljejXU8",
        "outputId": "9ce58821-cc0e-4944-854c-5c5cd6caf4d2"
      },
      "execution_count": 64,
      "outputs": [
        {
          "output_type": "stream",
          "name": "stdout",
          "text": [
            "+----------------------------------+---------------------------------------+\n",
            "|to_date(DOB, dd/MMM/yyyy HH:mm:ss)|to_timestamp(DOB, dd/MMM/yyyy HH:mm:ss)|\n",
            "+----------------------------------+---------------------------------------+\n",
            "|                        2019-12-25|                    2019-12-25 13:30:00|\n",
            "+----------------------------------+---------------------------------------+\n",
            "\n",
            "root\n",
            " |-- to_date(DOB, dd/MMM/yyyy HH:mm:ss): date (nullable = true)\n",
            " |-- to_timestamp(DOB, dd/MMM/yyyy HH:mm:ss): timestamp (nullable = true)\n",
            "\n"
          ]
        }
      ]
    },
    {
      "cell_type": "code",
      "source": [
        "from pyspark.sql.functions import date_add, date_sub\n",
        "# create a dummy dataframe\n",
        "df = spark.createDataFrame([('1990-01-01',),('1995-01-03',),('2021-03-30',)], ['Date'])\n",
        "# find out the required dates\n",
        "df.select(date_add(max(col('Date')),3), date_sub(min(col('Date')),3)).show()"
      ],
      "metadata": {
        "colab": {
          "base_uri": "https://localhost:8080/"
        },
        "id": "fTOxWOVnjYsm",
        "outputId": "026d4500-9798-4a4b-9884-20bb882322f1"
      },
      "execution_count": 65,
      "outputs": [
        {
          "output_type": "stream",
          "name": "stdout",
          "text": [
            "+----------------------+----------------------+\n",
            "|date_add(max(Date), 3)|date_sub(min(Date), 3)|\n",
            "+----------------------+----------------------+\n",
            "|            2021-04-02|            1989-12-29|\n",
            "+----------------------+----------------------+\n",
            "\n"
          ]
        }
      ]
    },
    {
      "cell_type": "code",
      "source": [
        "# Create two dataframes\n",
        "cars_df = spark.createDataFrame([[1, 'Car A'],[2, 'Car B'],[3, 'Car C']], [\"id\", \"car_name\"])\n",
        "car_price_df = spark.createDataFrame([[1, 1000],[2, 2000],[3, 3000]], [\"id\", \"car_price\"])\n",
        "cars_df.show()\n",
        "car_price_df.show()"
      ],
      "metadata": {
        "colab": {
          "base_uri": "https://localhost:8080/"
        },
        "id": "IMBSjWrbjaGB",
        "outputId": "523ee84c-4d13-4e1e-e7e9-b4c10d029c69"
      },
      "execution_count": 66,
      "outputs": [
        {
          "output_type": "stream",
          "name": "stdout",
          "text": [
            "+---+--------+\n",
            "| id|car_name|\n",
            "+---+--------+\n",
            "|  1|   Car A|\n",
            "|  2|   Car B|\n",
            "|  3|   Car C|\n",
            "+---+--------+\n",
            "\n",
            "+---+---------+\n",
            "| id|car_price|\n",
            "+---+---------+\n",
            "|  1|     1000|\n",
            "|  2|     2000|\n",
            "|  3|     3000|\n",
            "+---+---------+\n",
            "\n"
          ]
        }
      ]
    },
    {
      "cell_type": "code",
      "source": [
        "# Executing an inner join so we can see the id, name and price of each car in one row\n",
        "cars_df.join(car_price_df, cars_df.id == car_price_df.id, 'inner').select(cars_df['id'],cars_df['car_name'],car_price_df['car_price']).show(truncate=False)\n"
      ],
      "metadata": {
        "colab": {
          "base_uri": "https://localhost:8080/"
        },
        "id": "KnM5HNbLjbcq",
        "outputId": "600a091f-fdde-42ad-84ad-c64b795beb83"
      },
      "execution_count": 67,
      "outputs": [
        {
          "output_type": "stream",
          "name": "stdout",
          "text": [
            "+---+--------+---------+\n",
            "|id |car_name|car_price|\n",
            "+---+--------+---------+\n",
            "|1  |Car A   |1000     |\n",
            "|2  |Car B   |2000     |\n",
            "|3  |Car C   |3000     |\n",
            "+---+--------+---------+\n",
            "\n"
          ]
        }
      ]
    },
    {
      "cell_type": "code",
      "source": [
        "# Load data\n",
        "df = spark.read.csv('Dataset.csv', header=True, sep=\",\")\n",
        "# Register Temporary Table\n",
        "df.createOrReplaceTempView(\"temp\")\n",
        "# Select all data from temp table\n",
        "spark.sql(\"select * from temp limit 5\").show()\n",
        "# Select count of data in table\n",
        "spark.sql(\"select count(*) as total_count from temp\").show()"
      ],
      "metadata": {
        "colab": {
          "base_uri": "https://localhost:8080/"
        },
        "id": "dJRERRPEjc7B",
        "outputId": "9985375b-31b1-4c94-c86d-15c3d5b49c3a"
      },
      "execution_count": 68,
      "outputs": [
        {
          "output_type": "stream",
          "name": "stdout",
          "text": [
            "+-----+--------+------+-------------+-----------+-------+-----------------+------+-----------------+------+----------+------+-----+----+--------+---------+-----------+----------+------+\n",
            "|index|  stream|Zscore|district_rank|island_rank|al_year|             sub1|sub1_r|             sub2|sub2_r|      sub3|sub3_r|cgt_r|ge_r|syllabus|birth_day|birth_month|birth_year|gender|\n",
            "+-----+--------+------+-------------+-----------+-------+-----------------+------+-----------------+------+----------+------+-----+----+--------+---------+-----------+----------+------+\n",
            "|    0|    ARTS|-.3550|   4336 (NEW)|64994 (NEW)|   2020|POLITICAL SCIENCE|     S|DANCING(BHARATHA)|     C|     TAMIL|     S|  056|   S|     new|       31|        May|      2001|female|\n",
            "|    1|    ARTS|-.2648|   4154 (NEW)|62338 (NEW)|   2020|POLITICAL SCIENCE|     S|   CARNATIC MUSIC|     C|     TAMIL|     C|  032|   C|     new|       13|    January|      2002|female|\n",
            "|    2|COMMERCE|-.4760|   6910 (NEW)|37307 (NEW)|   2020|        ECONOMICS|     S| BUSINESS STUDIES|     S|ACCOUNTING|     S|  050|   S|     new|       16|     August|      2001|female|\n",
            "|    3|COMMERCE|-.1012|   5678 (NEW)|30449 (NEW)|   2020|        ECONOMICS|     C| BUSINESS STUDIES|     C|ACCOUNTING|     S|  034|   S|     new|       16|     August|      2001|female|\n",
            "|    4|COMMERCE| .6014|   3269 (NEW)|17010 (NEW)|   2020|        ECONOMICS|     C| BUSINESS STUDIES|     C|ACCOUNTING|     B|  036|   S|     new|        7|     August|      2000|female|\n",
            "+-----+--------+------+-------------+-----------+-------+-----------------+------+-----------------+------+----------+------+-----+----+--------+---------+-----------+----------+------+\n",
            "\n",
            "+-----------+\n",
            "|total_count|\n",
            "+-----------+\n",
            "|     337553|\n",
            "+-----------+\n",
            "\n"
          ]
        }
      ]
    },
    {
      "cell_type": "code",
      "source": [
        "df = spark.read.csv('Dataset.csv', header=True, sep=\",\", inferSchema=True)\n"
      ],
      "metadata": {
        "id": "JeZKGQDdojfC"
      },
      "execution_count": 71,
      "outputs": []
    },
    {
      "cell_type": "code",
      "source": [
        "import matplotlib.pyplot as plt\n",
        "import pandas as pd\n",
        "from pyspark.sql import SparkSession\n",
        "from pyspark.sql.functions import col\n",
        "\n",
        "# Assuming 'df' is your existing DataFrame\n",
        "# Replace 'Zscore' with the actual column name in your DataFrame\n",
        "\n",
        "# Filter out non-numeric values ('-') from the Zscore column\n",
        "filtered_df = df.filter(col('Zscore').cast('float').isNotNull())\n",
        "\n",
        "# Convert PySpark DataFrame to Pandas DataFrame\n",
        "pandas_df = filtered_df.select('Zscore').toPandas()\n",
        "\n",
        "# Plotting\n",
        "plt.figure(figsize=(10, 6))\n",
        "plt.hist(pandas_df['Zscore'].astype(float), bins=20, edgecolor='black')\n",
        "plt.title('Distribution of Zscores')\n",
        "plt.xlabel('Zscore')\n",
        "plt.ylabel('Frequency')\n",
        "plt.grid(True)\n",
        "plt.show()\n"
      ],
      "metadata": {
        "colab": {
          "base_uri": "https://localhost:8080/",
          "height": 564
        },
        "id": "iO2PMYMholV_",
        "outputId": "8fe9609a-75a0-45c2-9fbe-e74c23a2331b"
      },
      "execution_count": 72,
      "outputs": [
        {
          "output_type": "display_data",
          "data": {
            "text/plain": [
              "<Figure size 1000x600 with 1 Axes>"
            ],
            "image/png": "[encoded data removed]"
          },
          "metadata": {}
        }
      ]
    }
  ]
}