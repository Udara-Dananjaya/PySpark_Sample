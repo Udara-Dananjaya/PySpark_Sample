{
  "nbformat": 4,
  "nbformat_minor": 0,
  "metadata": {
    "colab": {
      "provenance": []
    },
    "kernelspec": {
      "name": "python3",
      "display_name": "Python 3"
    },
    "language_info": {
      "name": "python"
    }
  },
  "cells": [
    {
      "cell_type": "code",
      "execution_count": null,
      "metadata": {
        "id": "f0i5Svx6PwLn"
      },
      "outputs": [],
      "source": []
    },
    {
      "cell_type": "markdown",
      "source": [
        "# Big Data Analytics - Assignment 01 **[Udara Dananjaya] [BSIT 211002]**\n"
      ],
      "metadata": {
        "id": "IDaG3xtvPxip"
      }
    },
    {
      "cell_type": "markdown",
      "source": [
        "# Setting up the environment for PySpark,"
      ],
      "metadata": {
        "id": "-Gp-3T53QCSw"
      }
    },
    {
      "cell_type": "markdown",
      "source": [
        "Update and upgrade the repositories"
      ],
      "metadata": {
        "id": "_YVPhJ-ghYmZ"
      }
    },
    {
      "cell_type": "code",
      "source": [
        "!apt update &> /dev/null\n",
        "!apt upgrade -y &> /dev/null"
      ],
      "metadata": {
        "id": "LofDDO4Yhh6K"
      },
      "execution_count": null,
      "outputs": []
    },
    {
      "cell_type": "markdown",
      "source": [
        "Check if pip is installed."
      ],
      "metadata": {
        "id": "pAFjAUmci7bF"
      }
    },
    {
      "cell_type": "code",
      "source": [
        "!pip --version\n"
      ],
      "metadata": {
        "colab": {
          "base_uri": "https://localhost:8080/"
        },
        "id": "easGjycCi52T",
        "outputId": "f7cbef9c-ae69-4677-85c7-9b7d5222759b"
      },
      "execution_count": null,
      "outputs": [
        {
          "output_type": "stream",
          "name": "stdout",
          "text": [
            "pip 23.1.2 from /usr/local/lib/python3.10/dist-packages/pip (python 3.10)\n"
          ]
        }
      ]
    },
    {
      "cell_type": "markdown",
      "source": [
        "Install the Python packages PySpark and PyDrive."
      ],
      "metadata": {
        "id": "0Zcu8BX4jP_H"
      }
    },
    {
      "cell_type": "code",
      "source": [
        "!pip install pyspark --quiet\n",
        "!pip install -U -q PyDrive --quiet"
      ],
      "metadata": {
        "id": "A82YFCrXjejD",
        "colab": {
          "base_uri": "https://localhost:8080/"
        },
        "outputId": "5a6a7af4-a305-442b-d341-331edbf2890b"
      },
      "execution_count": null,
      "outputs": [
        {
          "output_type": "stream",
          "name": "stdout",
          "text": [
            "\u001b[2K     \u001b[90m━━━━━━━━━━━━━━━━━━━━━━━━━━━━━━━━━━━━━━━━\u001b[0m \u001b[32m316.9/316.9 MB\u001b[0m \u001b[31m4.7 MB/s\u001b[0m eta \u001b[36m0:00:00\u001b[0m\n",
            "\u001b[?25h  Preparing metadata (setup.py) ... \u001b[?25l\u001b[?25hdone\n",
            "  Building wheel for pyspark (setup.py) ... \u001b[?25l\u001b[?25hdone\n"
          ]
        }
      ]
    },
    {
      "cell_type": "markdown",
      "source": [
        "install the OpenJDK 8 JDK (Java Development Kit) in a headless mode"
      ],
      "metadata": {
        "id": "yeM39VAsjhHZ"
      }
    },
    {
      "cell_type": "code",
      "source": [
        "!apt install openjdk-8-jdk-headless &> /dev/null"
      ],
      "metadata": {
        "id": "mMA37bAljlcu"
      },
      "execution_count": null,
      "outputs": []
    },
    {
      "cell_type": "markdown",
      "source": [
        "Setting the `JAVA_HOME` environment variable on the system"
      ],
      "metadata": {
        "id": "YyFGAGbFkQvh"
      }
    },
    {
      "cell_type": "code",
      "source": [
        "import os\n",
        "os.environ[\"JAVA_HOME\"] = \"/usr/lib/jvm/java-8-openjdk-amd64\""
      ],
      "metadata": {
        "id": "uMwT5SiAkoCT"
      },
      "execution_count": null,
      "outputs": []
    },
    {
      "cell_type": "code",
      "source": [
        "!echo $JAVA_HOME\n"
      ],
      "metadata": {
        "colab": {
          "base_uri": "https://localhost:8080/"
        },
        "id": "AV2qyE3Ok92p",
        "outputId": "f3bcef95-dc25-4671-8ae4-5fddce3144fb"
      },
      "execution_count": null,
      "outputs": [
        {
          "output_type": "stream",
          "name": "stdout",
          "text": [
            "/usr/lib/jvm/java-8-openjdk-amd64\n"
          ]
        }
      ]
    },
    {
      "cell_type": "markdown",
      "source": [
        "The code initializes a Spark session using PySpark. It sets the application name to \"bigData\" and configures the Spark UI port to be 4050."
      ],
      "metadata": {
        "id": "wga4AwaRln12"
      }
    },
    {
      "cell_type": "code",
      "source": [
        "from pyspark.sql import SparkSession\n",
        "\n",
        "spark = SparkSession \\\n",
        "    .builder \\\n",
        "    .appName(\"bigData\") \\\n",
        "    .config(\"spark.ui.port\", \"4050\") \\\n",
        "    .getOrCreate()"
      ],
      "metadata": {
        "id": "LdNvuo3wln8t"
      },
      "execution_count": null,
      "outputs": []
    },
    {
      "cell_type": "markdown",
      "source": [
        "To retrieve details about your Spark application, you can access the `spark` variable, which represents the SparkSession."
      ],
      "metadata": {
        "id": "fyJkPNkTmIbd"
      }
    },
    {
      "cell_type": "code",
      "source": [
        "spark"
      ],
      "metadata": {
        "colab": {
          "base_uri": "https://localhost:8080/",
          "height": 219
        },
        "id": "WRFjp1FsmtKA",
        "outputId": "9fafaff5-b8cf-4235-b52f-e9d04cc4fbc0"
      },
      "execution_count": null,
      "outputs": [
        {
          "output_type": "execute_result",
          "data": {
            "text/plain": [
              "<pyspark.sql.session.SparkSession at 0x7ab0d8e9c970>"
            ],
            "text/html": [
              "\n",
              "            <div>\n",
              "                <p><b>SparkSession - in-memory</b></p>\n",
              "                \n",
              "        <div>\n",
              "            <p><b>SparkContext</b></p>\n",
              "\n",
              "            <p><a href=\"http://4a1f72a0f68e:4050\">Spark UI</a></p>\n",
              "\n",
              "            <dl>\n",
              "              <dt>Version</dt>\n",
              "                <dd><code>v3.5.0</code></dd>\n",
              "              <dt>Master</dt>\n",
              "                <dd><code>local[*]</code></dd>\n",
              "              <dt>AppName</dt>\n",
              "                <dd><code>bigData</code></dd>\n",
              "            </dl>\n",
              "        </div>\n",
              "        \n",
              "            </div>\n",
              "        "
            ]
          },
          "metadata": {},
          "execution_count": 8
        }
      ]
    },
    {
      "cell_type": "markdown",
      "source": [
        "To get a dataset, we can use the `wget` command. `wget [options] [URL]`"
      ],
      "metadata": {
        "id": "Msgx5hOnnFe7"
      }
    },
    {
      "cell_type": "code",
      "source": [
        "!wget https://raw.githubusercontent.com/Udara-Dananjaya/PySpark_Sample/main/Dataset.csv"
      ],
      "metadata": {
        "colab": {
          "base_uri": "https://localhost:8080/"
        },
        "id": "L4_2PZf-nqzD",
        "outputId": "6125447b-4baa-4d2f-ae5c-5ea095e2feef"
      },
      "execution_count": null,
      "outputs": [
        {
          "output_type": "stream",
          "name": "stdout",
          "text": [
            "--2023-10-30 17:37:45--  https://raw.githubusercontent.com/Udara-Dananjaya/PySpark_Sample/main/Dataset.csv\n",
            "Resolving raw.githubusercontent.com (raw.githubusercontent.com)... 185.199.108.133, 185.199.109.133, 185.199.110.133, ...\n",
            "Connecting to raw.githubusercontent.com (raw.githubusercontent.com)|185.199.108.133|:443... connected.\n",
            "HTTP request sent, awaiting response... 200 OK\n",
            "Length: 41957453 (40M) [text/plain]\n",
            "Saving to: ‘Dataset.csv’\n",
            "\n",
            "Dataset.csv         100%[===================>]  40.01M   181MB/s    in 0.2s    \n",
            "\n",
            "2023-10-30 17:37:46 (181 MB/s) - ‘Dataset.csv’ saved [41957453/41957453]\n",
            "\n"
          ]
        }
      ]
    },
    {
      "cell_type": "markdown",
      "source": [
        "After downloading the file, we can check if it was downloaded successfully using the `ls` command."
      ],
      "metadata": {
        "id": "1ELjHAWVqnpg"
      }
    },
    {
      "cell_type": "code",
      "source": [
        "!ls"
      ],
      "metadata": {
        "colab": {
          "base_uri": "https://localhost:8080/"
        },
        "id": "e9kB_OCkpmpE",
        "outputId": "42dcb269-648c-4a38-89c7-8d677b55ae61"
      },
      "execution_count": null,
      "outputs": [
        {
          "output_type": "stream",
          "name": "stdout",
          "text": [
            "Dataset.csv  sample_data\n"
          ]
        }
      ]
    },
    {
      "cell_type": "markdown",
      "source": [
        "Read the board_games.csv file using the Spark spark.read.csv() function."
      ],
      "metadata": {
        "id": "lv1tkC7qq-9Y"
      }
    },
    {
      "cell_type": "code",
      "source": [
        "df = spark.read.csv('Dataset.csv', header = True, sep = \",\")"
      ],
      "metadata": {
        "id": "2R84AvtBuqQI"
      },
      "execution_count": null,
      "outputs": []
    },
    {
      "cell_type": "markdown",
      "source": [
        "display the columns of the dataframe"
      ],
      "metadata": {
        "id": "dUcCoJZxtBwz"
      }
    },
    {
      "cell_type": "code",
      "source": [
        "df.show(5)"
      ],
      "metadata": {
        "colab": {
          "base_uri": "https://localhost:8080/"
        },
        "id": "sCefr01LtCmn",
        "outputId": "65f96868-0aba-4f68-e5b5-17188303c4f0"
      },
      "execution_count": null,
      "outputs": [
        {
          "output_type": "stream",
          "name": "stdout",
          "text": [
            "+-----+--------+------+-------------+-----------+-------+-----------------+------+-----------------+------+----------+------+-----+----+--------+---------+-----------+----------+------+\n",
            "|index|  stream|Zscore|district_rank|island_rank|al_year|             sub1|sub1_r|             sub2|sub2_r|      sub3|sub3_r|cgt_r|ge_r|syllabus|birth_day|birth_month|birth_year|gender|\n",
            "+-----+--------+------+-------------+-----------+-------+-----------------+------+-----------------+------+----------+------+-----+----+--------+---------+-----------+----------+------+\n",
            "|    0|    ARTS|-.3550|   4336 (NEW)|64994 (NEW)|   2020|POLITICAL SCIENCE|     S|DANCING(BHARATHA)|     C|     TAMIL|     S|  056|   S|     new|       31|        May|      2001|female|\n",
            "|    1|    ARTS|-.2648|   4154 (NEW)|62338 (NEW)|   2020|POLITICAL SCIENCE|     S|   CARNATIC MUSIC|     C|     TAMIL|     C|  032|   C|     new|       13|    January|      2002|female|\n",
            "|    2|COMMERCE|-.4760|   6910 (NEW)|37307 (NEW)|   2020|        ECONOMICS|     S| BUSINESS STUDIES|     S|ACCOUNTING|     S|  050|   S|     new|       16|     August|      2001|female|\n",
            "|    3|COMMERCE|-.1012|   5678 (NEW)|30449 (NEW)|   2020|        ECONOMICS|     C| BUSINESS STUDIES|     C|ACCOUNTING|     S|  034|   S|     new|       16|     August|      2001|female|\n",
            "|    4|COMMERCE| .6014|   3269 (NEW)|17010 (NEW)|   2020|        ECONOMICS|     C| BUSINESS STUDIES|     C|ACCOUNTING|     B|  036|   S|     new|        7|     August|      2000|female|\n",
            "+-----+--------+------+-------------+-----------+-------+-----------------+------+-----------------+------+----------+------+-----+----+--------+---------+-----------+----------+------+\n",
            "only showing top 5 rows\n",
            "\n"
          ]
        }
      ]
    },
    {
      "cell_type": "code",
      "source": [
        "df.show(5, truncate=True)"
      ],
      "metadata": {
        "colab": {
          "base_uri": "https://localhost:8080/"
        },
        "id": "7a2s_jrsyk3C",
        "outputId": "e9dce664-8709-435f-daa9-a32e9b2431e8"
      },
      "execution_count": null,
      "outputs": [
        {
          "output_type": "stream",
          "name": "stdout",
          "text": [
            "+-----+--------+------+-------------+-----------+-------+-----------------+------+-----------------+------+----------+------+-----+----+--------+---------+-----------+----------+------+\n",
            "|index|  stream|Zscore|district_rank|island_rank|al_year|             sub1|sub1_r|             sub2|sub2_r|      sub3|sub3_r|cgt_r|ge_r|syllabus|birth_day|birth_month|birth_year|gender|\n",
            "+-----+--------+------+-------------+-----------+-------+-----------------+------+-----------------+------+----------+------+-----+----+--------+---------+-----------+----------+------+\n",
            "|    0|    ARTS|-.3550|   4336 (NEW)|64994 (NEW)|   2020|POLITICAL SCIENCE|     S|DANCING(BHARATHA)|     C|     TAMIL|     S|  056|   S|     new|       31|        May|      2001|female|\n",
            "|    1|    ARTS|-.2648|   4154 (NEW)|62338 (NEW)|   2020|POLITICAL SCIENCE|     S|   CARNATIC MUSIC|     C|     TAMIL|     C|  032|   C|     new|       13|    January|      2002|female|\n",
            "|    2|COMMERCE|-.4760|   6910 (NEW)|37307 (NEW)|   2020|        ECONOMICS|     S| BUSINESS STUDIES|     S|ACCOUNTING|     S|  050|   S|     new|       16|     August|      2001|female|\n",
            "|    3|COMMERCE|-.1012|   5678 (NEW)|30449 (NEW)|   2020|        ECONOMICS|     C| BUSINESS STUDIES|     C|ACCOUNTING|     S|  034|   S|     new|       16|     August|      2001|female|\n",
            "|    4|COMMERCE| .6014|   3269 (NEW)|17010 (NEW)|   2020|        ECONOMICS|     C| BUSINESS STUDIES|     C|ACCOUNTING|     B|  036|   S|     new|        7|     August|      2000|female|\n",
            "+-----+--------+------+-------------+-----------+-------+-----------------+------+-----------------+------+----------+------+-----+----+--------+---------+-----------+----------+------+\n",
            "only showing top 5 rows\n",
            "\n"
          ]
        }
      ]
    },
    {
      "cell_type": "markdown",
      "source": [],
      "metadata": {
        "id": "o9eb6wpxyply"
      }
    },
    {
      "cell_type": "code",
      "source": [
        "df.limit(5)"
      ],
      "metadata": {
        "colab": {
          "base_uri": "https://localhost:8080/"
        },
        "id": "VUU7RkLdyp9i",
        "outputId": "58b76f88-7d20-4db9-8845-e3180d804c22"
      },
      "execution_count": null,
      "outputs": [
        {
          "output_type": "execute_result",
          "data": {
            "text/plain": [
              "DataFrame[index: string, stream: string, Zscore: string, district_rank: string, island_rank: string, al_year: string, sub1: string, sub1_r: string, sub2: string, sub2_r: string, sub3: string, sub3_r: string, cgt_r: string, ge_r: string, syllabus: string, birth_day: string, birth_month: string, birth_year: string, gender: string]"
            ]
          },
          "metadata": {},
          "execution_count": 24
        }
      ]
    },
    {
      "cell_type": "markdown",
      "source": [],
      "metadata": {
        "id": "2gjaVrnzyq-Z"
      }
    },
    {
      "cell_type": "code",
      "source": [
        "df.columns"
      ],
      "metadata": {
        "colab": {
          "base_uri": "https://localhost:8080/"
        },
        "id": "huUd2K1sytNR",
        "outputId": "66c1a4c7-7cf8-47c7-e69b-13f4816f6386"
      },
      "execution_count": null,
      "outputs": [
        {
          "output_type": "execute_result",
          "data": {
            "text/plain": [
              "['index',\n",
              " 'stream',\n",
              " 'Zscore',\n",
              " 'district_rank',\n",
              " 'island_rank',\n",
              " 'al_year',\n",
              " 'sub1',\n",
              " 'sub1_r',\n",
              " 'sub2',\n",
              " 'sub2_r',\n",
              " 'sub3',\n",
              " 'sub3_r',\n",
              " 'cgt_r',\n",
              " 'ge_r',\n",
              " 'syllabus',\n",
              " 'birth_day',\n",
              " 'birth_month',\n",
              " 'birth_year',\n",
              " 'gender']"
            ]
          },
          "metadata": {},
          "execution_count": 25
        }
      ]
    },
    {
      "cell_type": "markdown",
      "source": [],
      "metadata": {
        "id": "Iqb6ljkbyuoy"
      }
    },
    {
      "cell_type": "code",
      "source": [
        "df.dtypes"
      ],
      "metadata": {
        "colab": {
          "base_uri": "https://localhost:8080/"
        },
        "id": "awN-pAWcywQS",
        "outputId": "9928024c-7447-453d-a515-da726b10b1d9"
      },
      "execution_count": null,
      "outputs": [
        {
          "output_type": "execute_result",
          "data": {
            "text/plain": [
              "[('index', 'string'),\n",
              " ('stream', 'string'),\n",
              " ('Zscore', 'string'),\n",
              " ('district_rank', 'string'),\n",
              " ('island_rank', 'string'),\n",
              " ('al_year', 'string'),\n",
              " ('sub1', 'string'),\n",
              " ('sub1_r', 'string'),\n",
              " ('sub2', 'string'),\n",
              " ('sub2_r', 'string'),\n",
              " ('sub3', 'string'),\n",
              " ('sub3_r', 'string'),\n",
              " ('cgt_r', 'string'),\n",
              " ('ge_r', 'string'),\n",
              " ('syllabus', 'string'),\n",
              " ('birth_day', 'string'),\n",
              " ('birth_month', 'string'),\n",
              " ('birth_year', 'string'),\n",
              " ('gender', 'string')]"
            ]
          },
          "metadata": {},
          "execution_count": 19
        }
      ]
    },
    {
      "cell_type": "markdown",
      "source": [],
      "metadata": {
        "id": "TuqmMDYJyzVR"
      }
    },
    {
      "cell_type": "code",
      "source": [
        "df.printSchema()"
      ],
      "metadata": {
        "colab": {
          "base_uri": "https://localhost:8080/"
        },
        "id": "3io7beSJyze0",
        "outputId": "12ff0404-50f3-411f-c4cb-893a0ba265ed"
      },
      "execution_count": null,
      "outputs": [
        {
          "output_type": "stream",
          "name": "stdout",
          "text": [
            "root\n",
            " |-- index: string (nullable = true)\n",
            " |-- stream: string (nullable = true)\n",
            " |-- Zscore: string (nullable = true)\n",
            " |-- district_rank: string (nullable = true)\n",
            " |-- island_rank: string (nullable = true)\n",
            " |-- al_year: string (nullable = true)\n",
            " |-- sub1: string (nullable = true)\n",
            " |-- sub1_r: string (nullable = true)\n",
            " |-- sub2: string (nullable = true)\n",
            " |-- sub2_r: string (nullable = true)\n",
            " |-- sub3: string (nullable = true)\n",
            " |-- sub3_r: string (nullable = true)\n",
            " |-- cgt_r: string (nullable = true)\n",
            " |-- ge_r: string (nullable = true)\n",
            " |-- syllabus: string (nullable = true)\n",
            " |-- birth_day: string (nullable = true)\n",
            " |-- birth_month: string (nullable = true)\n",
            " |-- birth_year: string (nullable = true)\n",
            " |-- gender: string (nullable = true)\n",
            "\n"
          ]
        }
      ]
    },
    {
      "cell_type": "markdown",
      "source": [
        "Select Data from PySpark"
      ],
      "metadata": {
        "id": "QzhfyWFcwTRa"
      }
    },
    {
      "cell_type": "markdown",
      "source": [],
      "metadata": {
        "id": "Ia8ywEg3wfyP"
      }
    },
    {
      "cell_type": "code",
      "source": [
        "print(df.Zscore)\n",
        "print(\"*\"*20)\n",
        "df.select(df.Zscore).show(truncate=False)"
      ],
      "metadata": {
        "colab": {
          "base_uri": "https://localhost:8080/"
        },
        "id": "Hu7k7EGewXEY",
        "outputId": "01122263-be1c-45f0-adcf-3d2c5ddecd8f"
      },
      "execution_count": null,
      "outputs": [
        {
          "output_type": "stream",
          "name": "stdout",
          "text": [
            "Column<'Zscore'>\n",
            "********************\n",
            "+------+\n",
            "|Zscore|\n",
            "+------+\n",
            "|-.3550|\n",
            "|-.2648|\n",
            "|-.4760|\n",
            "|-.1012|\n",
            "|.6014 |\n",
            "|-.5061|\n",
            "|.0177 |\n",
            "|-.3106|\n",
            "|-     |\n",
            "|1.0447|\n",
            "|-.5975|\n",
            "|-.6057|\n",
            "|.4861 |\n",
            "|.5863 |\n",
            "|-     |\n",
            "|.2364 |\n",
            "|-.0381|\n",
            "|-     |\n",
            "|-.2667|\n",
            "|-.2031|\n",
            "+------+\n",
            "only showing top 20 rows\n",
            "\n"
          ]
        }
      ]
    },
    {
      "cell_type": "markdown",
      "source": [
        "Selecting Multiple Columns\n"
      ],
      "metadata": {
        "id": "oQppr1IGxFM5"
      }
    },
    {
      "cell_type": "code",
      "source": [
        "print(df.stream, df.Zscore)\n",
        "print(\"*\"*40)\n",
        "df.select(df.stream, df.Zscore).show(truncate=False)"
      ],
      "metadata": {
        "colab": {
          "base_uri": "https://localhost:8080/"
        },
        "id": "5_3ZbHGbxGof",
        "outputId": "280f07d9-65fc-4767-d92a-add3bbf077dd"
      },
      "execution_count": null,
      "outputs": [
        {
          "output_type": "stream",
          "name": "stdout",
          "text": [
            "Column<'stream'> Column<'Zscore'>\n",
            "****************************************\n",
            "+--------+------+\n",
            "|stream  |Zscore|\n",
            "+--------+------+\n",
            "|ARTS    |-.3550|\n",
            "|ARTS    |-.2648|\n",
            "|COMMERCE|-.4760|\n",
            "|COMMERCE|-.1012|\n",
            "|COMMERCE|.6014 |\n",
            "|ARTS    |-.5061|\n",
            "|ARTS    |.0177 |\n",
            "|ARTS    |-.3106|\n",
            "|-       |-     |\n",
            "|COMMERCE|1.0447|\n",
            "|-       |-.5975|\n",
            "|COMMERCE|-.6057|\n",
            "|ARTS    |.4861 |\n",
            "|ARTS    |.5863 |\n",
            "|-       |-     |\n",
            "|ARTS    |.2364 |\n",
            "|COMMERCE|-.0381|\n",
            "|-       |-     |\n",
            "|COMMERCE|-.2667|\n",
            "|COMMERCE|-.2031|\n",
            "+--------+------+\n",
            "only showing top 20 rows\n",
            "\n"
          ]
        }
      ]
    },
    {
      "cell_type": "markdown",
      "source": [
        "Adding New Columns"
      ],
      "metadata": {
        "id": "w_0H032SxtCc"
      }
    },
    {
      "cell_type": "code",
      "source": [
        "from pyspark.sql.functions import lit\n",
        "df = df.withColumn('district', lit('Kegalla'))\n",
        "df.show(5,truncate=False)"
      ],
      "metadata": {
        "colab": {
          "base_uri": "https://localhost:8080/"
        },
        "id": "UY5vopQUxtz4",
        "outputId": "dba1c511-ccc0-4765-88e9-ae16215d8c67"
      },
      "execution_count": null,
      "outputs": [
        {
          "output_type": "stream",
          "name": "stdout",
          "text": [
            "+-----+--------+------+-------------+-----------+-------+-----------------+------+-----------------+------+----------+------+-----+----+--------+---------+-----------+----------+------+-------------+---------+--------+\n",
            "|index|stream  |Zscore|district_rank|island_rank|al_year|sub1             |sub1_r|sub2             |sub2_r|sub3      |sub3_r|cgt_r|ge_r|syllabus|birth_day|birth_month|birth_year|gender|second_column|exam_year|district|\n",
            "+-----+--------+------+-------------+-----------+-------+-----------------+------+-----------------+------+----------+------+-----+----+--------+---------+-----------+----------+------+-------------+---------+--------+\n",
            "|0    |ARTS    |-.3550|4336 (NEW)   |64994 (NEW)|2020   |POLITICAL SCIENCE|S     |DANCING(BHARATHA)|C     |TAMIL     |S     |056  |S   |new     |31       |May        |2001      |female|2            |2020     |Kegalla |\n",
            "|1    |ARTS    |-.2648|4154 (NEW)   |62338 (NEW)|2020   |POLITICAL SCIENCE|S     |CARNATIC MUSIC   |C     |TAMIL     |C     |032  |C   |new     |13       |January    |2002      |female|2            |2020     |Kegalla |\n",
            "|2    |COMMERCE|-.4760|6910 (NEW)   |37307 (NEW)|2020   |ECONOMICS        |S     |BUSINESS STUDIES |S     |ACCOUNTING|S     |050  |S   |new     |16       |August     |2001      |female|2            |2020     |Kegalla |\n",
            "|3    |COMMERCE|-.1012|5678 (NEW)   |30449 (NEW)|2020   |ECONOMICS        |C     |BUSINESS STUDIES |C     |ACCOUNTING|S     |034  |S   |new     |16       |August     |2001      |female|2            |2020     |Kegalla |\n",
            "|4    |COMMERCE|.6014 |3269 (NEW)   |17010 (NEW)|2020   |ECONOMICS        |C     |BUSINESS STUDIES |C     |ACCOUNTING|B     |036  |S   |new     |7        |August     |2000      |female|2            |2020     |Kegalla |\n",
            "+-----+--------+------+-------------+-----------+-------+-----------------+------+-----------------+------+----------+------+-----+----+--------+---------+-----------+----------+------+-------------+---------+--------+\n",
            "only showing top 5 rows\n",
            "\n"
          ]
        }
      ]
    },
    {
      "cell_type": "markdown",
      "source": [
        "Rename columns"
      ],
      "metadata": {
        "id": "HQdMKm9hznC-"
      }
    },
    {
      "cell_type": "code",
      "source": [
        "df = df.withColumnRenamed('sub1','Subject 1')\n",
        "df.show(truncate = False)"
      ],
      "metadata": {
        "colab": {
          "base_uri": "https://localhost:8080/"
        },
        "id": "THiO02XGzrYF",
        "outputId": "07501992-17c8-47f9-ae66-518c0bff6168"
      },
      "execution_count": null,
      "outputs": [
        {
          "output_type": "stream",
          "name": "stdout",
          "text": [
            "+-----+--------+------+-------------+-----------+-------+-----------------+------+------------------+------+----------+------+------+------+--------+---------+-----------+----------+------+-------------+---------+--------+\n",
            "|index|stream  |Zscore|district_rank|island_rank|al_year|Subject 1        |sub1_r|sub2              |sub2_r|sub3      |sub3_r|cgt_r |ge_r  |syllabus|birth_day|birth_month|birth_year|gender|second_column|exam_year|district|\n",
            "+-----+--------+------+-------------+-----------+-------+-----------------+------+------------------+------+----------+------+------+------+--------+---------+-----------+----------+------+-------------+---------+--------+\n",
            "|0    |ARTS    |-.3550|4336 (NEW)   |64994 (NEW)|2020   |POLITICAL SCIENCE|S     |DANCING(BHARATHA) |C     |TAMIL     |S     |056   |S     |new     |31       |May        |2001      |female|2            |2020     |Kegalla |\n",
            "|1    |ARTS    |-.2648|4154 (NEW)   |62338 (NEW)|2020   |POLITICAL SCIENCE|S     |CARNATIC MUSIC    |C     |TAMIL     |C     |032   |C     |new     |13       |January    |2002      |female|2            |2020     |Kegalla |\n",
            "|2    |COMMERCE|-.4760|6910 (NEW)   |37307 (NEW)|2020   |ECONOMICS        |S     |BUSINESS STUDIES  |S     |ACCOUNTING|S     |050   |S     |new     |16       |August     |2001      |female|2            |2020     |Kegalla |\n",
            "|3    |COMMERCE|-.1012|5678 (NEW)   |30449 (NEW)|2020   |ECONOMICS        |C     |BUSINESS STUDIES  |C     |ACCOUNTING|S     |034   |S     |new     |16       |August     |2001      |female|2            |2020     |Kegalla |\n",
            "|4    |COMMERCE|.6014 |3269 (NEW)   |17010 (NEW)|2020   |ECONOMICS        |C     |BUSINESS STUDIES  |C     |ACCOUNTING|B     |036   |S     |new     |7        |August     |2000      |female|2            |2020     |Kegalla |\n",
            "|5    |ARTS    |-.5061|4602 (NEW)   |68521 (NEW)|2020   |POLITICAL SCIENCE|S     |HINDU CIVILIZATION|C     |TAMIL     |S     |022   |S     |new     |9        |January    |2002      |female|2            |2020     |Kegalla |\n",
            "|6    |ARTS    |.0177 |3419 (NEW)   |52426 (NEW)|2020   |POLITICAL SCIENCE|S     |HINDU CIVILIZATION|B     |TAMIL     |S     |028   |F     |new     |31       |December   |2001      |female|2            |2020     |Kegalla |\n",
            "|7    |ARTS    |-.3106|4247 (NEW)   |63760 (NEW)|2020   |POLITICAL SCIENCE|S     |CHRISTIANITY      |C     |TAMIL     |C     |034   |S     |new     |6        |December   |2001      |female|2            |2020     |Kegalla |\n",
            "|8    |-       |-     |-            |-          |2020   |ECONOMICS        |S     |BUSINESS STUDIES  |F     |ACCOUNTING|F     |040   |F     |new     |16       |November   |2000      |female|2            |2020     |Kegalla |\n",
            "|9    |COMMERCE|1.0447|2008 (NEW)   |9743 (NEW) |2020   |ECONOMICS        |B     |BUSINESS STUDIES  |C     |ACCOUNTING|A     |046   |C     |new     |18       |June       |2001      |female|2            |2020     |Kegalla |\n",
            "|10   |-       |-.5975|-            |-          |2020   |POLITICAL SCIENCE|F     |HINDU CIVILIZATION|C     |TAMIL     |S     |040   |S     |new     |6        |April      |2001      |female|2            |2020     |Kegalla |\n",
            "|11   |COMMERCE|-.6057|7192 (NEW)   |38835 (NEW)|2020   |ECONOMICS        |S     |BUSINESS STUDIES  |S     |ACCOUNTING|S     |050   |C     |new     |1        |February   |2001      |female|2            |2020     |Kegalla |\n",
            "|12   |ARTS    |.4861 |2296 (NEW)   |34635 (NEW)|2020   |POLITICAL SCIENCE|C     |HINDU CIVILIZATION|B     |TAMIL     |C     |030   |F     |new     |9        |June       |2001      |female|2            |2020     |Kegalla |\n",
            "|13   |ARTS    |.5863 |2081 (NEW)   |30905 (NEW)|2020   |POLITICAL SCIENCE|C     |CARNATIC MUSIC    |B     |TAMIL     |B     |034   |F     |new     |12       |March      |2001      |female|2            |2020     |Kegalla |\n",
            "|14   |-       |-     |-            |-          |2020   |ECONOMICS        |S     |BUSINESS STUDIES  |F     |ACCOUNTING|F     |038   |S     |new     |3        |August     |2001      |female|2            |2020     |Kegalla |\n",
            "|15   |ARTS    |.2364 |2895 (NEW)   |44119 (NEW)|2020   |POLITICAL SCIENCE|C     |HINDU CIVILIZATION|B     |TAMIL     |C     |038   |S     |new     |5        |March      |2001      |female|2            |2020     |Kegalla |\n",
            "|16   |COMMERCE|-.0381|5440 (NEW)   |29133 (NEW)|2020   |ECONOMICS        |C     |BUSINESS STUDIES  |C     |ACCOUNTING|S     |032   |S     |new     |1        |April      |2001      |female|2            |2020     |Kegalla |\n",
            "|17   |-       |-     |-            |-          |2020   |ECONOMICS        |Absent|BUSINESS STUDIES  |Absent|ACCOUNTING|Absent|Absent|Absent|new     |1        |July       |2000      |female|2            |2020     |Kegalla |\n",
            "|18   |COMMERCE|-.2667|6305 (NEW)   |33764 (NEW)|2020   |ECONOMICS        |C     |BUSINESS STUDIES  |S     |ACCOUNTING|S     |042   |S     |new     |18       |April      |2001      |female|2            |2020     |Kegalla |\n",
            "|19   |COMMERCE|-.2031|6069 (NEW)   |32549 (NEW)|2020   |ECONOMICS        |C     |BUSINESS STUDIES  |C     |ACCOUNTING|S     |050   |S     |new     |8        |January    |2001      |female|2            |2020     |Kegalla |\n",
            "+-----+--------+------+-------------+-----------+-------+-----------------+------+------------------+------+----------+------+------+------+--------+---------+-----------+----------+------+-------------+---------+--------+\n",
            "only showing top 20 rows\n",
            "\n"
          ]
        }
      ]
    },
    {
      "cell_type": "markdown",
      "source": [
        "Remove Columns"
      ],
      "metadata": {
        "id": "_cAwRdYfz0p0"
      }
    },
    {
      "cell_type": "code",
      "source": [
        "df = df.drop('stream')\n",
        "df.show(10, truncate = False)"
      ],
      "metadata": {
        "colab": {
          "base_uri": "https://localhost:8080/"
        },
        "id": "yyh4XvE8z3bU",
        "outputId": "5c354fd7-fa21-4bfe-d04d-b1a3119590b9"
      },
      "execution_count": null,
      "outputs": [
        {
          "output_type": "stream",
          "name": "stdout",
          "text": [
            "+-----+------+-------------+-----------+-------+-----------------+------+------------------+------+----------+------+-----+----+--------+---------+-----------+----------+------+-------------+---------+--------+\n",
            "|index|Zscore|district_rank|island_rank|al_year|Subject 1        |sub1_r|sub2              |sub2_r|sub3      |sub3_r|cgt_r|ge_r|syllabus|birth_day|birth_month|birth_year|gender|second_column|exam_year|district|\n",
            "+-----+------+-------------+-----------+-------+-----------------+------+------------------+------+----------+------+-----+----+--------+---------+-----------+----------+------+-------------+---------+--------+\n",
            "|0    |-.3550|4336 (NEW)   |64994 (NEW)|2020   |POLITICAL SCIENCE|S     |DANCING(BHARATHA) |C     |TAMIL     |S     |056  |S   |new     |31       |May        |2001      |female|2            |2020     |Kegalla |\n",
            "|1    |-.2648|4154 (NEW)   |62338 (NEW)|2020   |POLITICAL SCIENCE|S     |CARNATIC MUSIC    |C     |TAMIL     |C     |032  |C   |new     |13       |January    |2002      |female|2            |2020     |Kegalla |\n",
            "|2    |-.4760|6910 (NEW)   |37307 (NEW)|2020   |ECONOMICS        |S     |BUSINESS STUDIES  |S     |ACCOUNTING|S     |050  |S   |new     |16       |August     |2001      |female|2            |2020     |Kegalla |\n",
            "|3    |-.1012|5678 (NEW)   |30449 (NEW)|2020   |ECONOMICS        |C     |BUSINESS STUDIES  |C     |ACCOUNTING|S     |034  |S   |new     |16       |August     |2001      |female|2            |2020     |Kegalla |\n",
            "|4    |.6014 |3269 (NEW)   |17010 (NEW)|2020   |ECONOMICS        |C     |BUSINESS STUDIES  |C     |ACCOUNTING|B     |036  |S   |new     |7        |August     |2000      |female|2            |2020     |Kegalla |\n",
            "|5    |-.5061|4602 (NEW)   |68521 (NEW)|2020   |POLITICAL SCIENCE|S     |HINDU CIVILIZATION|C     |TAMIL     |S     |022  |S   |new     |9        |January    |2002      |female|2            |2020     |Kegalla |\n",
            "|6    |.0177 |3419 (NEW)   |52426 (NEW)|2020   |POLITICAL SCIENCE|S     |HINDU CIVILIZATION|B     |TAMIL     |S     |028  |F   |new     |31       |December   |2001      |female|2            |2020     |Kegalla |\n",
            "|7    |-.3106|4247 (NEW)   |63760 (NEW)|2020   |POLITICAL SCIENCE|S     |CHRISTIANITY      |C     |TAMIL     |C     |034  |S   |new     |6        |December   |2001      |female|2            |2020     |Kegalla |\n",
            "|8    |-     |-            |-          |2020   |ECONOMICS        |S     |BUSINESS STUDIES  |F     |ACCOUNTING|F     |040  |F   |new     |16       |November   |2000      |female|2            |2020     |Kegalla |\n",
            "|9    |1.0447|2008 (NEW)   |9743 (NEW) |2020   |ECONOMICS        |B     |BUSINESS STUDIES  |C     |ACCOUNTING|A     |046  |C   |new     |18       |June       |2001      |female|2            |2020     |Kegalla |\n",
            "+-----+------+-------------+-----------+-------+-----------------+------+------------------+------+----------+------+-----+----+--------+---------+-----------+----------+------+-------------+---------+--------+\n",
            "only showing top 10 rows\n",
            "\n"
          ]
        }
      ]
    },
    {
      "cell_type": "markdown",
      "source": [
        "We need insert col to do operations"
      ],
      "metadata": {
        "id": "312V_sg-1UIa"
      }
    },
    {
      "cell_type": "code",
      "source": [
        "from pyspark.sql.functions import col"
      ],
      "metadata": {
        "id": "2MpkAiw11Pm9"
      },
      "execution_count": null,
      "outputs": []
    },
    {
      "cell_type": "markdown",
      "source": [
        "filter rows"
      ],
      "metadata": {
        "id": "TZ8BiV1Y0B_b"
      }
    },
    {
      "cell_type": "code",
      "source": [
        "action_films = df.filter(col('sub2') == \"sub2\").count()\n",
        "print(\"Count of sub2 sub2: \" + str(action_films))\n",
        "df.filter(col('sub2') == \"CHRISTIANITY\").show(truncate = False)"
      ],
      "metadata": {
        "colab": {
          "base_uri": "https://localhost:8080/"
        },
        "id": "SiPPtv_C0FUD",
        "outputId": "eee4676c-fc96-4d10-9e3a-b734a6f25a81"
      },
      "execution_count": null,
      "outputs": [
        {
          "output_type": "stream",
          "name": "stdout",
          "text": [
            "Count of sub2 sub2: 0\n",
            "+-----+-------+-------------+-----------+-------+-----------------------------+------+------------+------+-------+------+------+------+--------+---------+-----------+----------+------+-------------+---------+--------+\n",
            "|index|Zscore |district_rank|island_rank|al_year|Subject 1                    |sub1_r|sub2        |sub2_r|sub3   |sub3_r|cgt_r |ge_r  |syllabus|birth_day|birth_month|birth_year|gender|second_column|exam_year|district|\n",
            "+-----+-------+-------------+-----------+-------+-----------------------------+------+------------+------+-------+------+------+------+--------+---------+-----------+----------+------+-------------+---------+--------+\n",
            "|7    |-.3106 |4247 (NEW)   |63760 (NEW)|2020   |POLITICAL SCIENCE            |S     |CHRISTIANITY|C     |TAMIL  |C     |034   |S     |new     |6        |December   |2001      |female|2            |2020     |Kegalla |\n",
            "|68   |.4328  |2422 (NEW)   |36639 (NEW)|2020   |COMMUNICATION & MEDIA STUDIES|C     |CHRISTIANITY|B     |SINHALA|C     |050   |F     |new     |3        |August     |2001      |female|2            |2020     |Kegalla |\n",
            "|72   |.1169  |3182 (NEW)   |48738 (NEW)|2020   |HOME ECONOMICS               |C     |CHRISTIANITY|B     |SINHALA|C     |032   |F     |new     |26       |October    |2001      |female|2            |2020     |Kegalla |\n",
            "|105  |-1.4856|-            |-          |2020   |HOME ECONOMICS               |S     |CHRISTIANITY|F     |SINHALA|S     |028   |F     |new     |1        |September  |2001      |female|2            |2020     |Kegalla |\n",
            "|112  |-.7618 |4847 (NEW)   |71985 (NEW)|2020   |HOME ECONOMICS               |S     |CHRISTIANITY|C     |SINHALA|S     |010   |F     |new     |16       |October    |2001      |female|2            |2020     |Kegalla |\n",
            "|129  |-1.1293|-            |-          |2020   |HOME ECONOMICS               |S     |CHRISTIANITY|C     |SINHALA|F     |032   |S     |new     |27       |January    |2002      |male  |2            |2020     |Kegalla |\n",
            "|130  |-1.0187|-            |-          |2020   |ECONOMICS                    |F     |CHRISTIANITY|S     |SINHALA|C     |032   |C     |new     |12       |June       |2001      |male  |2            |2020     |Kegalla |\n",
            "|137  |-      |-            |-          |2020   |HOME ECONOMICS               |Absent|CHRISTIANITY|Absent|SINHALA|Absent|Absent|Absent|new     |30       |July       |2001      |male  |2            |2020     |Kegalla |\n",
            "|142  |-1.2661|4914 (NEW)   |72996 (NEW)|2020   |HOME ECONOMICS               |S     |CHRISTIANITY|S     |SINHALA|S     |062   |C     |new     |17       |March      |2000      |male  |2            |2020     |Kegalla |\n",
            "|143  |-.7262 |4828 (NEW)   |71699 (NEW)|2020   |HOME ECONOMICS               |C     |CHRISTIANITY|C     |SINHALA|S     |060   |S     |new     |3        |January    |2002      |male  |2            |2020     |Kegalla |\n",
            "|145  |.0413  |3368 (NEW)   |51547 (NEW)|2020   |COMMUNICATION & MEDIA STUDIES|S     |CHRISTIANITY|C     |SINHALA|C     |038   |S     |new     |15       |September  |2000      |male  |2            |2020     |Kegalla |\n",
            "|147  |-1.1342|4913 (NEW)   |72974 (NEW)|2020   |HOME ECONOMICS               |S     |CHRISTIANITY|C     |SINHALA|S     |038   |C     |new     |27       |September  |2001      |male  |2            |2020     |Kegalla |\n",
            "|152  |-      |-            |-          |2020   |HOME ECONOMICS               |Absent|CHRISTIANITY|Absent|SINHALA|Absent|Absent|Absent|new     |16       |March      |2001      |male  |2            |2020     |Kegalla |\n",
            "|306  |-.6600 |-            |-          |2020   |COMMUNICATION & MEDIA STUDIES|S     |CHRISTIANITY|C     |SINHALA|F     |034   |F     |new     |11       |July       |2001      |male  |2            |2020     |Kegalla |\n",
            "|309  |-      |-            |-          |2020   |COMMUNICATION & MEDIA STUDIES|F     |CHRISTIANITY|C     |SINHALA|F     |036   |Absent|new     |25       |December   |2001      |male  |2            |2020     |Kegalla |\n",
            "|314  |-.3359 |4298 (NEW)   |64493 (NEW)|2020   |COMMUNICATION & MEDIA STUDIES|S     |CHRISTIANITY|B     |SINHALA|S     |036   |F     |new     |26       |March      |2001      |male  |2            |2020     |Kegalla |\n",
            "|325  |-.3320 |4290 (NEW)   |64373 (NEW)|2020   |COMMUNICATION & MEDIA STUDIES|S     |CHRISTIANITY|B     |SINHALA|S     |048   |S     |new     |19       |March      |2001      |male  |2            |2020     |Kegalla |\n",
            "|331  |.3378  |2639 (NEW)   |40249 (NEW)|2020   |COMMUNICATION & MEDIA STUDIES|S     |CHRISTIANITY|A     |SINHALA|C     |042   |S     |new     |23       |January    |2002      |male  |2            |2020     |Kegalla |\n",
            "|332  |-      |-            |-          |2020   |ECONOMICS                    |F     |CHRISTIANITY|S     |SINHALA|F     |040   |S     |new     |4        |August     |2001      |male  |2            |2020     |Kegalla |\n",
            "|335  |-      |-            |-          |2020   |GEOGRAPHY                    |F     |CHRISTIANITY|B     |TAMIL  |F     |030   |F     |new     |11       |August     |2000      |male  |2            |2020     |Kegalla |\n",
            "+-----+-------+-------------+-----------+-------+-----------------------------+------+------------+------+-------+------+------+------+--------+---------+-----------+----------+------+-------------+---------+--------+\n",
            "only showing top 20 rows\n",
            "\n"
          ]
        }
      ]
    },
    {
      "cell_type": "markdown",
      "source": [
        "Get data sub3 to sinhala"
      ],
      "metadata": {
        "id": "wjTp29xn1nc9"
      }
    },
    {
      "cell_type": "code",
      "source": [
        "df.filter(col('sub3') == \"SINHALA\").show(truncate = False)"
      ],
      "metadata": {
        "colab": {
          "base_uri": "https://localhost:8080/"
        },
        "id": "Iarw6DkG1nEi",
        "outputId": "cd6613f6-6bd9-4a66-912b-c5644018b31a"
      },
      "execution_count": null,
      "outputs": [
        {
          "output_type": "stream",
          "name": "stdout",
          "text": [
            "+-----+-------+-------------+-----------+-------+--------------------------------------+------+-----------------------------+------+-------+------+------+----+--------+---------+-----------+----------+------+-------------+---------+--------+\n",
            "|index|Zscore |district_rank|island_rank|al_year|Subject 1                             |sub1_r|sub2                         |sub2_r|sub3   |sub3_r|cgt_r |ge_r|syllabus|birth_day|birth_month|birth_year|gender|second_column|exam_year|district|\n",
            "+-----+-------+-------------+-----------+-------+--------------------------------------+------+-----------------------------+------+-------+------+------+----+--------+---------+-----------+----------+------+-------------+---------+--------+\n",
            "|68   |.4328  |2422 (NEW)   |36639 (NEW)|2020   |COMMUNICATION & MEDIA STUDIES         |C     |CHRISTIANITY                 |B     |SINHALA|C     |050   |F   |new     |3        |August     |2001      |female|2            |2020     |Kegalla |\n",
            "|70   |1.2455 |837 (NEW)    |10392 (NEW)|2020   |GEOGRAPHY                             |B     |COMMUNICATION & MEDIA STUDIES|A     |SINHALA|B     |040   |F   |new     |5        |August     |2001      |female|2            |2020     |Kegalla |\n",
            "|71   |.0803  |3277 (NEW)   |50123 (NEW)|2020   |POLITICAL SCIENCE                     |S     |COMMUNICATION & MEDIA STUDIES|C     |SINHALA|C     |038   |S   |new     |20       |May        |2001      |female|2            |2020     |Kegalla |\n",
            "|72   |.1169  |3182 (NEW)   |48738 (NEW)|2020   |HOME ECONOMICS                        |C     |CHRISTIANITY                 |B     |SINHALA|C     |032   |F   |new     |26       |October    |2001      |female|2            |2020     |Kegalla |\n",
            "|73   |-.2263 |4072 (NEW)   |61107 (NEW)|2020   |POLITICAL SCIENCE                     |S     |COMMUNICATION & MEDIA STUDIES|C     |SINHALA|S     |042   |F   |new     |28       |November   |2001      |female|2            |2020     |Kegalla |\n",
            "|76   |.5170  |2227 (NEW)   |33486 (NEW)|2020   |POLITICAL SCIENCE                     |C     |COMMUNICATION & MEDIA STUDIES|C     |SINHALA|C     |024   |S   |new     |14       |December   |2001      |female|2            |2020     |Kegalla |\n",
            "|90   |-      |-            |-          |2020   |POLITICAL SCIENCE                     |F     |LOGIC & SCIENTIFIC METHOD    |F     |SINHALA|S     |036   |F   |new     |16       |November   |2001      |female|2            |2020     |Kegalla |\n",
            "|93   |-      |-            |-          |2020   |INFORMATION & COMMUNICATION TECHNOLOGY|F     |LOGIC & SCIENTIFIC METHOD    |F     |SINHALA|C     |028   |C   |new     |16       |September  |2001      |female|2            |2020     |Kegalla |\n",
            "|102  |-.8613 |-            |-          |2020   |INFORMATION & COMMUNICATION TECHNOLOGY|F     |COMMUNICATION & MEDIA STUDIES|S     |SINHALA|S     |040   |C   |new     |29       |December   |2001      |female|2            |2020     |Kegalla |\n",
            "|105  |-1.4856|-            |-          |2020   |HOME ECONOMICS                        |S     |CHRISTIANITY                 |F     |SINHALA|S     |028   |F   |new     |1        |September  |2001      |female|2            |2020     |Kegalla |\n",
            "|106  |-.1789 |3942 (NEW)   |59526 (NEW)|2020   |GEOGRAPHY                             |C     |COMMUNICATION & MEDIA STUDIES|S     |SINHALA|C     |032   |F   |new     |31       |March      |2001      |female|2            |2020     |Kegalla |\n",
            "|108  |-.0832 |-            |-          |2020   |ECONOMICS                             |F     |COMMUNICATION & MEDIA STUDIES|C     |SINHALA|C     |Absent|S   |new     |13       |March      |2000      |female|2            |2020     |Kegalla |\n",
            "|112  |-.7618 |4847 (NEW)   |71985 (NEW)|2020   |HOME ECONOMICS                        |S     |CHRISTIANITY                 |C     |SINHALA|S     |010   |F   |new     |16       |October    |2001      |female|2            |2020     |Kegalla |\n",
            "|116  |.5976  |-            |-          |2020   |POLITICAL SCIENCE                     |F     |COMMUNICATION & MEDIA STUDIES|B     |SINHALA|B     |026   |S   |new     |12       |December   |2001      |female|2            |2020     |Kegalla |\n",
            "|120  |.0304  |3390 (NEW)   |51953 (NEW)|2020   |POLITICAL SCIENCE                     |S     |COMMUNICATION & MEDIA STUDIES|C     |SINHALA|C     |024   |S   |new     |2        |November   |2001      |female|2            |2020     |Kegalla |\n",
            "|126  |.8481  |1535 (NEW)   |21831 (NEW)|2020   |POLITICAL SCIENCE                     |B     |COMMUNICATION & MEDIA STUDIES|B     |SINHALA|C     |052   |S   |new     |19       |February   |2001      |female|2            |2020     |Kegalla |\n",
            "|129  |-1.1293|-            |-          |2020   |HOME ECONOMICS                        |S     |CHRISTIANITY                 |C     |SINHALA|F     |032   |S   |new     |27       |January    |2002      |male  |2            |2020     |Kegalla |\n",
            "|130  |-1.0187|-            |-          |2020   |ECONOMICS                             |F     |CHRISTIANITY                 |S     |SINHALA|C     |032   |C   |new     |12       |June       |2001      |male  |2            |2020     |Kegalla |\n",
            "|135  |-.6535 |-            |-          |2020   |ECONOMICS                             |F     |COMMUNICATION & MEDIA STUDIES|S     |SINHALA|S     |040   |F   |new     |5        |January    |2002      |male  |2            |2020     |Kegalla |\n",
            "|136  |.2294  |2911 (NEW)   |44395 (NEW)|2020   |HOME ECONOMICS                        |C     |COMMUNICATION & MEDIA STUDIES|C     |SINHALA|C     |034   |F   |new     |18       |June       |2001      |male  |2            |2020     |Kegalla |\n",
            "+-----+-------+-------------+-----------+-------+--------------------------------------+------+-----------------------------+------+-------+------+------+----+--------+---------+-----------+----------+------+-------------+---------+--------+\n",
            "only showing top 20 rows\n",
            "\n"
          ]
        }
      ]
    }
  ]
}